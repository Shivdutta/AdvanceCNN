{
  "nbformat": 4,
  "nbformat_minor": 0,
  "metadata": {
    "colab": {
      "name": "CiFAR10-Fashion_classification_resnet50_new.ipynb",
      "provenance": [],
      "collapsed_sections": [],
      "include_colab_link": true
    },
    "kernelspec": {
      "name": "python3",
      "display_name": "Python 3"
    },
    "accelerator": "GPU"
  },
  "cells": [
    {
      "cell_type": "markdown",
      "metadata": {
        "id": "view-in-github",
        "colab_type": "text"
      },
      "source": [
        "<a href=\"https://colab.research.google.com/github/Shivdutta/AdvanceCNN/blob/master/CiFAR10_Fashion_classification_resnet50_new.ipynb\" target=\"_parent\"><img src=\"https://colab.research.google.com/assets/colab-badge.svg\" alt=\"Open In Colab\"/></a>"
      ]
    },
    {
      "cell_type": "code",
      "metadata": {
        "id": "0elizLx20lPD",
        "colab_type": "code",
        "colab": {
          "base_uri": "https://localhost:8080/",
          "height": 34
        },
        "outputId": "0206af1d-cef5-43da-9a5a-6ecda4d53c7c"
      },
      "source": [
        "from tensorflow.keras.applications.resnet50 import ResNet50, preprocess_input\n",
        "import tensorflow.keras as keras\n",
        "from tensorflow.keras import models\n",
        "from tensorflow.keras import layers\n",
        "from tensorflow.keras import optimizers\n",
        "import tensorflow as tf\n",
        "from keras.utils import np_utils\n",
        "from keras.models import load_model\n",
        "from keras.datasets import cifar10\n",
        "from keras.preprocessing import image\n",
        "import numpy as np\n",
        "import matplotlib.pyplot as plt\n",
        "from PIL import Image\n",
        "import cv2\n",
        "#from keras.applications.vgg16 import VGG16, preprocess_input\n",
        "\n",
        "from tensorflow.keras.preprocessing.image import ImageDataGenerator\n",
        "from tensorflow.keras.layers import AveragePooling2D\n",
        "from tensorflow.keras.layers import Dropout\n",
        "from tensorflow.keras.layers import Flatten\n",
        "from tensorflow.keras.layers import Dense\n",
        "from tensorflow.keras.layers import Input\n",
        "from tensorflow.keras.models import Model\n",
        "from tensorflow.keras.optimizers import Adam\n",
        "from tensorflow.keras.applications import ResNet50\n",
        "from sklearn.metrics import classification_report\n",
        "from imutils import paths\n"
      ],
      "execution_count": 2,
      "outputs": [
        {
          "output_type": "stream",
          "text": [
            "Using TensorFlow backend.\n"
          ],
          "name": "stderr"
        }
      ]
    },
    {
      "cell_type": "code",
      "metadata": {
        "id": "YSZA2qJJFWiG",
        "colab_type": "code",
        "outputId": "5e1ebc5a-90bf-4aee-9f14-749f038d8840",
        "colab": {
          "base_uri": "https://localhost:8080/",
          "height": 34
        }
      },
      "source": [
        "tf.__version__"
      ],
      "execution_count": 3,
      "outputs": [
        {
          "output_type": "execute_result",
          "data": {
            "text/plain": [
              "'2.2.0-rc3'"
            ]
          },
          "metadata": {
            "tags": []
          },
          "execution_count": 3
        }
      ]
    },
    {
      "cell_type": "code",
      "metadata": {
        "id": "0z8FC5ym440h",
        "colab_type": "code",
        "colab": {
          "base_uri": "https://localhost:8080/",
          "height": 50
        },
        "outputId": "2fee07be-8e91-4faa-bf27-5b98d9c4fc62"
      },
      "source": [
        "from google.colab import drive\n",
        "drive.mount('/content/gdrive/', force_remount=True)\n",
        "\n",
        "!unzip -q \"/content/gdrive/My Drive/CNN_Images/VGG_class_data.zip\""
      ],
      "execution_count": 9,
      "outputs": [
        {
          "output_type": "stream",
          "text": [
            "Mounted at /content/gdrive/\n",
            "replace data/test/backpack/00000010.png? [y]es, [n]o, [A]ll, [N]one, [r]ename: A\n"
          ],
          "name": "stdout"
        }
      ]
    },
    {
      "cell_type": "code",
      "metadata": {
        "id": "5lwOggMN5Jej",
        "colab_type": "code",
        "colab": {
          "base_uri": "https://localhost:8080/",
          "height": 34
        },
        "outputId": "c936949b-77dd-49f8-a1e3-b96869d7251e"
      },
      "source": [
        "!ls /content/data"
      ],
      "execution_count": 12,
      "outputs": [
        {
          "output_type": "stream",
          "text": [
            "test  train\n"
          ],
          "name": "stdout"
        }
      ]
    },
    {
      "cell_type": "code",
      "metadata": {
        "id": "gMnLaugWwMgp",
        "colab_type": "code",
        "colab": {}
      },
      "source": [
        "#Give dataset path\n",
        "trainpath = \"/content/data/train\"\n",
        "testpath = \"/content/data/test\"\n",
        "classes = 4\n",
        "Image_Size =128\n",
        "batch_size=20\n",
        "\n",
        "INIT_LR = 1e-4\n",
        "BS = 32\n",
        "NUM_EPOCHS = 20\n",
        "# define the path to the serialized output model after training\n",
        "MODEL_PATH = \"fashion_resnet.model\"\n"
      ],
      "execution_count": 0,
      "outputs": []
    },
    {
      "cell_type": "code",
      "metadata": {
        "id": "RWVo7KDc06tH",
        "colab_type": "code",
        "colab": {
          "base_uri": "https://localhost:8080/",
          "height": 50
        },
        "outputId": "b24e3dca-a033-40cf-903e-04a55ba358c2"
      },
      "source": [
        "baseModel = ResNet50(weights=\"imagenet\", include_top=False,\n",
        "\tinput_tensor=Input(shape=(224, 224, 3)))\n"
      ],
      "execution_count": 4,
      "outputs": [
        {
          "output_type": "stream",
          "text": [
            "Downloading data from https://storage.googleapis.com/tensorflow/keras-applications/resnet/resnet50_weights_tf_dim_ordering_tf_kernels_notop.h5\n",
            "94773248/94765736 [==============================] - 1s 0us/step\n"
          ],
          "name": "stdout"
        }
      ]
    },
    {
      "cell_type": "code",
      "metadata": {
        "id": "bahqztPWYtA2",
        "colab_type": "code",
        "outputId": "ba2bfa5d-f574-45d4-9f34-72798866aa88",
        "colab": {
          "base_uri": "https://localhost:8080/",
          "height": 121
        }
      },
      "source": [
        "from google.colab import drive\n",
        "drive.mount('/content/gdrive/', force_remount=True)\n",
        "\n",
        "!unzip -q \"/content/gdrive/My Drive/CNN_Images/VGG_class_data.zip\""
      ],
      "execution_count": 5,
      "outputs": [
        {
          "output_type": "stream",
          "text": [
            "Go to this URL in a browser: https://accounts.google.com/o/oauth2/auth?client_id=947318989803-6bn6qk8qdgf4n4g3pfee6491hc0brc4i.apps.googleusercontent.com&redirect_uri=urn%3aietf%3awg%3aoauth%3a2.0%3aoob&response_type=code&scope=email%20https%3a%2f%2fwww.googleapis.com%2fauth%2fdocs.test%20https%3a%2f%2fwww.googleapis.com%2fauth%2fdrive%20https%3a%2f%2fwww.googleapis.com%2fauth%2fdrive.photos.readonly%20https%3a%2f%2fwww.googleapis.com%2fauth%2fpeopleapi.readonly\n",
            "\n",
            "Enter your authorization code:\n",
            "··········\n",
            "Mounted at /content/gdrive/\n"
          ],
          "name": "stdout"
        }
      ]
    },
    {
      "cell_type": "code",
      "metadata": {
        "id": "j6oj-8XzY1s1",
        "colab_type": "code",
        "outputId": "c8711fbb-61f1-4acc-d056-40f28b23cbb0",
        "colab": {
          "base_uri": "https://localhost:8080/",
          "height": 34
        }
      },
      "source": [
        "%ls /content/data/"
      ],
      "execution_count": 6,
      "outputs": [
        {
          "output_type": "stream",
          "text": [
            "\u001b[0m\u001b[01;34mtest\u001b[0m/  \u001b[01;34mtrain\u001b[0m/\n"
          ],
          "name": "stdout"
        }
      ]
    },
    {
      "cell_type": "code",
      "metadata": {
        "id": "8Iug2iWNviWf",
        "colab_type": "code",
        "colab": {}
      },
      "source": [
        "#baseModel.summary()"
      ],
      "execution_count": 0,
      "outputs": []
    },
    {
      "cell_type": "code",
      "metadata": {
        "id": "8ZPjaoOO8beV",
        "colab_type": "code",
        "colab": {}
      },
      "source": [
        "# initialize the training training data augmentation object\n",
        "trainAug = ImageDataGenerator(\n",
        "\trotation_range=25,\n",
        "\tzoom_range=0.1,\n",
        "\twidth_shift_range=0.1,\n",
        "\theight_shift_range=0.1,\n",
        "\tshear_range=0.2,\n",
        "\thorizontal_flip=True,\n",
        "\tfill_mode=\"nearest\")\n",
        "# initialize the validation/testing data augmentation object (which\n",
        "# we'll be adding mean subtraction to)\n",
        "valAug = ImageDataGenerator()\n",
        "# define the ImageNet mean subtraction (in RGB order) and set the\n",
        "# the mean subtraction value for each of the data augmentation\n",
        "# objects\n",
        "mean = np.array([123.68, 116.779, 103.939], dtype=\"float32\")\n",
        "trainAug.mean = mean\n",
        "valAug.mean = mean"
      ],
      "execution_count": 0,
      "outputs": []
    },
    {
      "cell_type": "code",
      "metadata": {
        "id": "LngUU_lQ8nR5",
        "colab_type": "code",
        "colab": {
          "base_uri": "https://localhost:8080/",
          "height": 67
        },
        "outputId": "a59bfae2-3652-433a-d13a-8675faf20c10"
      },
      "source": [
        "# initialize the training generator\n",
        "trainGen = trainAug.flow_from_directory(\n",
        "\ttrainpath,\n",
        "\tclass_mode=\"categorical\",\n",
        "\ttarget_size=(224, 224),\n",
        "\tcolor_mode=\"rgb\",\n",
        "\tshuffle=True,\n",
        "\tbatch_size=BS)\n",
        "# initialize the validation generator\n",
        "valGen = valAug.flow_from_directory(\n",
        "\ttestpath,\n",
        "\tclass_mode=\"categorical\",\n",
        "\ttarget_size=(224, 224),\n",
        "\tcolor_mode=\"rgb\",\n",
        "\tshuffle=False,\n",
        "\tbatch_size=BS)\n",
        "# initialize the testing generator\n",
        "testGen = valAug.flow_from_directory(\n",
        "\ttestpath,\n",
        "\tclass_mode=\"categorical\",\n",
        "\ttarget_size=(224, 224),\n",
        "\tcolor_mode=\"rgb\",\n",
        "\tshuffle=False,\n",
        "\tbatch_size=BS)"
      ],
      "execution_count": 22,
      "outputs": [
        {
          "output_type": "stream",
          "text": [
            "Found 475 images belonging to 4 classes.\n",
            "Found 264 images belonging to 4 classes.\n",
            "Found 264 images belonging to 4 classes.\n"
          ],
          "name": "stdout"
        }
      ]
    },
    {
      "cell_type": "code",
      "metadata": {
        "id": "sExkN0NGCpMC",
        "colab_type": "code",
        "colab": {
          "base_uri": "https://localhost:8080/",
          "height": 34
        },
        "outputId": "2318f4a4-6ccf-428d-ac8c-3675395e12c3"
      },
      "source": [
        "# load the ResNet-50 network, ensuring the head FC layer sets are left\n",
        "# off\n",
        "print(\"[INFO] preparing model...\")\n",
        "baseModel = ResNet50(weights=\"imagenet\", include_top=False,\n",
        "\tinput_tensor=Input(shape=(224, 224, 3)))\n",
        "# construct the head of the model that will be placed on top of the\n",
        "# the base model\n",
        "headModel = baseModel.output\n",
        "headModel = AveragePooling2D(pool_size=(7, 7))(headModel)\n",
        "headModel = Flatten(name=\"flatten\")(headModel)\n",
        "headModel = Dense(256, activation=\"relu\")(headModel)\n",
        "headModel = Dropout(0.5)(headModel)\n",
        "headModel = Dense(classes, activation=\"softmax\")(headModel)\n",
        "# place the head FC model on top of the base model (this will become\n",
        "# the actual model we will train)\n",
        "model = Model(inputs=baseModel.input, outputs=headModel)\n",
        "# loop over all layers in the base model and freeze them so they will\n",
        "# *not* be updated during the training process\n",
        "for layer in baseModel.layers:\n",
        "\tlayer.trainable = False"
      ],
      "execution_count": 23,
      "outputs": [
        {
          "output_type": "stream",
          "text": [
            "[INFO] preparing model...\n"
          ],
          "name": "stdout"
        }
      ]
    },
    {
      "cell_type": "code",
      "metadata": {
        "id": "hxfWoeMnzVDI",
        "colab_type": "code",
        "outputId": "2b64a641-dc20-4a3c-f44e-d22cd556a525",
        "colab": {
          "base_uri": "https://localhost:8080/",
          "height": 790
        }
      },
      "source": [
        "# compile the model\n",
        "opt = Adam(lr=INIT_LR, decay=INIT_LR / NUM_EPOCHS)\n",
        "model.compile(loss=\"binary_crossentropy\", optimizer=opt,\tmetrics=[\"accuracy\"])\n",
        "# train the model\n",
        "print(\"[INFO] training model...\")\n",
        "H = model.fit_generator(\n",
        "\ttrainGen,\n",
        "\tsteps_per_epoch=len(list(paths.list_files(trainpath))) // BS,\n",
        "\tvalidation_data=valGen,\n",
        "\tvalidation_steps=len(list(paths.list_files(testpath))) // BS,\n",
        "\tepochs=NUM_EPOCHS)"
      ],
      "execution_count": 27,
      "outputs": [
        {
          "output_type": "stream",
          "text": [
            "[INFO] training model...\n",
            "WARNING:tensorflow:From <ipython-input-27-a5773ce48aea>:10: Model.fit_generator (from tensorflow.python.keras.engine.training) is deprecated and will be removed in a future version.\n",
            "Instructions for updating:\n",
            "Please use Model.fit, which supports generators.\n"
          ],
          "name": "stdout"
        },
        {
          "output_type": "stream",
          "text": [
            "/usr/local/lib/python3.6/dist-packages/PIL/Image.py:932: UserWarning: Palette images with Transparency expressed in bytes should be converted to RGBA images\n",
            "  \"Palette images with Transparency expressed in bytes should be \"\n"
          ],
          "name": "stderr"
        },
        {
          "output_type": "stream",
          "text": [
            "Epoch 1/20\n",
            "14/14 [==============================] - 16s 1s/step - loss: 0.6181 - accuracy: 0.4353 - val_loss: 0.2877 - val_accuracy: 0.7695\n",
            "Epoch 2/20\n",
            "14/14 [==============================] - 16s 1s/step - loss: 0.3124 - accuracy: 0.7088 - val_loss: 0.1471 - val_accuracy: 0.9297\n",
            "Epoch 3/20\n",
            "14/14 [==============================] - 16s 1s/step - loss: 0.1738 - accuracy: 0.8578 - val_loss: 0.0939 - val_accuracy: 0.9609\n",
            "Epoch 4/20\n",
            "14/14 [==============================] - 16s 1s/step - loss: 0.1113 - accuracy: 0.9165 - val_loss: 0.0717 - val_accuracy: 0.9609\n",
            "Epoch 5/20\n",
            "14/14 [==============================] - 17s 1s/step - loss: 0.0918 - accuracy: 0.9278 - val_loss: 0.0657 - val_accuracy: 0.9648\n",
            "Epoch 6/20\n",
            "14/14 [==============================] - 16s 1s/step - loss: 0.0892 - accuracy: 0.9300 - val_loss: 0.0530 - val_accuracy: 0.9648\n",
            "Epoch 7/20\n",
            "14/14 [==============================] - 17s 1s/step - loss: 0.0620 - accuracy: 0.9526 - val_loss: 0.0494 - val_accuracy: 0.9688\n",
            "Epoch 8/20\n",
            "14/14 [==============================] - 15s 1s/step - loss: 0.0586 - accuracy: 0.9616 - val_loss: 0.0546 - val_accuracy: 0.9688\n",
            "Epoch 9/20\n",
            "14/14 [==============================] - 16s 1s/step - loss: 0.0518 - accuracy: 0.9594 - val_loss: 0.0422 - val_accuracy: 0.9727\n",
            "Epoch 10/20\n",
            "14/14 [==============================] - 16s 1s/step - loss: 0.0570 - accuracy: 0.9571 - val_loss: 0.0447 - val_accuracy: 0.9688\n",
            "Epoch 11/20\n",
            "14/14 [==============================] - 16s 1s/step - loss: 0.0414 - accuracy: 0.9684 - val_loss: 0.0406 - val_accuracy: 0.9727\n",
            "Epoch 12/20\n",
            "14/14 [==============================] - 15s 1s/step - loss: 0.0328 - accuracy: 0.9819 - val_loss: 0.0443 - val_accuracy: 0.9688\n",
            "Epoch 13/20\n",
            "14/14 [==============================] - 17s 1s/step - loss: 0.0419 - accuracy: 0.9661 - val_loss: 0.0422 - val_accuracy: 0.9727\n",
            "Epoch 14/20\n",
            "14/14 [==============================] - 15s 1s/step - loss: 0.0331 - accuracy: 0.9819 - val_loss: 0.0439 - val_accuracy: 0.9766\n",
            "Epoch 15/20\n",
            "14/14 [==============================] - 17s 1s/step - loss: 0.0287 - accuracy: 0.9865 - val_loss: 0.0383 - val_accuracy: 0.9766\n",
            "Epoch 16/20\n",
            "14/14 [==============================] - 16s 1s/step - loss: 0.0244 - accuracy: 0.9821 - val_loss: 0.0374 - val_accuracy: 0.9766\n",
            "Epoch 17/20\n",
            "14/14 [==============================] - 16s 1s/step - loss: 0.0313 - accuracy: 0.9774 - val_loss: 0.0375 - val_accuracy: 0.9766\n",
            "Epoch 18/20\n",
            "14/14 [==============================] - 16s 1s/step - loss: 0.0241 - accuracy: 0.9865 - val_loss: 0.0384 - val_accuracy: 0.9766\n",
            "Epoch 19/20\n",
            "14/14 [==============================] - 16s 1s/step - loss: 0.0211 - accuracy: 0.9887 - val_loss: 0.0373 - val_accuracy: 0.9766\n",
            "Epoch 20/20\n",
            "14/14 [==============================] - 16s 1s/step - loss: 0.0209 - accuracy: 0.9865 - val_loss: 0.0326 - val_accuracy: 0.9805\n"
          ],
          "name": "stdout"
        }
      ]
    },
    {
      "cell_type": "code",
      "metadata": {
        "id": "tIGlTKsD-kSs",
        "colab_type": "code",
        "colab": {
          "base_uri": "https://localhost:8080/",
          "height": 202
        },
        "outputId": "38ea8da5-0b87-4c30-ba6d-ab0907696ecf"
      },
      "source": [
        "# reset the testing generator and then use our trained model to\n",
        "# make predictions on the data\n",
        "print(\"[INFO] evaluating network...\")\n",
        "testGen.reset()\n",
        "predIdxs = model.predict_generator(testGen,\tsteps=(len(list(paths.list_files(testpath))) // BS) + 1)\n",
        "predIdxs"
      ],
      "execution_count": 30,
      "outputs": [
        {
          "output_type": "stream",
          "text": [
            "[INFO] evaluating network...\n"
          ],
          "name": "stdout"
        },
        {
          "output_type": "stream",
          "text": [
            "/usr/local/lib/python3.6/dist-packages/PIL/Image.py:932: UserWarning: Palette images with Transparency expressed in bytes should be converted to RGBA images\n",
            "  \"Palette images with Transparency expressed in bytes should be \"\n"
          ],
          "name": "stderr"
        },
        {
          "output_type": "execute_result",
          "data": {
            "text/plain": [
              "array([[9.9991500e-01, 7.9214105e-06, 1.9859346e-05, 5.7301353e-05],\n",
              "       [9.9874395e-01, 4.0965947e-06, 1.9369242e-04, 1.0583905e-03],\n",
              "       [9.9716115e-01, 2.9229256e-04, 1.6245105e-04, 2.3841052e-03],\n",
              "       ...,\n",
              "       [1.2710016e-02, 2.0468456e-03, 3.6163307e-03, 9.8162675e-01],\n",
              "       [5.2102428e-06, 3.7475405e-04, 9.4299985e-06, 9.9961060e-01],\n",
              "       [1.3053449e-05, 1.4790909e-06, 2.7253518e-06, 9.9998271e-01]],\n",
              "      dtype=float32)"
            ]
          },
          "metadata": {
            "tags": []
          },
          "execution_count": 30
        }
      ]
    },
    {
      "cell_type": "code",
      "metadata": {
        "id": "vqY84TSsAr8l",
        "colab_type": "code",
        "colab": {
          "base_uri": "https://localhost:8080/",
          "height": 218
        },
        "outputId": "9b08dfec-6a2c-42f5-d8db-a9338f9ac428"
      },
      "source": [
        "# for each image in the testing set we need to find the index of the\n",
        "# label with corresponding largest predicted probability\n",
        "predIdxs = np.argmax(predIdxs, axis=1)\n",
        "predIdxs"
      ],
      "execution_count": 31,
      "outputs": [
        {
          "output_type": "execute_result",
          "data": {
            "text/plain": [
              "array([0, 0, 0, 0, 0, 0, 0, 0, 0, 0, 0, 3, 0, 0, 0, 0, 0, 0, 0, 0, 0, 0,\n",
              "       0, 0, 0, 0, 0, 0, 0, 0, 0, 0, 0, 0, 0, 0, 0, 0, 0, 0, 0, 0, 0, 0,\n",
              "       0, 0, 0, 0, 0, 0, 0, 0, 0, 0, 0, 0, 0, 0, 0, 0, 0, 0, 0, 0, 0, 0,\n",
              "       1, 1, 1, 1, 1, 1, 1, 1, 1, 1, 3, 1, 1, 1, 1, 1, 1, 1, 1, 1, 1, 1,\n",
              "       1, 1, 1, 1, 1, 1, 1, 1, 1, 1, 1, 1, 1, 1, 1, 1, 1, 1, 1, 1, 1, 1,\n",
              "       1, 1, 1, 1, 1, 1, 1, 1, 1, 1, 1, 1, 1, 1, 1, 1, 1, 1, 1, 1, 1, 1,\n",
              "       2, 2, 2, 2, 2, 2, 2, 1, 2, 2, 2, 2, 2, 2, 2, 2, 2, 2, 2, 2, 2, 2,\n",
              "       2, 2, 2, 2, 2, 2, 2, 2, 2, 2, 2, 2, 2, 2, 2, 1, 2, 2, 2, 2, 2, 2,\n",
              "       2, 2, 2, 2, 2, 2, 2, 2, 2, 2, 2, 2, 2, 2, 2, 2, 3, 2, 2, 2, 2, 2,\n",
              "       3, 3, 3, 3, 3, 3, 3, 3, 3, 3, 3, 3, 3, 3, 3, 3, 3, 3, 3, 3, 3, 3,\n",
              "       3, 3, 3, 3, 3, 3, 3, 3, 3, 3, 3, 3, 3, 3, 3, 3, 3, 3, 3, 3, 3, 3,\n",
              "       3, 3, 3, 3, 3, 3, 3, 3, 3, 3, 3, 3, 3, 3, 3, 3, 0, 3, 3, 3, 3, 3])"
            ]
          },
          "metadata": {
            "tags": []
          },
          "execution_count": 31
        }
      ]
    },
    {
      "cell_type": "code",
      "metadata": {
        "id": "VXn2O-lyA94e",
        "colab_type": "code",
        "colab": {
          "base_uri": "https://localhost:8080/",
          "height": 218
        },
        "outputId": "11cd3dea-8fa4-40ec-ee28-cf27532e9ed2"
      },
      "source": [
        "# show a nicely formatted classification report\n",
        "print(classification_report(testGen.classes, predIdxs,\n",
        "\ttarget_names=testGen.class_indices.keys()))\n",
        "# serialize the model to disk\n",
        "print(\"[INFO] saving model...\")\n",
        "model.save(MODEL_PATH, save_format=\"h5\")"
      ],
      "execution_count": 32,
      "outputs": [
        {
          "output_type": "stream",
          "text": [
            "              precision    recall  f1-score   support\n",
            "\n",
            "    backpack       0.98      0.98      0.98        66\n",
            "    footwear       0.97      0.98      0.98        66\n",
            "     glasses       1.00      0.95      0.98        66\n",
            "       watch       0.96      0.98      0.97        66\n",
            "\n",
            "    accuracy                           0.98       264\n",
            "   macro avg       0.98      0.98      0.98       264\n",
            "weighted avg       0.98      0.98      0.98       264\n",
            "\n",
            "[INFO] saving model...\n"
          ],
          "name": "stdout"
        }
      ]
    },
    {
      "cell_type": "code",
      "metadata": {
        "id": "Yum6vkWJ7B7J",
        "colab_type": "code",
        "colab": {}
      },
      "source": [
        "model_loaded = tf.keras.models.load_model(MODEL_PATH)"
      ],
      "execution_count": 0,
      "outputs": []
    },
    {
      "cell_type": "code",
      "metadata": {
        "id": "a06YvS7e7VcH",
        "colab_type": "code",
        "colab": {
          "base_uri": "https://localhost:8080/",
          "height": 34
        },
        "outputId": "6d3e0fed-1ad4-49b5-b8d7-bb7efc66df70"
      },
      "source": [
        "!pwd"
      ],
      "execution_count": 34,
      "outputs": [
        {
          "output_type": "stream",
          "text": [
            "/content\n"
          ],
          "name": "stdout"
        }
      ]
    },
    {
      "cell_type": "code",
      "metadata": {
        "id": "HpMvzuPYCBsE",
        "colab_type": "code",
        "colab": {
          "base_uri": "https://localhost:8080/",
          "height": 252
        },
        "outputId": "26b960f7-ace5-463c-a83d-58d96f063280"
      },
      "source": [
        "!ls /content/data/test/backpack"
      ],
      "execution_count": 36,
      "outputs": [
        {
          "output_type": "stream",
          "text": [
            "00000010.png  00000269.png  00000335.jpg  00000350.jpg\t00000368.jpg\n",
            "00000018.png  00000270.png  00000336.jpg  00000351.jpg\t00000370.png\n",
            "00000027.png  00000275.png  00000337.jpg  00000352.jpg\t00000371.jpg\n",
            "00000053.png  00000324.jpg  00000338.jpg  00000353.jpg\t00000372.jpg\n",
            "00000069.png  00000325.jpg  00000340.jpg  00000354.jpg\t00000374.jpg\n",
            "00000131.png  00000326.jpg  00000341.png  00000355.jpg\t00000375.jpg\n",
            "00000137.png  00000327.jpg  00000342.jpg  00000356.jpg\t00000376.jpg\n",
            "00000198.png  00000328.jpg  00000343.jpg  00000357.jpg\t00000377.jpg\n",
            "00000199.png  00000329.png  00000344.jpg  00000359.jpg\t00000378.jpg\n",
            "00000208.png  00000330.png  00000345.jpg  00000360.jpg\t00000379.jpg\n",
            "00000214.png  00000331.jpg  00000346.jpg  00000361.jpg\n",
            "00000217.png  00000332.jpg  00000347.jpg  00000362.jpg\n",
            "00000245.png  00000333.jpg  00000348.jpg  00000363.jpg\n",
            "00000267.png  00000334.jpg  00000349.jpg  00000366.jpg\n"
          ],
          "name": "stdout"
        }
      ]
    },
    {
      "cell_type": "code",
      "metadata": {
        "id": "cU_urfF77yff",
        "colab_type": "code",
        "colab": {
          "base_uri": "https://localhost:8080/",
          "height": 162
        },
        "outputId": "ae6c0586-e473-4e2a-bb8f-5fba4bcbd183"
      },
      "source": [
        "from matplotlib.pyplot import imshow\n",
        "import cv2\n",
        "from google.colab.patches import cv2_imshow\n",
        "from skimage import io\n",
        "\n",
        "input_img= \"/content/data/test/backpack/00000359.jpg\"\n",
        "input_img = io.imread(input_img)\n",
        "input_img = cv2.resize(input_img, dsize=(128, 128), interpolation=cv2.INTER_CUBIC)\n",
        "print('Input Dimensions - Image : ',input_img.shape)\n",
        "cv2_imshow(input_img)"
      ],
      "execution_count": 37,
      "outputs": [
        {
          "output_type": "stream",
          "text": [
            "Input Dimensions - Image :  (128, 128, 3)\n"
          ],
          "name": "stdout"
        },
        {
          "output_type": "display_data",
          "data": {
            "image/png": "[encoded data removed]",
            "text/plain": [
              "<PIL.Image.Image image mode=RGB size=128x128 at 0x7F241B4A95C0>"
            ]
          },
          "metadata": {
            "tags": []
          }
        }
      ]
    },
    {
      "cell_type": "code",
      "metadata": {
        "id": "PNDQwJ18Xk_S",
        "colab_type": "code",
        "colab": {}
      },
      "source": [
        "img_path = input_img\n"
      ],
      "execution_count": 0,
      "outputs": []
    }
  ]
}