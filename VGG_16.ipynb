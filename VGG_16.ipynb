{
  "nbformat": 4,
  "nbformat_minor": 0,
  "metadata": {
    "colab": {
      "name": "VGG-16.ipynb",
      "provenance": [],
      "collapsed_sections": [],
      "authorship_tag": "ABX9TyN9ndq3V4HOHdbTZOeiWO55",
      "include_colab_link": true
    },
    "kernelspec": {
      "name": "python3",
      "display_name": "Python 3"
    },
    "accelerator": "GPU"
  },
  "cells": [
    {
      "cell_type": "markdown",
      "metadata": {
        "id": "view-in-github",
        "colab_type": "text"
      },
      "source": [
        "<a href=\"https://colab.research.google.com/github/Shivdutta/AdvanceCNN/blob/master/VGG_16.ipynb\" target=\"_parent\"><img src=\"https://colab.research.google.com/assets/colab-badge.svg\" alt=\"Open In Colab\"/></a>"
      ]
    },
    {
      "cell_type": "code",
      "metadata": {
        "id": "2TdxvD0V0y7d",
        "colab_type": "code",
        "outputId": "9ce39473-d05e-4916-8cb0-4aef6f197abb",
        "colab": {
          "base_uri": "https://localhost:8080/",
          "height": 121
        }
      },
      "source": [
        "from google.colab import drive\n",
        "drive.mount('/content/gdrive/', force_remount=True)\n",
        "\n",
        "!unzip -q \"/content/gdrive/My Drive/CNN_Images/ImagesPred.zip\""
      ],
      "execution_count": 0,
      "outputs": [
        {
          "output_type": "stream",
          "text": [
            "Go to this URL in a browser: https://accounts.google.com/o/oauth2/auth?client_id=947318989803-6bn6qk8qdgf4n4g3pfee6491hc0brc4i.apps.googleusercontent.com&redirect_uri=urn%3aietf%3awg%3aoauth%3a2.0%3aoob&response_type=code&scope=email%20https%3a%2f%2fwww.googleapis.com%2fauth%2fdocs.test%20https%3a%2f%2fwww.googleapis.com%2fauth%2fdrive%20https%3a%2f%2fwww.googleapis.com%2fauth%2fdrive.photos.readonly%20https%3a%2f%2fwww.googleapis.com%2fauth%2fpeopleapi.readonly\n",
            "\n",
            "Enter your authorization code:\n",
            "··········\n",
            "Mounted at /content/gdrive/\n"
          ],
          "name": "stdout"
        }
      ]
    },
    {
      "cell_type": "code",
      "metadata": {
        "id": "Ug27Nh1P1PSr",
        "colab_type": "code",
        "outputId": "58af7bb6-8e83-470c-e0c8-e18c28588a4d",
        "colab": {
          "base_uri": "https://localhost:8080/",
          "height": 34
        }
      },
      "source": [
        "%ls /content/ImagesPred/Images/"
      ],
      "execution_count": 0,
      "outputs": [
        {
          "output_type": "stream",
          "text": [
            "\u001b[0m\u001b[01;34mTest\u001b[0m/  \u001b[01;34mTrain\u001b[0m/\n"
          ],
          "name": "stdout"
        }
      ]
    },
    {
      "cell_type": "code",
      "metadata": {
        "id": "pAtlw4Kb7E-b",
        "colab_type": "code",
        "colab": {}
      },
      "source": [
        "from keras.layers import Input, Lambda, Dense, Flatten, Dropout\n",
        "from keras.models import Model\n",
        "from keras.applications.vgg16 import VGG16\n",
        "from keras.applications.vgg16 import preprocess_input\n",
        "from keras.preprocessing import image\n",
        "from keras.preprocessing.image import ImageDataGenerator\n",
        "from keras.models import Sequential\n",
        "import numpy as np\n",
        "from glob import glob\n",
        "import matplotlib.pyplot as plt\n",
        "from datetime import datetime\n",
        "from keras.callbacks import ModelCheckpoint, TensorBoard\n",
        "from keras.callbacks import LearningRateScheduler\n",
        "from keras.callbacks import ReduceLROnPlateau\n",
        "from keras.models import Sequential\n",
        "from keras.layers import Conv2D\n",
        "from keras.layers import MaxPooling2D\n",
        "from keras.layers import Flatten\n",
        "from keras.layers import Dense\n",
        "from keras.layers import GlobalAveragePooling2D, Dense, Dropout\n",
        "from keras.models import Model\n",
        "from keras import optimizers \n",
        "from keras.callbacks import TensorBoard,ModelCheckpoint\n",
        "import warnings\n",
        "warnings.filterwarnings(\"ignore\", category=FutureWarning)\n",
        "from time import time\n",
        "import math"
      ],
      "execution_count": 0,
      "outputs": []
    },
    {
      "cell_type": "code",
      "metadata": {
        "id": "izUfDiWLGW1W",
        "colab_type": "code",
        "colab": {}
      },
      "source": [
        ""
      ],
      "execution_count": 0,
      "outputs": []
    },
    {
      "cell_type": "code",
      "metadata": {
        "id": "9Rte3Gma7OZf",
        "colab_type": "code",
        "colab": {}
      },
      "source": [
        "#Give dataset path\n",
        "trainpath = \"/content/ImagesPred/Images/Train\"\n",
        "testpath = \"/content/ImagesPred/Images/Test\""
      ],
      "execution_count": 0,
      "outputs": []
    },
    {
      "cell_type": "code",
      "metadata": {
        "id": "YCPH4kQOGXnd",
        "colab_type": "code",
        "colab": {}
      },
      "source": [
        ""
      ],
      "execution_count": 0,
      "outputs": []
    },
    {
      "cell_type": "code",
      "metadata": {
        "id": "H3OJw34F8gg0",
        "colab_type": "code",
        "outputId": "5bc35757-d56b-439a-8f68-8b1a4bfd0d78",
        "colab": {
          "base_uri": "https://localhost:8080/",
          "height": 50
        }
      },
      "source": [
        "batch_size=16\n",
        "Image_Size =32\n",
        "  \n",
        "train_datagen = image.ImageDataGenerator(\n",
        "        rescale=1./255,\n",
        "        shear_range=0.2,\n",
        "        zoom_range=0.2,\n",
        "        horizontal_flip=True)\n",
        " \n",
        "test_datagen = image.ImageDataGenerator(rescale=1. / 255)\n",
        "\n",
        "train_generator = train_datagen.flow_from_directory(\n",
        "        trainpath,\n",
        "        target_size=(Image_Size, Image_Size),\n",
        "        batch_size=batch_size,\n",
        "        class_mode='categorical')\n",
        " \n",
        "validation_generator = test_datagen.flow_from_directory(\n",
        "        testpath,\n",
        "        target_size=(Image_Size,Image_Size),\n",
        "        batch_size=batch_size,\n",
        "        class_mode='categorical')"
      ],
      "execution_count": 0,
      "outputs": [
        {
          "output_type": "stream",
          "text": [
            "Found 32 images belonging to 4 classes.\n",
            "Found 8 images belonging to 4 classes.\n"
          ],
          "name": "stdout"
        }
      ]
    },
    {
      "cell_type": "code",
      "metadata": {
        "id": "qtvMzXtZGYZU",
        "colab_type": "code",
        "colab": {}
      },
      "source": [
        ""
      ],
      "execution_count": 0,
      "outputs": []
    },
    {
      "cell_type": "code",
      "metadata": {
        "id": "WnLzB1mh8hYY",
        "colab_type": "code",
        "outputId": "cb20f64e-a447-45ed-fae4-aaa479895cf6",
        "colab": {
          "base_uri": "https://localhost:8080/",
          "height": 50
        }
      },
      "source": [
        "from keras import applications\n",
        "\n",
        "# This will load the whole VGG16 network, including the top Dense layers.\n",
        "# Note: by specifying the shape of top layers, input tensor shape is forced\n",
        "# to be (224, 224, 3), therefore you can use it only on 224x224 images.\n",
        "#vgg_model = applications.VGG16(weights='imagenet', include_top=True)\n",
        "\n",
        "# If you are only interested in convolution filters. Note that by not\n",
        "# specifying the shape of top layers, the input tensor shape is (None, None, 3),\n",
        "# so you can use them for any size of images.\n",
        "#vgg_model = applications.VGG16(weights='imagenet', include_top=False)\n",
        "\n",
        "# If you want to specify input tensor\n",
        "from keras.layers import Input\n",
        "input_tensor = Input(shape=(Image_Size, Image_Size, 3))\n",
        "vgg_model = applications.VGG16(weights='imagenet',\n",
        "                               include_top=False,\n",
        "                               input_tensor=input_tensor)\n",
        "\n",
        "# To see the models' architecture and layer names, run the following\n",
        "#vgg_model.summary()"
      ],
      "execution_count": 0,
      "outputs": [
        {
          "output_type": "stream",
          "text": [
            "Downloading data from https://github.com/fchollet/deep-learning-models/releases/download/v0.1/vgg16_weights_tf_dim_ordering_tf_kernels_notop.h5\n",
            "58892288/58889256 [==============================] - 3s 0us/step\n"
          ],
          "name": "stdout"
        }
      ]
    },
    {
      "cell_type": "code",
      "metadata": {
        "id": "Dg9eKpvTGZI9",
        "colab_type": "code",
        "colab": {}
      },
      "source": [
        ""
      ],
      "execution_count": 0,
      "outputs": []
    },
    {
      "cell_type": "code",
      "metadata": {
        "id": "4bcDGU2kKj8b",
        "colab_type": "code",
        "outputId": "d3d6629b-1ba9-4dd5-d695-c302293856a7",
        "colab": {
          "base_uri": "https://localhost:8080/",
          "height": 336
        }
      },
      "source": [
        "# Creating dictionary that maps layer names to the layers\n",
        "layer_dict = dict([(layer.name, layer) for layer in vgg_model.layers])\n",
        "\n",
        "layer_dict"
      ],
      "execution_count": 0,
      "outputs": [
        {
          "output_type": "execute_result",
          "data": {
            "text/plain": [
              "{'block1_conv1': <keras.layers.convolutional.Conv2D at 0x7f046e8f25f8>,\n",
              " 'block1_conv2': <keras.layers.convolutional.Conv2D at 0x7f042c16ce80>,\n",
              " 'block1_pool': <keras.layers.pooling.MaxPooling2D at 0x7f042c16cba8>,\n",
              " 'block2_conv1': <keras.layers.convolutional.Conv2D at 0x7f042c16c780>,\n",
              " 'block2_conv2': <keras.layers.convolutional.Conv2D at 0x7f04204c7ba8>,\n",
              " 'block2_pool': <keras.layers.pooling.MaxPooling2D at 0x7f04204d2748>,\n",
              " 'block3_conv1': <keras.layers.convolutional.Conv2D at 0x7f04204d2588>,\n",
              " 'block3_conv2': <keras.layers.convolutional.Conv2D at 0x7f04204dc9b0>,\n",
              " 'block3_conv3': <keras.layers.convolutional.Conv2D at 0x7f04204dce10>,\n",
              " 'block3_pool': <keras.layers.pooling.MaxPooling2D at 0x7f04204e4898>,\n",
              " 'block4_conv1': <keras.layers.convolutional.Conv2D at 0x7f04204e46d8>,\n",
              " 'block4_conv2': <keras.layers.convolutional.Conv2D at 0x7f04204ea3c8>,\n",
              " 'block4_conv3': <keras.layers.convolutional.Conv2D at 0x7f04204eada0>,\n",
              " 'block4_pool': <keras.layers.pooling.MaxPooling2D at 0x7f04204ef9e8>,\n",
              " 'block5_conv1': <keras.layers.convolutional.Conv2D at 0x7f04204ef828>,\n",
              " 'block5_conv2': <keras.layers.convolutional.Conv2D at 0x7f04204f6518>,\n",
              " 'block5_conv3': <keras.layers.convolutional.Conv2D at 0x7f04204f6e10>,\n",
              " 'block5_pool': <keras.layers.pooling.MaxPooling2D at 0x7f04204ffb38>,\n",
              " 'input_1': <keras.engine.input_layer.InputLayer at 0x7f046e8f6828>}"
            ]
          },
          "metadata": {
            "tags": []
          },
          "execution_count": 11
        }
      ]
    },
    {
      "cell_type": "code",
      "metadata": {
        "id": "Vm2vY-RNXGvs",
        "colab_type": "code",
        "outputId": "be49116d-49d8-422e-9659-5eaabde4b376",
        "colab": {
          "base_uri": "https://localhost:8080/",
          "height": 34
        }
      },
      "source": [
        "# Getting output tensor of the last VGG layer that we want to include . It is not block5_pool\n",
        "x = layer_dict['block2_pool'].output\n",
        "x"
      ],
      "execution_count": 0,
      "outputs": [
        {
          "output_type": "execute_result",
          "data": {
            "text/plain": [
              "<tf.Tensor 'block2_pool/MaxPool:0' shape=(None, 8, 8, 128) dtype=float32>"
            ]
          },
          "metadata": {
            "tags": []
          },
          "execution_count": 12
        }
      ]
    },
    {
      "cell_type": "code",
      "metadata": {
        "id": "G9QPmpr7sv1f",
        "colab_type": "code",
        "outputId": "5dfb77fd-ae95-4ae4-c962-3ed9d91f2f14",
        "colab": {
          "base_uri": "https://localhost:8080/",
          "height": 34
        }
      },
      "source": [
        "len(layer_dict)"
      ],
      "execution_count": 0,
      "outputs": [
        {
          "output_type": "execute_result",
          "data": {
            "text/plain": [
              "19"
            ]
          },
          "metadata": {
            "tags": []
          },
          "execution_count": 13
        }
      ]
    },
    {
      "cell_type": "code",
      "metadata": {
        "id": "jZTspGsmWwaE",
        "colab_type": "code",
        "outputId": "e47cee5d-49e2-401f-8d04-3799b86356a1",
        "colab": {
          "base_uri": "https://localhost:8080/",
          "height": 34
        }
      },
      "source": [
        "# We are considering upto 7th layer which is x variable\n",
        "# Stacking a new simple convolutional network on top of it    \n",
        "x = Conv2D(filters=64, kernel_size=(3, 3), activation='relu')(x)\n",
        "x = MaxPooling2D(pool_size=(2, 2))(x)\n",
        "x = Flatten()(x)\n",
        "x = Dense(256, activation='relu')(x)\n",
        "# x = GlobalAveragePooling2D()(x) #change ndim from 2 to 4\n",
        "x = Dropout(0.5)(x)\n",
        "x = Dense(4, activation='softmax')(x)\n",
        "x"
      ],
      "execution_count": 0,
      "outputs": [
        {
          "output_type": "execute_result",
          "data": {
            "text/plain": [
              "<tf.Tensor 'dense_2/Softmax:0' shape=(None, 4) dtype=float32>"
            ]
          },
          "metadata": {
            "tags": []
          },
          "execution_count": 14
        }
      ]
    },
    {
      "cell_type": "code",
      "metadata": {
        "id": "RZJCa9otyQNY",
        "colab_type": "code",
        "outputId": "cb2fc42a-fdb9-435d-ac54-44d2c8df3877",
        "colab": {
          "base_uri": "https://localhost:8080/",
          "height": 50
        }
      },
      "source": [
        "x.shape,x"
      ],
      "execution_count": 0,
      "outputs": [
        {
          "output_type": "execute_result",
          "data": {
            "text/plain": [
              "(TensorShape([None, 4]),\n",
              " <tf.Tensor 'dense_2/Softmax:0' shape=(None, 4) dtype=float32>)"
            ]
          },
          "metadata": {
            "tags": []
          },
          "execution_count": 15
        }
      ]
    },
    {
      "cell_type": "code",
      "metadata": {
        "id": "70MXVpNyllXU",
        "colab_type": "code",
        "colab": {}
      },
      "source": [
        "def sch(epoch):\n",
        "  return round(0.004 * 1/(1 + 0.319 * epoch), 10)  \n",
        "\n",
        "\n",
        "decay_rate = []\n",
        "drop = 0.5\n",
        "epochs_drop = 1.0\n",
        "initial_lrate = 0.1\n",
        "\n",
        "def step_decay(epoch):    \n",
        "    # LearningRate = InitialLearningRate * DropRate^floor(Epoch / EpochDrop)\n",
        "    lrate = initial_lrate * math.pow(drop, math.floor((1+epoch)/epochs_drop))\n",
        "    \n",
        "    # Store the decaying learning rate in a list\n",
        "    decay_rate.append(lrate)\n",
        "    \n",
        "    return lrate\n",
        "\n",
        "def scheduler(epoch):\n",
        "  if epoch < 10:\n",
        "    return 0.001\n",
        "  else:\n",
        "    return 0.001 * math.exp(0.1 * (10 - epoch))"
      ],
      "execution_count": 0,
      "outputs": []
    },
    {
      "cell_type": "code",
      "metadata": {
        "id": "nA1icPR9yDOM",
        "colab_type": "code",
        "outputId": "0d4b18a9-0d72-44d0-f332-ce0483fdf8f3",
        "colab": {
          "base_uri": "https://localhost:8080/",
          "height": 50
        }
      },
      "source": [
        "# Creating new model. Please note that this is NOT a Sequential() model.\n",
        "from keras.models import Model\n",
        "custom_model = Model(input=vgg_model.input, output=x)\n",
        "\n",
        "# Make sure that the pre-trained bottom layers are not trainable\n",
        "for layer in custom_model.layers[:6]:\n",
        "    layer.trainable = False\n",
        "\n",
        "tensorboard = TensorBoard(log_dir=\"logs/{}\".format(time()))\n",
        "layer.output.shape\n",
        "#custom_model.summary()\n",
        "\n",
        "filepath = '/content/gdrive/My Drive/saved models/vgg16_model.h5'\n",
        "checkpoint = ModelCheckpoint  (filepath, monitor='val_loss', verbose=1,save_best_only=True,save_weights_only=False, mode='auto',period=1)\n",
        "\n",
        "#Initialize Learning Rate Scheduler Callback\n",
        "#lr = LearningRateScheduler(sch)\n",
        "#lr = LearningRateScheduler(step_decay)\n",
        "lr = LearningRateScheduler(scheduler)\n",
        "\n",
        "lr_reducer = ReduceLROnPlateau(factor=np.sqrt(0.1),\n",
        "                               cooldown=0,\n",
        "                               patience=5,\n",
        "                               min_lr=0.5e-6)\n",
        "\n",
        "callbacks_list = [checkpoint,lr]"
      ],
      "execution_count": 0,
      "outputs": [
        {
          "output_type": "stream",
          "text": [
            "/usr/local/lib/python3.6/dist-packages/ipykernel_launcher.py:2: UserWarning: Update your `Model` call to the Keras 2 API: `Model(inputs=Tensor(\"in..., outputs=Tensor(\"de...)`\n",
            "  \n"
          ],
          "name": "stderr"
        }
      ]
    },
    {
      "cell_type": "code",
      "metadata": {
        "id": "qgNx7xJl2mNL",
        "colab_type": "code",
        "colab": {}
      },
      "source": [
        "opt = optimizers.Adam()\n",
        "custom_model.compile(loss=\"categorical_crossentropy\", optimizer=opt,metrics=[\"accuracy\"])"
      ],
      "execution_count": 0,
      "outputs": []
    },
    {
      "cell_type": "code",
      "metadata": {
        "id": "hMBhZDV_wAfh",
        "colab_type": "code",
        "outputId": "be947637-5e7f-4223-e4f2-ad693cf28639",
        "colab": {
          "base_uri": "https://localhost:8080/",
          "height": 1000
        }
      },
      "source": [
        "history = custom_model.fit_generator(train_generator,\n",
        "                         steps_per_epoch = len(train_generator),\n",
        "                         epochs = 200,\n",
        "                         validation_data = validation_generator,callbacks=callbacks_list) \n",
        "#validation_steps=len(validation_generator)"
      ],
      "execution_count": 0,
      "outputs": [
        {
          "output_type": "stream",
          "text": [
            "Epoch 1/200\n",
            "2/2 [==============================] - 11s 5s/step - loss: 19.2560 - accuracy: 0.2812 - val_loss: 15.4792 - val_accuracy: 0.2500\n",
            "\n",
            "Epoch 00001: val_loss improved from inf to 15.47919, saving model to /content/gdrive/My Drive/saved models/vgg16_model.h5\n",
            "Epoch 2/200\n",
            "2/2 [==============================] - 7s 4s/step - loss: 17.1216 - accuracy: 0.2500 - val_loss: 4.2528 - val_accuracy: 0.3750\n",
            "\n",
            "Epoch 00002: val_loss improved from 15.47919 to 4.25282, saving model to /content/gdrive/My Drive/saved models/vgg16_model.h5\n",
            "Epoch 3/200\n",
            "2/2 [==============================] - 7s 4s/step - loss: 9.3315 - accuracy: 0.5312 - val_loss: 5.2064 - val_accuracy: 0.3750\n",
            "\n",
            "Epoch 00003: val_loss did not improve from 4.25282\n",
            "Epoch 4/200\n",
            "2/2 [==============================] - 7s 4s/step - loss: 9.3850 - accuracy: 0.3125 - val_loss: 2.9578 - val_accuracy: 0.2500\n",
            "\n",
            "Epoch 00004: val_loss improved from 4.25282 to 2.95783, saving model to /content/gdrive/My Drive/saved models/vgg16_model.h5\n",
            "Epoch 5/200\n",
            "2/2 [==============================] - 7s 4s/step - loss: 3.5998 - accuracy: 0.6250 - val_loss: 5.1438 - val_accuracy: 0.2500\n",
            "\n",
            "Epoch 00005: val_loss did not improve from 2.95783\n",
            "Epoch 6/200\n",
            "2/2 [==============================] - 7s 4s/step - loss: 3.5744 - accuracy: 0.4375 - val_loss: 4.7415 - val_accuracy: 0.2500\n",
            "\n",
            "Epoch 00006: val_loss did not improve from 2.95783\n",
            "Epoch 7/200\n",
            "2/2 [==============================] - 7s 4s/step - loss: 2.6925 - accuracy: 0.6875 - val_loss: 3.6679 - val_accuracy: 0.2500\n",
            "\n",
            "Epoch 00007: val_loss did not improve from 2.95783\n",
            "Epoch 8/200\n",
            "2/2 [==============================] - 7s 4s/step - loss: 2.6001 - accuracy: 0.5312 - val_loss: 3.3189 - val_accuracy: 0.5000\n",
            "\n",
            "Epoch 00008: val_loss did not improve from 2.95783\n",
            "Epoch 9/200\n",
            "2/2 [==============================] - 7s 4s/step - loss: 1.4396 - accuracy: 0.6562 - val_loss: 3.3122 - val_accuracy: 0.5000\n",
            "\n",
            "Epoch 00009: val_loss did not improve from 2.95783\n",
            "Epoch 10/200\n",
            "2/2 [==============================] - 7s 4s/step - loss: 1.6564 - accuracy: 0.6875 - val_loss: 2.9810 - val_accuracy: 0.3750\n",
            "\n",
            "Epoch 00010: val_loss did not improve from 2.95783\n",
            "Epoch 11/200\n",
            "2/2 [==============================] - 7s 4s/step - loss: 1.2489 - accuracy: 0.6250 - val_loss: 3.2609 - val_accuracy: 0.3750\n",
            "\n",
            "Epoch 00011: val_loss did not improve from 2.95783\n",
            "Epoch 12/200\n",
            "2/2 [==============================] - 7s 4s/step - loss: 1.4266 - accuracy: 0.6875 - val_loss: 3.5763 - val_accuracy: 0.5000\n",
            "\n",
            "Epoch 00012: val_loss did not improve from 2.95783\n",
            "Epoch 13/200\n",
            "2/2 [==============================] - 7s 4s/step - loss: 1.0910 - accuracy: 0.7188 - val_loss: 3.6616 - val_accuracy: 0.5000\n",
            "\n",
            "Epoch 00013: val_loss did not improve from 2.95783\n",
            "Epoch 14/200\n",
            "2/2 [==============================] - 7s 4s/step - loss: 1.0710 - accuracy: 0.7188 - val_loss: 3.0268 - val_accuracy: 0.3750\n",
            "\n",
            "Epoch 00014: val_loss did not improve from 2.95783\n",
            "Epoch 15/200\n",
            "2/2 [==============================] - 7s 4s/step - loss: 0.7304 - accuracy: 0.8750 - val_loss: 2.7117 - val_accuracy: 0.3750\n",
            "\n",
            "Epoch 00015: val_loss improved from 2.95783 to 2.71170, saving model to /content/gdrive/My Drive/saved models/vgg16_model.h5\n",
            "Epoch 16/200\n",
            "2/2 [==============================] - 7s 4s/step - loss: 0.3113 - accuracy: 0.9062 - val_loss: 2.3721 - val_accuracy: 0.3750\n",
            "\n",
            "Epoch 00016: val_loss improved from 2.71170 to 2.37214, saving model to /content/gdrive/My Drive/saved models/vgg16_model.h5\n",
            "Epoch 17/200\n",
            "2/2 [==============================] - 7s 4s/step - loss: 0.3667 - accuracy: 0.8750 - val_loss: 2.1776 - val_accuracy: 0.3750\n",
            "\n",
            "Epoch 00017: val_loss improved from 2.37214 to 2.17764, saving model to /content/gdrive/My Drive/saved models/vgg16_model.h5\n",
            "Epoch 18/200\n",
            "2/2 [==============================] - 7s 4s/step - loss: 0.3290 - accuracy: 0.9062 - val_loss: 2.1455 - val_accuracy: 0.3750\n",
            "\n",
            "Epoch 00018: val_loss improved from 2.17764 to 2.14547, saving model to /content/gdrive/My Drive/saved models/vgg16_model.h5\n",
            "Epoch 19/200\n",
            "2/2 [==============================] - 7s 4s/step - loss: 0.8053 - accuracy: 0.7812 - val_loss: 2.2041 - val_accuracy: 0.3750\n",
            "\n",
            "Epoch 00019: val_loss did not improve from 2.14547\n",
            "Epoch 20/200\n",
            "2/2 [==============================] - 7s 4s/step - loss: 0.4893 - accuracy: 0.8125 - val_loss: 2.2471 - val_accuracy: 0.3750\n",
            "\n",
            "Epoch 00020: val_loss did not improve from 2.14547\n",
            "Epoch 21/200\n",
            "2/2 [==============================] - 7s 4s/step - loss: 0.5373 - accuracy: 0.8125 - val_loss: 2.1918 - val_accuracy: 0.3750\n",
            "\n",
            "Epoch 00021: val_loss did not improve from 2.14547\n",
            "Epoch 22/200\n",
            "2/2 [==============================] - 7s 4s/step - loss: 0.3292 - accuracy: 0.8125 - val_loss: 2.1590 - val_accuracy: 0.5000\n",
            "\n",
            "Epoch 00022: val_loss did not improve from 2.14547\n",
            "Epoch 23/200\n",
            "2/2 [==============================] - 7s 4s/step - loss: 0.4924 - accuracy: 0.8125 - val_loss: 2.1119 - val_accuracy: 0.5000\n",
            "\n",
            "Epoch 00023: val_loss improved from 2.14547 to 2.11186, saving model to /content/gdrive/My Drive/saved models/vgg16_model.h5\n",
            "Epoch 24/200\n",
            "2/2 [==============================] - 7s 4s/step - loss: 0.3626 - accuracy: 0.8125 - val_loss: 2.0693 - val_accuracy: 0.5000\n",
            "\n",
            "Epoch 00024: val_loss improved from 2.11186 to 2.06931, saving model to /content/gdrive/My Drive/saved models/vgg16_model.h5\n",
            "Epoch 25/200\n",
            "2/2 [==============================] - 7s 4s/step - loss: 0.5497 - accuracy: 0.7500 - val_loss: 2.0629 - val_accuracy: 0.6250\n",
            "\n",
            "Epoch 00025: val_loss improved from 2.06931 to 2.06289, saving model to /content/gdrive/My Drive/saved models/vgg16_model.h5\n",
            "Epoch 26/200\n",
            "2/2 [==============================] - 7s 4s/step - loss: 0.2585 - accuracy: 0.9062 - val_loss: 2.1003 - val_accuracy: 0.6250\n",
            "\n",
            "Epoch 00026: val_loss did not improve from 2.06289\n",
            "Epoch 27/200\n",
            "2/2 [==============================] - 7s 4s/step - loss: 0.3310 - accuracy: 0.8125 - val_loss: 2.1406 - val_accuracy: 0.6250\n",
            "\n",
            "Epoch 00027: val_loss did not improve from 2.06289\n",
            "Epoch 28/200\n",
            "2/2 [==============================] - 7s 4s/step - loss: 0.2802 - accuracy: 0.8125 - val_loss: 2.1640 - val_accuracy: 0.6250\n",
            "\n",
            "Epoch 00028: val_loss did not improve from 2.06289\n",
            "Epoch 29/200\n",
            "2/2 [==============================] - 7s 4s/step - loss: 0.3331 - accuracy: 0.9375 - val_loss: 2.1941 - val_accuracy: 0.6250\n",
            "\n",
            "Epoch 00029: val_loss did not improve from 2.06289\n",
            "Epoch 30/200\n",
            "2/2 [==============================] - 7s 4s/step - loss: 0.6113 - accuracy: 0.8125 - val_loss: 2.2048 - val_accuracy: 0.5000\n",
            "\n",
            "Epoch 00030: val_loss did not improve from 2.06289\n",
            "Epoch 31/200\n",
            "2/2 [==============================] - 7s 4s/step - loss: 0.2103 - accuracy: 0.8750 - val_loss: 2.2065 - val_accuracy: 0.5000\n",
            "\n",
            "Epoch 00031: val_loss did not improve from 2.06289\n",
            "Epoch 32/200\n",
            "2/2 [==============================] - 7s 4s/step - loss: 0.2234 - accuracy: 0.8750 - val_loss: 2.1987 - val_accuracy: 0.5000\n",
            "\n",
            "Epoch 00032: val_loss did not improve from 2.06289\n",
            "Epoch 33/200\n",
            "2/2 [==============================] - 7s 4s/step - loss: 0.4877 - accuracy: 0.8750 - val_loss: 2.2009 - val_accuracy: 0.5000\n",
            "\n",
            "Epoch 00033: val_loss did not improve from 2.06289\n",
            "Epoch 34/200\n",
            "2/2 [==============================] - 7s 4s/step - loss: 0.4909 - accuracy: 0.8125 - val_loss: 2.2113 - val_accuracy: 0.5000\n",
            "\n",
            "Epoch 00034: val_loss did not improve from 2.06289\n",
            "Epoch 35/200\n",
            "2/2 [==============================] - 7s 4s/step - loss: 0.1963 - accuracy: 0.8750 - val_loss: 2.2276 - val_accuracy: 0.6250\n",
            "\n",
            "Epoch 00035: val_loss did not improve from 2.06289\n",
            "Epoch 36/200\n",
            "2/2 [==============================] - 7s 3s/step - loss: 0.7539 - accuracy: 0.9062 - val_loss: 2.2183 - val_accuracy: 0.5000\n",
            "\n",
            "Epoch 00036: val_loss did not improve from 2.06289\n",
            "Epoch 37/200\n",
            "2/2 [==============================] - 7s 4s/step - loss: 0.1805 - accuracy: 0.9375 - val_loss: 2.1986 - val_accuracy: 0.5000\n",
            "\n",
            "Epoch 00037: val_loss did not improve from 2.06289\n",
            "Epoch 38/200\n",
            "2/2 [==============================] - 7s 4s/step - loss: 0.3253 - accuracy: 0.8750 - val_loss: 2.1869 - val_accuracy: 0.5000\n",
            "\n",
            "Epoch 00038: val_loss did not improve from 2.06289\n",
            "Epoch 39/200\n",
            "2/2 [==============================] - 7s 4s/step - loss: 0.3236 - accuracy: 0.8750 - val_loss: 2.1668 - val_accuracy: 0.5000\n",
            "\n",
            "Epoch 00039: val_loss did not improve from 2.06289\n",
            "Epoch 40/200\n",
            "2/2 [==============================] - 7s 3s/step - loss: 0.2973 - accuracy: 0.9375 - val_loss: 2.1481 - val_accuracy: 0.5000\n",
            "\n",
            "Epoch 00040: val_loss did not improve from 2.06289\n",
            "Epoch 41/200\n",
            "2/2 [==============================] - 7s 4s/step - loss: 0.3693 - accuracy: 0.8438 - val_loss: 2.1355 - val_accuracy: 0.5000\n",
            "\n",
            "Epoch 00041: val_loss did not improve from 2.06289\n",
            "Epoch 42/200\n",
            "2/2 [==============================] - 7s 4s/step - loss: 0.2974 - accuracy: 0.9062 - val_loss: 2.1361 - val_accuracy: 0.5000\n",
            "\n",
            "Epoch 00042: val_loss did not improve from 2.06289\n",
            "Epoch 43/200\n",
            "2/2 [==============================] - 7s 4s/step - loss: 0.4031 - accuracy: 0.9062 - val_loss: 2.1408 - val_accuracy: 0.5000\n",
            "\n",
            "Epoch 00043: val_loss did not improve from 2.06289\n",
            "Epoch 44/200\n",
            "2/2 [==============================] - 7s 4s/step - loss: 0.1540 - accuracy: 0.9375 - val_loss: 2.1521 - val_accuracy: 0.5000\n",
            "\n",
            "Epoch 00044: val_loss did not improve from 2.06289\n",
            "Epoch 45/200\n",
            "2/2 [==============================] - 7s 4s/step - loss: 0.4689 - accuracy: 0.8438 - val_loss: 2.1745 - val_accuracy: 0.5000\n",
            "\n",
            "Epoch 00045: val_loss did not improve from 2.06289\n",
            "Epoch 46/200\n",
            "2/2 [==============================] - 7s 4s/step - loss: 0.4832 - accuracy: 0.8750 - val_loss: 2.1889 - val_accuracy: 0.5000\n",
            "\n",
            "Epoch 00046: val_loss did not improve from 2.06289\n",
            "Epoch 47/200\n",
            "2/2 [==============================] - 7s 4s/step - loss: 0.0870 - accuracy: 0.9375 - val_loss: 2.1949 - val_accuracy: 0.5000\n",
            "\n",
            "Epoch 00047: val_loss did not improve from 2.06289\n",
            "Epoch 48/200\n",
            "2/2 [==============================] - 7s 4s/step - loss: 0.3514 - accuracy: 0.9062 - val_loss: 2.1924 - val_accuracy: 0.5000\n",
            "\n",
            "Epoch 00048: val_loss did not improve from 2.06289\n",
            "Epoch 49/200\n",
            "2/2 [==============================] - 7s 4s/step - loss: 0.1587 - accuracy: 0.9688 - val_loss: 2.1905 - val_accuracy: 0.5000\n",
            "\n",
            "Epoch 00049: val_loss did not improve from 2.06289\n",
            "Epoch 50/200\n",
            "2/2 [==============================] - 7s 4s/step - loss: 0.2134 - accuracy: 0.8750 - val_loss: 2.1869 - val_accuracy: 0.5000\n",
            "\n",
            "Epoch 00050: val_loss did not improve from 2.06289\n",
            "Epoch 51/200\n",
            "2/2 [==============================] - 7s 4s/step - loss: 0.0187 - accuracy: 1.0000 - val_loss: 2.1847 - val_accuracy: 0.5000\n",
            "\n",
            "Epoch 00051: val_loss did not improve from 2.06289\n",
            "Epoch 52/200\n",
            "2/2 [==============================] - 7s 4s/step - loss: 0.2511 - accuracy: 0.9062 - val_loss: 2.1793 - val_accuracy: 0.5000\n",
            "\n",
            "Epoch 00052: val_loss did not improve from 2.06289\n",
            "Epoch 53/200\n",
            "2/2 [==============================] - 7s 4s/step - loss: 0.2007 - accuracy: 0.9062 - val_loss: 2.1783 - val_accuracy: 0.5000\n",
            "\n",
            "Epoch 00053: val_loss did not improve from 2.06289\n",
            "Epoch 54/200\n",
            "2/2 [==============================] - 7s 3s/step - loss: 0.3561 - accuracy: 0.9062 - val_loss: 2.1770 - val_accuracy: 0.5000\n",
            "\n",
            "Epoch 00054: val_loss did not improve from 2.06289\n",
            "Epoch 55/200\n",
            "2/2 [==============================] - 7s 4s/step - loss: 0.2246 - accuracy: 0.9062 - val_loss: 2.1751 - val_accuracy: 0.5000\n",
            "\n",
            "Epoch 00055: val_loss did not improve from 2.06289\n",
            "Epoch 56/200\n",
            "2/2 [==============================] - 7s 4s/step - loss: 0.3056 - accuracy: 0.9062 - val_loss: 2.1714 - val_accuracy: 0.5000\n",
            "\n",
            "Epoch 00056: val_loss did not improve from 2.06289\n",
            "Epoch 57/200\n",
            "2/2 [==============================] - 7s 4s/step - loss: 0.2765 - accuracy: 0.8750 - val_loss: 2.1648 - val_accuracy: 0.5000\n",
            "\n",
            "Epoch 00057: val_loss did not improve from 2.06289\n",
            "Epoch 58/200\n",
            "2/2 [==============================] - 7s 4s/step - loss: 0.1545 - accuracy: 0.9375 - val_loss: 2.1615 - val_accuracy: 0.5000\n",
            "\n",
            "Epoch 00058: val_loss did not improve from 2.06289\n",
            "Epoch 59/200\n",
            "2/2 [==============================] - 7s 4s/step - loss: 0.3523 - accuracy: 0.8438 - val_loss: 2.1583 - val_accuracy: 0.5000\n",
            "\n",
            "Epoch 00059: val_loss did not improve from 2.06289\n",
            "Epoch 60/200\n",
            "2/2 [==============================] - 7s 4s/step - loss: 0.3884 - accuracy: 0.8750 - val_loss: 2.1568 - val_accuracy: 0.5000\n",
            "\n",
            "Epoch 00060: val_loss did not improve from 2.06289\n",
            "Epoch 61/200\n",
            "2/2 [==============================] - 7s 4s/step - loss: 0.2420 - accuracy: 0.8750 - val_loss: 2.1554 - val_accuracy: 0.5000\n",
            "\n",
            "Epoch 00061: val_loss did not improve from 2.06289\n",
            "Epoch 62/200\n",
            "2/2 [==============================] - 7s 4s/step - loss: 0.0964 - accuracy: 0.9688 - val_loss: 2.1536 - val_accuracy: 0.5000\n",
            "\n",
            "Epoch 00062: val_loss did not improve from 2.06289\n",
            "Epoch 63/200\n",
            "2/2 [==============================] - 7s 4s/step - loss: 0.2865 - accuracy: 0.9062 - val_loss: 2.1516 - val_accuracy: 0.5000\n",
            "\n",
            "Epoch 00063: val_loss did not improve from 2.06289\n",
            "Epoch 64/200\n",
            "2/2 [==============================] - 7s 3s/step - loss: 0.3057 - accuracy: 0.9062 - val_loss: 2.1505 - val_accuracy: 0.5000\n",
            "\n",
            "Epoch 00064: val_loss did not improve from 2.06289\n",
            "Epoch 65/200\n",
            "2/2 [==============================] - 7s 4s/step - loss: 0.1903 - accuracy: 0.9062 - val_loss: 2.1505 - val_accuracy: 0.5000\n",
            "\n",
            "Epoch 00065: val_loss did not improve from 2.06289\n",
            "Epoch 66/200\n",
            "2/2 [==============================] - 7s 4s/step - loss: 0.5907 - accuracy: 0.7812 - val_loss: 2.1507 - val_accuracy: 0.5000\n",
            "\n",
            "Epoch 00066: val_loss did not improve from 2.06289\n",
            "Epoch 67/200\n",
            "2/2 [==============================] - 7s 4s/step - loss: 0.0561 - accuracy: 1.0000 - val_loss: 2.1510 - val_accuracy: 0.5000\n",
            "\n",
            "Epoch 00067: val_loss did not improve from 2.06289\n",
            "Epoch 68/200\n",
            "2/2 [==============================] - 7s 4s/step - loss: 0.0794 - accuracy: 0.9688 - val_loss: 2.1511 - val_accuracy: 0.5000\n",
            "\n",
            "Epoch 00068: val_loss did not improve from 2.06289\n",
            "Epoch 69/200\n",
            "2/2 [==============================] - 7s 4s/step - loss: 0.3109 - accuracy: 0.9062 - val_loss: 2.1520 - val_accuracy: 0.5000\n",
            "\n",
            "Epoch 00069: val_loss did not improve from 2.06289\n",
            "Epoch 70/200\n",
            "2/2 [==============================] - 7s 4s/step - loss: 0.4134 - accuracy: 0.8750 - val_loss: 2.1519 - val_accuracy: 0.5000\n",
            "\n",
            "Epoch 00070: val_loss did not improve from 2.06289\n",
            "Epoch 71/200\n",
            "2/2 [==============================] - 7s 4s/step - loss: 0.3205 - accuracy: 0.8438 - val_loss: 2.1524 - val_accuracy: 0.5000\n",
            "\n",
            "Epoch 00071: val_loss did not improve from 2.06289\n",
            "Epoch 72/200\n",
            "2/2 [==============================] - 7s 4s/step - loss: 0.3090 - accuracy: 0.8750 - val_loss: 2.1531 - val_accuracy: 0.5000\n",
            "\n",
            "Epoch 00072: val_loss did not improve from 2.06289\n",
            "Epoch 73/200\n",
            "2/2 [==============================] - 7s 4s/step - loss: 0.2724 - accuracy: 0.8438 - val_loss: 2.1531 - val_accuracy: 0.5000\n",
            "\n",
            "Epoch 00073: val_loss did not improve from 2.06289\n",
            "Epoch 74/200\n",
            "2/2 [==============================] - 7s 4s/step - loss: 0.1239 - accuracy: 0.9375 - val_loss: 2.1531 - val_accuracy: 0.5000\n",
            "\n",
            "Epoch 00074: val_loss did not improve from 2.06289\n",
            "Epoch 75/200\n",
            "2/2 [==============================] - 7s 4s/step - loss: 0.0941 - accuracy: 1.0000 - val_loss: 2.1529 - val_accuracy: 0.5000\n",
            "\n",
            "Epoch 00075: val_loss did not improve from 2.06289\n",
            "Epoch 76/200\n",
            "2/2 [==============================] - 7s 4s/step - loss: 0.3986 - accuracy: 0.9375 - val_loss: 2.1525 - val_accuracy: 0.5000\n",
            "\n",
            "Epoch 00076: val_loss did not improve from 2.06289\n",
            "Epoch 77/200\n",
            "2/2 [==============================] - 7s 4s/step - loss: 0.1881 - accuracy: 0.8750 - val_loss: 2.1524 - val_accuracy: 0.5000\n",
            "\n",
            "Epoch 00077: val_loss did not improve from 2.06289\n",
            "Epoch 78/200\n",
            "2/2 [==============================] - 7s 4s/step - loss: 0.3566 - accuracy: 0.8750 - val_loss: 2.1518 - val_accuracy: 0.5000\n",
            "\n",
            "Epoch 00078: val_loss did not improve from 2.06289\n",
            "Epoch 79/200\n",
            "2/2 [==============================] - 7s 3s/step - loss: 0.2550 - accuracy: 0.9062 - val_loss: 2.1515 - val_accuracy: 0.5000\n",
            "\n",
            "Epoch 00079: val_loss did not improve from 2.06289\n",
            "Epoch 80/200\n",
            "2/2 [==============================] - 7s 4s/step - loss: 0.3203 - accuracy: 0.8750 - val_loss: 2.1515 - val_accuracy: 0.5000\n",
            "\n",
            "Epoch 00080: val_loss did not improve from 2.06289\n",
            "Epoch 81/200\n",
            "2/2 [==============================] - 7s 4s/step - loss: 0.1925 - accuracy: 0.9375 - val_loss: 2.1515 - val_accuracy: 0.5000\n",
            "\n",
            "Epoch 00081: val_loss did not improve from 2.06289\n",
            "Epoch 82/200\n",
            "2/2 [==============================] - 7s 4s/step - loss: 0.2473 - accuracy: 0.9375 - val_loss: 2.1515 - val_accuracy: 0.5000\n",
            "\n",
            "Epoch 00082: val_loss did not improve from 2.06289\n",
            "Epoch 83/200\n",
            "2/2 [==============================] - 7s 4s/step - loss: 0.1558 - accuracy: 0.9375 - val_loss: 2.1516 - val_accuracy: 0.5000\n",
            "\n",
            "Epoch 00083: val_loss did not improve from 2.06289\n",
            "Epoch 84/200\n",
            "2/2 [==============================] - 7s 4s/step - loss: 0.4852 - accuracy: 0.8438 - val_loss: 2.1518 - val_accuracy: 0.5000\n",
            "\n",
            "Epoch 00084: val_loss did not improve from 2.06289\n",
            "Epoch 85/200\n",
            "2/2 [==============================] - 7s 3s/step - loss: 0.2688 - accuracy: 0.9375 - val_loss: 2.1520 - val_accuracy: 0.5000\n",
            "\n",
            "Epoch 00085: val_loss did not improve from 2.06289\n",
            "Epoch 86/200\n",
            "2/2 [==============================] - 7s 3s/step - loss: 0.1684 - accuracy: 0.9375 - val_loss: 2.1524 - val_accuracy: 0.5000\n",
            "\n",
            "Epoch 00086: val_loss did not improve from 2.06289\n",
            "Epoch 87/200\n",
            "2/2 [==============================] - 7s 3s/step - loss: 0.5728 - accuracy: 0.7812 - val_loss: 2.1528 - val_accuracy: 0.5000\n",
            "\n",
            "Epoch 00087: val_loss did not improve from 2.06289\n",
            "Epoch 88/200\n",
            "2/2 [==============================] - 7s 3s/step - loss: 0.3092 - accuracy: 0.9062 - val_loss: 2.1529 - val_accuracy: 0.5000\n",
            "\n",
            "Epoch 00088: val_loss did not improve from 2.06289\n",
            "Epoch 89/200\n",
            "2/2 [==============================] - 7s 3s/step - loss: 0.4843 - accuracy: 0.8750 - val_loss: 2.1531 - val_accuracy: 0.5000\n",
            "\n",
            "Epoch 00089: val_loss did not improve from 2.06289\n",
            "Epoch 90/200\n",
            "2/2 [==============================] - 7s 4s/step - loss: 0.0889 - accuracy: 1.0000 - val_loss: 2.1534 - val_accuracy: 0.5000\n",
            "\n",
            "Epoch 00090: val_loss did not improve from 2.06289\n",
            "Epoch 91/200\n",
            "2/2 [==============================] - 7s 4s/step - loss: 0.4642 - accuracy: 0.8750 - val_loss: 2.1537 - val_accuracy: 0.5000\n",
            "\n",
            "Epoch 00091: val_loss did not improve from 2.06289\n",
            "Epoch 92/200\n",
            "2/2 [==============================] - 7s 3s/step - loss: 0.3512 - accuracy: 0.8750 - val_loss: 2.1540 - val_accuracy: 0.5000\n",
            "\n",
            "Epoch 00092: val_loss did not improve from 2.06289\n",
            "Epoch 93/200\n",
            "2/2 [==============================] - 7s 3s/step - loss: 0.1364 - accuracy: 0.9375 - val_loss: 2.1544 - val_accuracy: 0.5000\n",
            "\n",
            "Epoch 00093: val_loss did not improve from 2.06289\n",
            "Epoch 94/200\n",
            "2/2 [==============================] - 7s 3s/step - loss: 0.3247 - accuracy: 0.8438 - val_loss: 2.1546 - val_accuracy: 0.5000\n",
            "\n",
            "Epoch 00094: val_loss did not improve from 2.06289\n",
            "Epoch 95/200\n",
            "2/2 [==============================] - 7s 3s/step - loss: 0.1895 - accuracy: 0.9688 - val_loss: 2.1548 - val_accuracy: 0.5000\n",
            "\n",
            "Epoch 00095: val_loss did not improve from 2.06289\n",
            "Epoch 96/200\n",
            "2/2 [==============================] - 7s 3s/step - loss: 0.5831 - accuracy: 0.8125 - val_loss: 2.1550 - val_accuracy: 0.5000\n",
            "\n",
            "Epoch 00096: val_loss did not improve from 2.06289\n",
            "Epoch 97/200\n",
            "2/2 [==============================] - 7s 4s/step - loss: 0.1901 - accuracy: 0.8750 - val_loss: 2.1551 - val_accuracy: 0.5000\n",
            "\n",
            "Epoch 00097: val_loss did not improve from 2.06289\n",
            "Epoch 98/200\n",
            "2/2 [==============================] - 7s 4s/step - loss: 0.5746 - accuracy: 0.8125 - val_loss: 2.1553 - val_accuracy: 0.5000\n",
            "\n",
            "Epoch 00098: val_loss did not improve from 2.06289\n",
            "Epoch 99/200\n",
            "2/2 [==============================] - 7s 4s/step - loss: 0.1210 - accuracy: 0.9688 - val_loss: 2.1554 - val_accuracy: 0.5000\n",
            "\n",
            "Epoch 00099: val_loss did not improve from 2.06289\n",
            "Epoch 100/200\n",
            "2/2 [==============================] - 7s 4s/step - loss: 0.2260 - accuracy: 0.9062 - val_loss: 2.1556 - val_accuracy: 0.5000\n",
            "\n",
            "Epoch 00100: val_loss did not improve from 2.06289\n",
            "Epoch 101/200\n",
            "2/2 [==============================] - 7s 4s/step - loss: 0.2973 - accuracy: 0.9375 - val_loss: 2.1557 - val_accuracy: 0.5000\n",
            "\n",
            "Epoch 00101: val_loss did not improve from 2.06289\n",
            "Epoch 102/200\n",
            "2/2 [==============================] - 7s 3s/step - loss: 0.0635 - accuracy: 1.0000 - val_loss: 2.1558 - val_accuracy: 0.5000\n",
            "\n",
            "Epoch 00102: val_loss did not improve from 2.06289\n",
            "Epoch 103/200\n",
            "2/2 [==============================] - 7s 4s/step - loss: 0.2673 - accuracy: 0.8750 - val_loss: 2.1559 - val_accuracy: 0.5000\n",
            "\n",
            "Epoch 00103: val_loss did not improve from 2.06289\n",
            "Epoch 104/200\n",
            "2/2 [==============================] - 7s 4s/step - loss: 0.4580 - accuracy: 0.7188 - val_loss: 2.1560 - val_accuracy: 0.5000\n",
            "\n",
            "Epoch 00104: val_loss did not improve from 2.06289\n",
            "Epoch 105/200\n",
            "2/2 [==============================] - 7s 3s/step - loss: 0.1170 - accuracy: 0.9375 - val_loss: 2.1561 - val_accuracy: 0.5000\n",
            "\n",
            "Epoch 00105: val_loss did not improve from 2.06289\n",
            "Epoch 106/200\n",
            "2/2 [==============================] - 7s 4s/step - loss: 0.4931 - accuracy: 0.9062 - val_loss: 2.1561 - val_accuracy: 0.5000\n",
            "\n",
            "Epoch 00106: val_loss did not improve from 2.06289\n",
            "Epoch 107/200\n",
            "2/2 [==============================] - 7s 4s/step - loss: 0.4747 - accuracy: 0.9375 - val_loss: 2.1561 - val_accuracy: 0.5000\n",
            "\n",
            "Epoch 00107: val_loss did not improve from 2.06289\n",
            "Epoch 108/200\n",
            "2/2 [==============================] - 7s 4s/step - loss: 0.0831 - accuracy: 0.9688 - val_loss: 2.1561 - val_accuracy: 0.5000\n",
            "\n",
            "Epoch 00108: val_loss did not improve from 2.06289\n",
            "Epoch 109/200\n",
            "2/2 [==============================] - 7s 3s/step - loss: 0.1209 - accuracy: 0.9688 - val_loss: 2.1561 - val_accuracy: 0.5000\n",
            "\n",
            "Epoch 00109: val_loss did not improve from 2.06289\n",
            "Epoch 110/200\n",
            "2/2 [==============================] - 7s 4s/step - loss: 0.3256 - accuracy: 0.8750 - val_loss: 2.1561 - val_accuracy: 0.5000\n",
            "\n",
            "Epoch 00110: val_loss did not improve from 2.06289\n",
            "Epoch 111/200\n",
            "2/2 [==============================] - 7s 3s/step - loss: 0.4747 - accuracy: 0.8125 - val_loss: 2.1562 - val_accuracy: 0.5000\n",
            "\n",
            "Epoch 00111: val_loss did not improve from 2.06289\n",
            "Epoch 112/200\n",
            "2/2 [==============================] - 7s 4s/step - loss: 0.1398 - accuracy: 0.9375 - val_loss: 2.1562 - val_accuracy: 0.5000\n",
            "\n",
            "Epoch 00112: val_loss did not improve from 2.06289\n",
            "Epoch 113/200\n",
            "2/2 [==============================] - 7s 4s/step - loss: 0.2012 - accuracy: 0.9062 - val_loss: 2.1562 - val_accuracy: 0.5000\n",
            "\n",
            "Epoch 00113: val_loss did not improve from 2.06289\n",
            "Epoch 114/200\n",
            "2/2 [==============================] - 7s 4s/step - loss: 0.2717 - accuracy: 0.8750 - val_loss: 2.1562 - val_accuracy: 0.5000\n",
            "\n",
            "Epoch 00114: val_loss did not improve from 2.06289\n",
            "Epoch 115/200\n",
            "2/2 [==============================] - 7s 3s/step - loss: 0.2803 - accuracy: 0.8438 - val_loss: 2.1563 - val_accuracy: 0.5000\n",
            "\n",
            "Epoch 00115: val_loss did not improve from 2.06289\n",
            "Epoch 116/200\n",
            "2/2 [==============================] - 7s 4s/step - loss: 0.1961 - accuracy: 0.9375 - val_loss: 2.1563 - val_accuracy: 0.5000\n",
            "\n",
            "Epoch 00116: val_loss did not improve from 2.06289\n",
            "Epoch 117/200\n",
            "2/2 [==============================] - 7s 4s/step - loss: 0.3086 - accuracy: 0.9062 - val_loss: 2.1563 - val_accuracy: 0.5000\n",
            "\n",
            "Epoch 00117: val_loss did not improve from 2.06289\n",
            "Epoch 118/200\n",
            "2/2 [==============================] - 7s 4s/step - loss: 0.3619 - accuracy: 0.8750 - val_loss: 2.1563 - val_accuracy: 0.5000\n",
            "\n",
            "Epoch 00118: val_loss did not improve from 2.06289\n",
            "Epoch 119/200\n",
            "2/2 [==============================] - 7s 3s/step - loss: 0.4526 - accuracy: 0.9062 - val_loss: 2.1563 - val_accuracy: 0.5000\n",
            "\n",
            "Epoch 00119: val_loss did not improve from 2.06289\n",
            "Epoch 120/200\n",
            "2/2 [==============================] - 7s 3s/step - loss: 0.3073 - accuracy: 0.9375 - val_loss: 2.1563 - val_accuracy: 0.5000\n",
            "\n",
            "Epoch 00120: val_loss did not improve from 2.06289\n",
            "Epoch 121/200\n",
            "2/2 [==============================] - 7s 4s/step - loss: 0.1643 - accuracy: 0.9688 - val_loss: 2.1564 - val_accuracy: 0.5000\n",
            "\n",
            "Epoch 00121: val_loss did not improve from 2.06289\n",
            "Epoch 122/200\n",
            "2/2 [==============================] - 7s 4s/step - loss: 0.3673 - accuracy: 0.8125 - val_loss: 2.1564 - val_accuracy: 0.5000\n",
            "\n",
            "Epoch 00122: val_loss did not improve from 2.06289\n",
            "Epoch 123/200\n",
            "2/2 [==============================] - 7s 3s/step - loss: 0.3108 - accuracy: 0.9062 - val_loss: 2.1564 - val_accuracy: 0.5000\n",
            "\n",
            "Epoch 00123: val_loss did not improve from 2.06289\n",
            "Epoch 124/200\n",
            "2/2 [==============================] - 7s 3s/step - loss: 0.3043 - accuracy: 0.9062 - val_loss: 2.1564 - val_accuracy: 0.5000\n",
            "\n",
            "Epoch 00124: val_loss did not improve from 2.06289\n",
            "Epoch 125/200\n",
            "2/2 [==============================] - 7s 4s/step - loss: 0.0418 - accuracy: 1.0000 - val_loss: 2.1564 - val_accuracy: 0.5000\n",
            "\n",
            "Epoch 00125: val_loss did not improve from 2.06289\n",
            "Epoch 126/200\n",
            "2/2 [==============================] - 7s 3s/step - loss: 0.3468 - accuracy: 0.7812 - val_loss: 2.1564 - val_accuracy: 0.5000\n",
            "\n",
            "Epoch 00126: val_loss did not improve from 2.06289\n",
            "Epoch 127/200\n",
            "2/2 [==============================] - 7s 3s/step - loss: 0.2964 - accuracy: 0.8125 - val_loss: 2.1564 - val_accuracy: 0.5000\n",
            "\n",
            "Epoch 00127: val_loss did not improve from 2.06289\n",
            "Epoch 128/200\n",
            "2/2 [==============================] - 7s 3s/step - loss: 0.1619 - accuracy: 0.9375 - val_loss: 2.1564 - val_accuracy: 0.5000\n",
            "\n",
            "Epoch 00128: val_loss did not improve from 2.06289\n",
            "Epoch 129/200\n",
            "2/2 [==============================] - 7s 3s/step - loss: 0.4658 - accuracy: 0.9062 - val_loss: 2.1564 - val_accuracy: 0.5000\n",
            "\n",
            "Epoch 00129: val_loss did not improve from 2.06289\n",
            "Epoch 130/200\n",
            "2/2 [==============================] - 7s 3s/step - loss: 0.1525 - accuracy: 0.9375 - val_loss: 2.1564 - val_accuracy: 0.5000\n",
            "\n",
            "Epoch 00130: val_loss did not improve from 2.06289\n",
            "Epoch 131/200\n",
            "2/2 [==============================] - 7s 4s/step - loss: 0.3551 - accuracy: 0.9062 - val_loss: 2.1564 - val_accuracy: 0.5000\n",
            "\n",
            "Epoch 00131: val_loss did not improve from 2.06289\n",
            "Epoch 132/200\n",
            "2/2 [==============================] - 7s 3s/step - loss: 0.1389 - accuracy: 1.0000 - val_loss: 2.1564 - val_accuracy: 0.5000\n",
            "\n",
            "Epoch 00132: val_loss did not improve from 2.06289\n",
            "Epoch 133/200\n",
            "2/2 [==============================] - 7s 3s/step - loss: 0.3603 - accuracy: 0.8750 - val_loss: 2.1564 - val_accuracy: 0.5000\n",
            "\n",
            "Epoch 00133: val_loss did not improve from 2.06289\n",
            "Epoch 134/200\n",
            "2/2 [==============================] - 7s 3s/step - loss: 0.3296 - accuracy: 0.8750 - val_loss: 2.1564 - val_accuracy: 0.5000\n",
            "\n",
            "Epoch 00134: val_loss did not improve from 2.06289\n",
            "Epoch 135/200\n",
            "2/2 [==============================] - 7s 3s/step - loss: 0.4083 - accuracy: 0.9062 - val_loss: 2.1564 - val_accuracy: 0.5000\n",
            "\n",
            "Epoch 00135: val_loss did not improve from 2.06289\n",
            "Epoch 136/200\n",
            "2/2 [==============================] - 7s 3s/step - loss: 0.2788 - accuracy: 0.9062 - val_loss: 2.1564 - val_accuracy: 0.5000\n",
            "\n",
            "Epoch 00136: val_loss did not improve from 2.06289\n",
            "Epoch 137/200\n",
            "2/2 [==============================] - 7s 3s/step - loss: 0.0974 - accuracy: 1.0000 - val_loss: 2.1564 - val_accuracy: 0.5000\n",
            "\n",
            "Epoch 00137: val_loss did not improve from 2.06289\n",
            "Epoch 138/200\n",
            "2/2 [==============================] - 7s 3s/step - loss: 0.3048 - accuracy: 0.8750 - val_loss: 2.1564 - val_accuracy: 0.5000\n",
            "\n",
            "Epoch 00138: val_loss did not improve from 2.06289\n",
            "Epoch 139/200\n",
            "2/2 [==============================] - 7s 3s/step - loss: 0.2406 - accuracy: 0.9062 - val_loss: 2.1564 - val_accuracy: 0.5000\n",
            "\n",
            "Epoch 00139: val_loss did not improve from 2.06289\n",
            "Epoch 140/200\n",
            "2/2 [==============================] - 7s 3s/step - loss: 0.2144 - accuracy: 0.9375 - val_loss: 2.1564 - val_accuracy: 0.5000\n",
            "\n",
            "Epoch 00140: val_loss did not improve from 2.06289\n",
            "Epoch 141/200\n",
            "2/2 [==============================] - 7s 3s/step - loss: 0.1609 - accuracy: 0.9375 - val_loss: 2.1564 - val_accuracy: 0.5000\n",
            "\n",
            "Epoch 00141: val_loss did not improve from 2.06289\n",
            "Epoch 142/200\n",
            "2/2 [==============================] - 7s 3s/step - loss: 0.1148 - accuracy: 0.9688 - val_loss: 2.1564 - val_accuracy: 0.5000\n",
            "\n",
            "Epoch 00142: val_loss did not improve from 2.06289\n",
            "Epoch 143/200\n",
            "2/2 [==============================] - 7s 3s/step - loss: 0.1627 - accuracy: 0.9375 - val_loss: 2.1564 - val_accuracy: 0.5000\n",
            "\n",
            "Epoch 00143: val_loss did not improve from 2.06289\n",
            "Epoch 144/200\n",
            "2/2 [==============================] - 7s 4s/step - loss: 0.2088 - accuracy: 0.9062 - val_loss: 2.1564 - val_accuracy: 0.5000\n",
            "\n",
            "Epoch 00144: val_loss did not improve from 2.06289\n",
            "Epoch 145/200\n",
            "2/2 [==============================] - 7s 3s/step - loss: 0.1337 - accuracy: 0.9375 - val_loss: 2.1564 - val_accuracy: 0.5000\n",
            "\n",
            "Epoch 00145: val_loss did not improve from 2.06289\n",
            "Epoch 146/200\n",
            "2/2 [==============================] - 7s 3s/step - loss: 0.3883 - accuracy: 0.8125 - val_loss: 2.1564 - val_accuracy: 0.5000\n",
            "\n",
            "Epoch 00146: val_loss did not improve from 2.06289\n",
            "Epoch 147/200\n",
            "2/2 [==============================] - 7s 3s/step - loss: 0.0796 - accuracy: 1.0000 - val_loss: 2.1564 - val_accuracy: 0.5000\n",
            "\n",
            "Epoch 00147: val_loss did not improve from 2.06289\n",
            "Epoch 148/200\n",
            "2/2 [==============================] - 7s 3s/step - loss: 0.1289 - accuracy: 0.9688 - val_loss: 2.1564 - val_accuracy: 0.5000\n",
            "\n",
            "Epoch 00148: val_loss did not improve from 2.06289\n",
            "Epoch 149/200\n",
            "2/2 [==============================] - 7s 3s/step - loss: 0.2763 - accuracy: 0.9375 - val_loss: 2.1564 - val_accuracy: 0.5000\n",
            "\n",
            "Epoch 00149: val_loss did not improve from 2.06289\n",
            "Epoch 150/200\n",
            "2/2 [==============================] - 7s 3s/step - loss: 0.4100 - accuracy: 0.8750 - val_loss: 2.1564 - val_accuracy: 0.5000\n",
            "\n",
            "Epoch 00150: val_loss did not improve from 2.06289\n",
            "Epoch 151/200\n",
            "2/2 [==============================] - 7s 3s/step - loss: 0.1626 - accuracy: 0.9062 - val_loss: 2.1564 - val_accuracy: 0.5000\n",
            "\n",
            "Epoch 00151: val_loss did not improve from 2.06289\n",
            "Epoch 152/200\n",
            "2/2 [==============================] - 7s 3s/step - loss: 0.0491 - accuracy: 1.0000 - val_loss: 2.1564 - val_accuracy: 0.5000\n",
            "\n",
            "Epoch 00152: val_loss did not improve from 2.06289\n",
            "Epoch 153/200\n",
            "2/2 [==============================] - 7s 3s/step - loss: 0.1204 - accuracy: 0.9688 - val_loss: 2.1564 - val_accuracy: 0.5000\n",
            "\n",
            "Epoch 00153: val_loss did not improve from 2.06289\n",
            "Epoch 154/200\n",
            "2/2 [==============================] - 7s 3s/step - loss: 0.2488 - accuracy: 0.9062 - val_loss: 2.1564 - val_accuracy: 0.5000\n",
            "\n",
            "Epoch 00154: val_loss did not improve from 2.06289\n",
            "Epoch 155/200\n",
            "2/2 [==============================] - 7s 3s/step - loss: 0.2669 - accuracy: 0.8750 - val_loss: 2.1564 - val_accuracy: 0.5000\n",
            "\n",
            "Epoch 00155: val_loss did not improve from 2.06289\n",
            "Epoch 156/200\n",
            "2/2 [==============================] - 7s 3s/step - loss: 0.1571 - accuracy: 0.9688 - val_loss: 2.1564 - val_accuracy: 0.5000\n",
            "\n",
            "Epoch 00156: val_loss did not improve from 2.06289\n",
            "Epoch 157/200\n",
            "2/2 [==============================] - 7s 3s/step - loss: 0.2616 - accuracy: 0.8750 - val_loss: 2.1564 - val_accuracy: 0.5000\n",
            "\n",
            "Epoch 00157: val_loss did not improve from 2.06289\n",
            "Epoch 158/200\n",
            "2/2 [==============================] - 7s 3s/step - loss: 0.2993 - accuracy: 0.9375 - val_loss: 2.1564 - val_accuracy: 0.5000\n",
            "\n",
            "Epoch 00158: val_loss did not improve from 2.06289\n",
            "Epoch 159/200\n",
            "2/2 [==============================] - 7s 3s/step - loss: 0.2062 - accuracy: 0.9062 - val_loss: 2.1564 - val_accuracy: 0.5000\n",
            "\n",
            "Epoch 00159: val_loss did not improve from 2.06289\n",
            "Epoch 160/200\n",
            "2/2 [==============================] - 7s 3s/step - loss: 0.1541 - accuracy: 1.0000 - val_loss: 2.1564 - val_accuracy: 0.5000\n",
            "\n",
            "Epoch 00160: val_loss did not improve from 2.06289\n",
            "Epoch 161/200\n",
            "2/2 [==============================] - 7s 4s/step - loss: 0.0884 - accuracy: 0.9688 - val_loss: 2.1564 - val_accuracy: 0.5000\n",
            "\n",
            "Epoch 00161: val_loss did not improve from 2.06289\n",
            "Epoch 162/200\n",
            "2/2 [==============================] - 7s 3s/step - loss: 0.2945 - accuracy: 0.8438 - val_loss: 2.1564 - val_accuracy: 0.5000\n",
            "\n",
            "Epoch 00162: val_loss did not improve from 2.06289\n",
            "Epoch 163/200\n",
            "2/2 [==============================] - 7s 3s/step - loss: 0.4861 - accuracy: 0.8438 - val_loss: 2.1564 - val_accuracy: 0.5000\n",
            "\n",
            "Epoch 00163: val_loss did not improve from 2.06289\n",
            "Epoch 164/200\n",
            "2/2 [==============================] - 7s 3s/step - loss: 0.2803 - accuracy: 0.9062 - val_loss: 2.1564 - val_accuracy: 0.5000\n",
            "\n",
            "Epoch 00164: val_loss did not improve from 2.06289\n",
            "Epoch 165/200\n",
            "2/2 [==============================] - 7s 3s/step - loss: 0.3406 - accuracy: 0.8125 - val_loss: 2.1564 - val_accuracy: 0.5000\n",
            "\n",
            "Epoch 00165: val_loss did not improve from 2.06289\n",
            "Epoch 166/200\n",
            "2/2 [==============================] - 7s 3s/step - loss: 0.4234 - accuracy: 0.8438 - val_loss: 2.1564 - val_accuracy: 0.5000\n",
            "\n",
            "Epoch 00166: val_loss did not improve from 2.06289\n",
            "Epoch 167/200\n",
            "2/2 [==============================] - 7s 3s/step - loss: 0.1782 - accuracy: 0.9375 - val_loss: 2.1564 - val_accuracy: 0.5000\n",
            "\n",
            "Epoch 00167: val_loss did not improve from 2.06289\n",
            "Epoch 168/200\n",
            "2/2 [==============================] - 7s 3s/step - loss: 0.3214 - accuracy: 0.8438 - val_loss: 2.1564 - val_accuracy: 0.5000\n",
            "\n",
            "Epoch 00168: val_loss did not improve from 2.06289\n",
            "Epoch 169/200\n",
            "2/2 [==============================] - 7s 3s/step - loss: 0.4540 - accuracy: 0.8438 - val_loss: 2.1564 - val_accuracy: 0.5000\n",
            "\n",
            "Epoch 00169: val_loss did not improve from 2.06289\n",
            "Epoch 170/200\n",
            "2/2 [==============================] - 7s 3s/step - loss: 0.1554 - accuracy: 0.9375 - val_loss: 2.1564 - val_accuracy: 0.5000\n",
            "\n",
            "Epoch 00170: val_loss did not improve from 2.06289\n",
            "Epoch 171/200\n",
            "2/2 [==============================] - 7s 3s/step - loss: 0.3731 - accuracy: 0.8438 - val_loss: 2.1564 - val_accuracy: 0.5000\n",
            "\n",
            "Epoch 00171: val_loss did not improve from 2.06289\n",
            "Epoch 172/200\n",
            "2/2 [==============================] - 7s 3s/step - loss: 0.7553 - accuracy: 0.7812 - val_loss: 2.1564 - val_accuracy: 0.5000\n",
            "\n",
            "Epoch 00172: val_loss did not improve from 2.06289\n",
            "Epoch 173/200\n",
            "2/2 [==============================] - 7s 3s/step - loss: 0.2737 - accuracy: 0.9375 - val_loss: 2.1564 - val_accuracy: 0.5000\n",
            "\n",
            "Epoch 00173: val_loss did not improve from 2.06289\n",
            "Epoch 174/200\n",
            "2/2 [==============================] - 7s 3s/step - loss: 0.4991 - accuracy: 0.8125 - val_loss: 2.1564 - val_accuracy: 0.5000\n",
            "\n",
            "Epoch 00174: val_loss did not improve from 2.06289\n",
            "Epoch 175/200\n",
            "2/2 [==============================] - 7s 3s/step - loss: 0.1204 - accuracy: 0.9688 - val_loss: 2.1564 - val_accuracy: 0.5000\n",
            "\n",
            "Epoch 00175: val_loss did not improve from 2.06289\n",
            "Epoch 176/200\n",
            "2/2 [==============================] - 7s 3s/step - loss: 0.1879 - accuracy: 0.9062 - val_loss: 2.1564 - val_accuracy: 0.5000\n",
            "\n",
            "Epoch 00176: val_loss did not improve from 2.06289\n",
            "Epoch 177/200\n",
            "2/2 [==============================] - 7s 4s/step - loss: 0.1952 - accuracy: 0.9375 - val_loss: 2.1564 - val_accuracy: 0.5000\n",
            "\n",
            "Epoch 00177: val_loss did not improve from 2.06289\n",
            "Epoch 178/200\n",
            "2/2 [==============================] - 7s 3s/step - loss: 0.1851 - accuracy: 0.8750 - val_loss: 2.1564 - val_accuracy: 0.5000\n",
            "\n",
            "Epoch 00178: val_loss did not improve from 2.06289\n",
            "Epoch 179/200\n",
            "2/2 [==============================] - 7s 3s/step - loss: 0.3196 - accuracy: 0.8750 - val_loss: 2.1564 - val_accuracy: 0.5000\n",
            "\n",
            "Epoch 00179: val_loss did not improve from 2.06289\n",
            "Epoch 180/200\n",
            "2/2 [==============================] - 7s 3s/step - loss: 0.3787 - accuracy: 0.8750 - val_loss: 2.1564 - val_accuracy: 0.5000\n",
            "\n",
            "Epoch 00180: val_loss did not improve from 2.06289\n",
            "Epoch 181/200\n",
            "2/2 [==============================] - 7s 3s/step - loss: 0.2054 - accuracy: 0.9688 - val_loss: 2.1564 - val_accuracy: 0.5000\n",
            "\n",
            "Epoch 00181: val_loss did not improve from 2.06289\n",
            "Epoch 182/200\n",
            "2/2 [==============================] - 7s 3s/step - loss: 0.1705 - accuracy: 0.9375 - val_loss: 2.1564 - val_accuracy: 0.5000\n",
            "\n",
            "Epoch 00182: val_loss did not improve from 2.06289\n",
            "Epoch 183/200\n",
            "2/2 [==============================] - 7s 4s/step - loss: 0.1473 - accuracy: 0.9375 - val_loss: 2.1564 - val_accuracy: 0.5000\n",
            "\n",
            "Epoch 00183: val_loss did not improve from 2.06289\n",
            "Epoch 184/200\n",
            "2/2 [==============================] - 7s 4s/step - loss: 0.2118 - accuracy: 0.9062 - val_loss: 2.1564 - val_accuracy: 0.5000\n",
            "\n",
            "Epoch 00184: val_loss did not improve from 2.06289\n",
            "Epoch 185/200\n",
            "2/2 [==============================] - 7s 3s/step - loss: 0.3909 - accuracy: 0.8125 - val_loss: 2.1564 - val_accuracy: 0.5000\n",
            "\n",
            "Epoch 00185: val_loss did not improve from 2.06289\n",
            "Epoch 186/200\n",
            "2/2 [==============================] - 7s 3s/step - loss: 0.4293 - accuracy: 0.8438 - val_loss: 2.1564 - val_accuracy: 0.5000\n",
            "\n",
            "Epoch 00186: val_loss did not improve from 2.06289\n",
            "Epoch 187/200\n",
            "2/2 [==============================] - 7s 3s/step - loss: 0.2540 - accuracy: 0.9062 - val_loss: 2.1564 - val_accuracy: 0.5000\n",
            "\n",
            "Epoch 00187: val_loss did not improve from 2.06289\n",
            "Epoch 188/200\n",
            "2/2 [==============================] - 7s 4s/step - loss: 0.1830 - accuracy: 0.9375 - val_loss: 2.1564 - val_accuracy: 0.5000\n",
            "\n",
            "Epoch 00188: val_loss did not improve from 2.06289\n",
            "Epoch 189/200\n",
            "2/2 [==============================] - 7s 4s/step - loss: 0.2619 - accuracy: 0.9375 - val_loss: 2.1564 - val_accuracy: 0.5000\n",
            "\n",
            "Epoch 00189: val_loss did not improve from 2.06289\n",
            "Epoch 190/200\n",
            "2/2 [==============================] - 7s 3s/step - loss: 0.4618 - accuracy: 0.8438 - val_loss: 2.1564 - val_accuracy: 0.5000\n",
            "\n",
            "Epoch 00190: val_loss did not improve from 2.06289\n",
            "Epoch 191/200\n",
            "2/2 [==============================] - 7s 3s/step - loss: 0.2020 - accuracy: 0.9062 - val_loss: 2.1564 - val_accuracy: 0.5000\n",
            "\n",
            "Epoch 00191: val_loss did not improve from 2.06289\n",
            "Epoch 192/200\n",
            "2/2 [==============================] - 7s 3s/step - loss: 0.3359 - accuracy: 0.8750 - val_loss: 2.1564 - val_accuracy: 0.5000\n",
            "\n",
            "Epoch 00192: val_loss did not improve from 2.06289\n",
            "Epoch 193/200\n",
            "2/2 [==============================] - 7s 4s/step - loss: 0.2865 - accuracy: 0.8438 - val_loss: 2.1564 - val_accuracy: 0.5000\n",
            "\n",
            "Epoch 00193: val_loss did not improve from 2.06289\n",
            "Epoch 194/200\n",
            "2/2 [==============================] - 7s 3s/step - loss: 0.4345 - accuracy: 0.8438 - val_loss: 2.1564 - val_accuracy: 0.5000\n",
            "\n",
            "Epoch 00194: val_loss did not improve from 2.06289\n",
            "Epoch 195/200\n",
            "2/2 [==============================] - 7s 3s/step - loss: 0.1630 - accuracy: 0.9375 - val_loss: 2.1564 - val_accuracy: 0.5000\n",
            "\n",
            "Epoch 00195: val_loss did not improve from 2.06289\n",
            "Epoch 196/200\n",
            "2/2 [==============================] - 7s 3s/step - loss: 0.4056 - accuracy: 0.8750 - val_loss: 2.1564 - val_accuracy: 0.5000\n",
            "\n",
            "Epoch 00196: val_loss did not improve from 2.06289\n",
            "Epoch 197/200\n",
            "2/2 [==============================] - 7s 3s/step - loss: 0.2772 - accuracy: 0.8750 - val_loss: 2.1564 - val_accuracy: 0.5000\n",
            "\n",
            "Epoch 00197: val_loss did not improve from 2.06289\n",
            "Epoch 198/200\n",
            "2/2 [==============================] - 7s 3s/step - loss: 0.4391 - accuracy: 0.8125 - val_loss: 2.1564 - val_accuracy: 0.5000\n",
            "\n",
            "Epoch 00198: val_loss did not improve from 2.06289\n",
            "Epoch 199/200\n",
            "2/2 [==============================] - 7s 3s/step - loss: 0.3298 - accuracy: 0.8750 - val_loss: 2.1564 - val_accuracy: 0.5000\n",
            "\n",
            "Epoch 00199: val_loss did not improve from 2.06289\n",
            "Epoch 200/200\n",
            "2/2 [==============================] - 7s 3s/step - loss: 0.2402 - accuracy: 0.8750 - val_loss: 2.1564 - val_accuracy: 0.5000\n",
            "\n",
            "Epoch 00200: val_loss did not improve from 2.06289\n"
          ],
          "name": "stdout"
        }
      ]
    },
    {
      "cell_type": "code",
      "metadata": {
        "id": "er4QLDe1A9Gw",
        "colab_type": "code",
        "outputId": "bbb894e3-7054-4397-a8e7-a5565fed325e",
        "colab": {
          "base_uri": "https://localhost:8080/",
          "height": 312
        }
      },
      "source": [
        "plt.plot(history.epoch,history.history['val_loss'],'-o',label='validation')\n",
        "plt.plot(history.epoch,history.history['loss'],'-o',label='training')\n",
        "\n",
        "plt.grid(True)\n",
        "plt.legend(loc=0)\n",
        "\n",
        "plt.ylabel('Loss')\n",
        "plt.xlabel('Epochs')\n",
        "plt.title('Loss vs Epochs')"
      ],
      "execution_count": 0,
      "outputs": [
        {
          "output_type": "execute_result",
          "data": {
            "text/plain": [
              "Text(0.5, 1.0, 'Loss vs Epochs')"
            ]
          },
          "metadata": {
            "tags": []
          },
          "execution_count": 20
        },
        {
          "output_type": "display_data",
          "data": {
            "image/png": "[encoded data removed]",
            "text/plain": [
              "<Figure size 432x288 with 1 Axes>"
            ]
          },
          "metadata": {
            "tags": [],
            "needs_background": "light"
          }
        }
      ]
    },
    {
      "cell_type": "code",
      "metadata": {
        "id": "MsqsDUJiDMUQ",
        "colab_type": "code",
        "outputId": "55aaf69a-1b52-4007-d16c-048755fb084d",
        "colab": {
          "base_uri": "https://localhost:8080/",
          "height": 312
        }
      },
      "source": [
        "plt.plot(history.epoch, history.history['lr'],'-o')\n",
        "\n",
        "plt.grid(True)\n",
        "plt.xlabel('Epochs')\n",
        "plt.ylabel('Learning Rate')\n",
        "plt.title('Learning Rate vs Epochs')"
      ],
      "execution_count": 0,
      "outputs": [
        {
          "output_type": "execute_result",
          "data": {
            "text/plain": [
              "Text(0.5, 1.0, 'Learning Rate vs Epochs')"
            ]
          },
          "metadata": {
            "tags": []
          },
          "execution_count": 21
        },
        {
          "output_type": "display_data",
          "data": {
            "image/png": "[encoded data removed]",
            "text/plain": [
              "<Figure size 432x288 with 1 Axes>"
            ]
          },
          "metadata": {
            "tags": [],
            "needs_background": "light"
          }
        }
      ]
    },
    {
      "cell_type": "code",
      "metadata": {
        "id": "zzoVgZ9DDZk3",
        "colab_type": "code",
        "outputId": "019e829c-9cd5-4657-88fd-cb657b655340",
        "colab": {
          "base_uri": "https://localhost:8080/",
          "height": 312
        }
      },
      "source": [
        "\n",
        "plt.plot(history.epoch,history.history['val_accuracy'], '-o', label='validation')\n",
        "plt.plot(history.epoch,history.history['accuracy'], '-o', label='training')\n",
        "\n",
        "plt.grid(True)\n",
        "plt.legend(loc=0)\n",
        "\n",
        "plt.xlabel('Epochs')\n",
        "plt.ylabel('Accuracy')\n",
        "plt.title('Accuracy vs Epochs')"
      ],
      "execution_count": 0,
      "outputs": [
        {
          "output_type": "execute_result",
          "data": {
            "text/plain": [
              "Text(0.5, 1.0, 'Accuracy vs Epochs')"
            ]
          },
          "metadata": {
            "tags": []
          },
          "execution_count": 23
        },
        {
          "output_type": "display_data",
          "data": {
            "image/png": "[encoded data removed]",
            "text/plain": [
              "<Figure size 432x288 with 1 Axes>"
            ]
          },
          "metadata": {
            "tags": [],
            "needs_background": "light"
          }
        }
      ]
    },
    {
      "cell_type": "code",
      "metadata": {
        "id": "zXcWOzzYEZxP",
        "colab_type": "code",
        "outputId": "60b31ae4-d709-49cb-fcf3-c9a98c32d997",
        "colab": {
          "base_uri": "https://localhost:8080/",
          "height": 101
        }
      },
      "source": [
        "for i in history.history:\n",
        "    print(i)"
      ],
      "execution_count": 0,
      "outputs": [
        {
          "output_type": "stream",
          "text": [
            "val_loss\n",
            "val_accuracy\n",
            "loss\n",
            "accuracy\n",
            "lr\n"
          ],
          "name": "stdout"
        }
      ]
    },
    {
      "cell_type": "code",
      "metadata": {
        "id": "pYaDSJw-D5FE",
        "colab_type": "code",
        "outputId": "9265e313-3058-478d-e12a-6f84c57e02a0",
        "colab": {
          "base_uri": "https://localhost:8080/",
          "height": 34
        }
      },
      "source": [
        "import numpy as np\n",
        "from keras.preprocessing import image\n",
        "\n",
        "test_image = image.load_img('/content/ImagesPred/Images/Test/Dipika/IMG20180110082005.jpg', target_size = (Image_Size, Image_Size))\n",
        "#test_image = image.load_img('/content/ImagesPred/Images/Test/Shiv/IMG20200102162934.jpg', target_size = (Image_Size, Image_Size))\n",
        "#test_image = image.load_img('/content/ImagesPred/Images/Test/Siddhant/IMG20191015153026.jpg', target_size = (Image_Size, Image_Size))\n",
        "#test_image = image.load_img('/content/ImagesPred/Images/Test/Turtle/IMG20200418194924_01.jpg', target_size = (Image_Size, Image_Size))\n",
        "\n",
        "test_image = image.img_to_array(test_image)\n",
        "test_image = np.expand_dims(test_image, axis = 0)\n",
        "train_generator.class_indices\n",
        "result = custom_model.predict(test_image)\n",
        "train_generator.class_indices\n",
        "train_generator.class_indices,result[0][0],result[0][1],result[0][2],result[0][3]\n",
        "\n"
      ],
      "execution_count": 0,
      "outputs": [
        {
          "output_type": "execute_result",
          "data": {
            "text/plain": [
              "({'Dipika': 0, 'Shiv': 1, 'Siddhant': 2, 'Turtle': 3}, 1.0, 0.0, 0.0, 0.0)"
            ]
          },
          "metadata": {
            "tags": []
          },
          "execution_count": 31
        }
      ]
    },
    {
      "cell_type": "code",
      "metadata": {
        "id": "GMU0WLP7EbfH",
        "colab_type": "code",
        "outputId": "26df9200-f197-49b4-febf-65d10e96164c",
        "colab": {
          "base_uri": "https://localhost:8080/",
          "height": 34
        }
      },
      "source": [
        "if result[0][0] == 1:\n",
        "    prediction = 'Dipika'\n",
        "    print(prediction)\n",
        "elif result[0][1] == 1:\n",
        "    prediction = 'Shiv'\n",
        "    print(prediction)\n",
        "elif result[0][2] == 1:\n",
        "    prediction = 'Siddhant'\n",
        "    print(prediction)\n",
        "elif result[0][3] == 1:\n",
        "    prediction = 'Turtle'\n",
        "    print(prediction)\n",
        "else:\n",
        "    prediction = 'Not able to predict'\n",
        "    print(prediction)\n"
      ],
      "execution_count": 0,
      "outputs": [
        {
          "output_type": "stream",
          "text": [
            "Dipika\n"
          ],
          "name": "stdout"
        }
      ]
    },
    {
      "cell_type": "code",
      "metadata": {
        "id": "ziYgJdi7Kfqf",
        "colab_type": "code",
        "outputId": "7fab8cc8-6f31-4334-8044-ebaa2d7dbdf4",
        "colab": {
          "base_uri": "https://localhost:8080/",
          "height": 50
        }
      },
      "source": [
        "#Below result is run of 50 epoch\n",
        "results = custom_model.evaluate_generator(train_generator, verbose=1)\n",
        "dict(zip(custom_model.metrics_names, results))"
      ],
      "execution_count": 0,
      "outputs": [
        {
          "output_type": "stream",
          "text": [
            "2/2 [==============================] - 6s 3s/step\n"
          ],
          "name": "stdout"
        },
        {
          "output_type": "execute_result",
          "data": {
            "text/plain": [
              "{'accuracy': 1.0, 'loss': 0.021319391205906868}"
            ]
          },
          "metadata": {
            "tags": []
          },
          "execution_count": 33
        }
      ]
    },
    {
      "cell_type": "code",
      "metadata": {
        "id": "eve9fEqfTWgC",
        "colab_type": "code",
        "outputId": "21624c77-013f-4b7a-9d21-b63ed0ba88ed",
        "colab": {
          "base_uri": "https://localhost:8080/",
          "height": 50
        }
      },
      "source": [
        "#Below result is run of 50 epoch\n",
        "results = custom_model.evaluate_generator(validation_generator, verbose=1)\n",
        "dict(zip(custom_model.metrics_names, results))"
      ],
      "execution_count": 0,
      "outputs": [
        {
          "output_type": "stream",
          "text": [
            "\r1/1 [==============================] - 2s 2s/step\n"
          ],
          "name": "stdout"
        },
        {
          "output_type": "execute_result",
          "data": {
            "text/plain": [
              "{'accuracy': 0.5, 'loss': 2.1563875675201416}"
            ]
          },
          "metadata": {
            "tags": []
          },
          "execution_count": 34
        }
      ]
    },
    {
      "cell_type": "code",
      "metadata": {
        "id": "BDkyOerwnGQ1",
        "colab_type": "code",
        "colab": {}
      },
      "source": [
        ""
      ],
      "execution_count": 0,
      "outputs": []
    }
  ]
}