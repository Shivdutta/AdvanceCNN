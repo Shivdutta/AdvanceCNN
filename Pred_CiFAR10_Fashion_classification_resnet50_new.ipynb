{
  "nbformat": 4,
  "nbformat_minor": 0,
  "metadata": {
    "colab": {
      "name": "Pred_CiFAR10-Fashion_classification_resnet50_new.ipynb",
      "provenance": [],
      "collapsed_sections": [],
      "include_colab_link": true
    },
    "kernelspec": {
      "name": "python3",
      "display_name": "Python 3"
    },
    "accelerator": "GPU"
  },
  "cells": [
    {
      "cell_type": "markdown",
      "metadata": {
        "id": "view-in-github",
        "colab_type": "text"
      },
      "source": [
        "<a href=\"https://colab.research.google.com/github/Shivdutta/AdvanceCNN/blob/master/Pred_CiFAR10_Fashion_classification_resnet50_new.ipynb\" target=\"_parent\"><img src=\"https://colab.research.google.com/assets/colab-badge.svg\" alt=\"Open In Colab\"/></a>"
      ]
    },
    {
      "cell_type": "code",
      "metadata": {
        "id": "0elizLx20lPD",
        "colab_type": "code",
        "colab": {}
      },
      "source": [
        "from tensorflow.keras.applications.resnet50 import ResNet50, preprocess_input\n",
        "import tensorflow.keras as keras\n",
        "from tensorflow.keras import models\n",
        "from tensorflow.keras import layers\n",
        "#from tensorflow.keras import optimizers\n",
        "import tensorflow as tf\n",
        "from keras.utils import np_utils\n",
        "from keras.models import load_model\n",
        "from keras.datasets import cifar10\n",
        "from keras.preprocessing import image\n",
        "import numpy as np\n",
        "import matplotlib.pyplot as plt\n",
        "from PIL import Image\n",
        "import cv2\n",
        "#from keras.applications.vgg16 import VGG16, preprocess_input\n",
        "\n",
        "from tensorflow.keras.preprocessing.image import ImageDataGenerator\n",
        "from tensorflow.keras.layers import AveragePooling2D\n",
        "from tensorflow.keras.layers import Dropout\n",
        "from tensorflow.keras.layers import Flatten\n",
        "from tensorflow.keras.layers import Dense\n",
        "from tensorflow.keras.layers import Input\n",
        "from tensorflow.keras.models import Model\n",
        "from tensorflow.keras.optimizers import Adam\n",
        "from tensorflow.keras.applications import ResNet50\n",
        "from sklearn.metrics import classification_report\n",
        "from imutils import paths\n",
        "\n",
        "from datetime import datetime\n",
        "\n",
        "from tensorflow.keras.callbacks import ModelCheckpoint, LearningRateScheduler\n",
        "from tensorflow.keras.callbacks import ReduceLROnPlateau"
      ],
      "execution_count": 0,
      "outputs": []
    },
    {
      "cell_type": "code",
      "metadata": {
        "id": "0z8FC5ym440h",
        "colab_type": "code",
        "outputId": "2c9299dc-ef4e-4da4-b574-d88a9fc6b86c",
        "colab": {
          "base_uri": "https://localhost:8080/",
          "height": 121
        }
      },
      "source": [
        "from google.colab import drive\n",
        "drive.mount('/content/gdrive/', force_remount=True)\n",
        "\n",
        "!unzip -q \"/content/gdrive/My Drive/CNN_Images/VGG_class_data.zip\""
      ],
      "execution_count": 3,
      "outputs": [
        {
          "output_type": "stream",
          "text": [
            "Go to this URL in a browser: https://accounts.google.com/o/oauth2/auth?client_id=947318989803-6bn6qk8qdgf4n4g3pfee6491hc0brc4i.apps.googleusercontent.com&redirect_uri=urn%3aietf%3awg%3aoauth%3a2.0%3aoob&response_type=code&scope=email%20https%3a%2f%2fwww.googleapis.com%2fauth%2fdocs.test%20https%3a%2f%2fwww.googleapis.com%2fauth%2fdrive%20https%3a%2f%2fwww.googleapis.com%2fauth%2fdrive.photos.readonly%20https%3a%2f%2fwww.googleapis.com%2fauth%2fpeopleapi.readonly\n",
            "\n",
            "Enter your authorization code:\n",
            "··········\n",
            "Mounted at /content/gdrive/\n"
          ],
          "name": "stdout"
        }
      ]
    },
    {
      "cell_type": "code",
      "metadata": {
        "id": "5lwOggMN5Jej",
        "colab_type": "code",
        "outputId": "8bcfe203-aea6-4fa1-8b89-7ab44c8d6a84",
        "colab": {
          "base_uri": "https://localhost:8080/",
          "height": 34
        }
      },
      "source": [
        "!ls /content/data/train"
      ],
      "execution_count": 4,
      "outputs": [
        {
          "output_type": "stream",
          "text": [
            "backpack  footwear  glasses  watch\n"
          ],
          "name": "stdout"
        }
      ]
    },
    {
      "cell_type": "code",
      "metadata": {
        "id": "gMnLaugWwMgp",
        "colab_type": "code",
        "colab": {
          "base_uri": "https://localhost:8080/",
          "height": 34
        },
        "outputId": "61e22093-d22e-445c-addc-2f7a81fa65bf"
      },
      "source": [
        "# useful for getting number of classes\n",
        "folders = glob('data/train/*')\n",
        "print(len(folders))"
      ],
      "execution_count": 21,
      "outputs": [
        {
          "output_type": "stream",
          "text": [
            "4\n"
          ],
          "name": "stdout"
        }
      ]
    },
    {
      "cell_type": "code",
      "metadata": {
        "id": "FJLRw0NV9B6W",
        "colab_type": "code",
        "colab": {}
      },
      "source": [
        "#Give dataset path\n",
        "trainpath = \"/content/data/train/\"\n",
        "testpath = \"/content/data/test/\"\n",
        "classes = 4\n",
        "Image_Size =128\n",
        "batch_size=20\n",
        "\n",
        "INIT_LR = 1e-4\n",
        "BS = 32\n",
        "NUM_EPOCHS = 20\n",
        "MODEL_PATH = \"fashion_resnet.model\""
      ],
      "execution_count": 0,
      "outputs": []
    },
    {
      "cell_type": "code",
      "metadata": {
        "id": "8ZPjaoOO8beV",
        "colab_type": "code",
        "colab": {
          "base_uri": "https://localhost:8080/",
          "height": 34
        },
        "outputId": "0555c8eb-4a4a-41f8-f45f-7434fa4837c0"
      },
      "source": [
        "# load the ResNet-50 network, ensuring the head FC layer sets are left\n",
        "# off\n",
        "print(\"[INFO] preparing model...\")\n",
        "baseModel = ResNet50(weights=\"imagenet\", include_top=False,input_tensor=Input(shape=(224, 224, 3)))\n",
        "# construct the head of the model that will be placed on top of the\n",
        "# the base model\n",
        "headModel = baseModel.output\n",
        "#headModel = AveragePooling2D(pool_size=(7, 7))(headModel)\n",
        "headModel = Flatten(name=\"flatten\")(headModel)\n",
        "#headModel = Dense(256, activation=\"relu\")(headModel)\n",
        "#headModel = Dropout(0.5)(headModel)\n",
        "headModel = Dense(classes, activation=\"softmax\")(headModel)\n",
        "# place the head FC model on top of the base model (this will become\n",
        "# the actual model we will train)\n",
        "model = Model(inputs=baseModel.input, outputs=headModel)\n",
        "# loop over all layers in the base model and freeze them so they will\n",
        "# *not* be updated during the training process\n",
        "for layer in baseModel.layers:\n",
        "\tlayer.trainable = False\n",
        "\n"
      ],
      "execution_count": 26,
      "outputs": [
        {
          "output_type": "stream",
          "text": [
            "[INFO] preparing model...\n"
          ],
          "name": "stdout"
        }
      ]
    },
    {
      "cell_type": "code",
      "metadata": {
        "id": "wKEdTKdaNXBT",
        "colab_type": "code",
        "colab": {
          "base_uri": "https://localhost:8080/",
          "height": 50
        },
        "outputId": "52e817af-68af-4d73-86b5-548e1a8a3617"
      },
      "source": [
        "# Data Augmentation\n",
        "train_datagen = ImageDataGenerator(\n",
        "    preprocessing_function=preprocess_input,\n",
        "    rotation_range=40,\n",
        "    width_shift_range=0.2,\n",
        "    height_shift_range=0.2,\n",
        "    shear_range=0.2,\n",
        "    zoom_range=0.2,\n",
        "    horizontal_flip=True,\n",
        "    fill_mode='nearest')\n",
        "\n",
        "# Data Augmentation\n",
        "test_datagen = ImageDataGenerator(\n",
        "    preprocessing_function=preprocess_input,\n",
        "    rotation_range=40,\n",
        "    width_shift_range=0.2,\n",
        "    height_shift_range=0.2,\n",
        "    shear_range=0.2,\n",
        "    zoom_range=0.2,\n",
        "    horizontal_flip=True,\n",
        "    fill_mode='nearest')\n",
        "\n",
        "# Make sure you provide the same target size as initialied for the image size\n",
        "train_set = train_datagen.flow_from_directory('data/train',\n",
        "                                                 target_size = (224, 224),\n",
        "                                                 batch_size = 32,\n",
        "                                                 class_mode = 'categorical')\n",
        "\n",
        "test_set = test_datagen.flow_from_directory('data/test',\n",
        "                                            target_size = (224, 224),\n",
        "                                            batch_size = 32,\n",
        "                                            class_mode = 'categorical')"
      ],
      "execution_count": 36,
      "outputs": [
        {
          "output_type": "stream",
          "text": [
            "Found 475 images belonging to 4 classes.\n",
            "Found 264 images belonging to 4 classes.\n"
          ],
          "name": "stdout"
        }
      ]
    },
    {
      "cell_type": "code",
      "metadata": {
        "id": "f5ntSONy-l7A",
        "colab_type": "code",
        "colab": {
          "base_uri": "https://localhost:8080/",
          "height": 1000
        },
        "outputId": "abc657a3-5e99-4143-dcfd-2fd355000800"
      },
      "source": [
        "\n",
        "# compile the model\n",
        "opt = Adam(lr=INIT_LR, decay=INIT_LR / NUM_EPOCHS)\n",
        "model.compile(loss=\"categorical_crossentropy\", optimizer=opt,\tmetrics=[\"accuracy\"])\n",
        "# train the model\n",
        "print(\"[INFO] training model...\")\n",
        "\n",
        "\n",
        "\n",
        "#lr_scheduler = LearningRateScheduler(lr_schedule)\n",
        "\n",
        "#lr_reducer = ReduceLROnPlateau(factor=np.sqrt(0.1),\n",
        "#                               cooldown=0,\n",
        "#                               patience=5,\n",
        "#                               min_lr=0.5e-6)\n",
        "\n",
        "#num_epochs = 1000\n",
        "#num_batch_size = 32\n",
        "\n",
        "checkpoint = ModelCheckpoint(filepath='mymodel.h5', \n",
        "                               verbose=1, save_best_only=True)\n",
        "\n",
        "callbacks = [checkpoint]\n",
        "\n",
        "start = datetime.now()\n",
        "\n",
        "model.fit_generator(\n",
        "  train_set,\n",
        "  validation_data=test_set,\n",
        "  epochs=NUM_EPOCHS,\n",
        "  steps_per_epoch=5,\n",
        "  validation_steps=32,\n",
        "    callbacks=callbacks ,verbose=1)\n",
        "\n",
        "\n",
        "duration = datetime.now() - start\n",
        "print(\"Training completed in time: \", duration)"
      ],
      "execution_count": 39,
      "outputs": [
        {
          "output_type": "stream",
          "text": [
            "[INFO] training model...\n",
            "Epoch 1/20\n"
          ],
          "name": "stdout"
        },
        {
          "output_type": "stream",
          "text": [
            "/usr/local/lib/python3.6/dist-packages/PIL/Image.py:932: UserWarning: Palette images with Transparency expressed in bytes should be converted to RGBA images\n",
            "  \"Palette images with Transparency expressed in bytes should be \"\n"
          ],
          "name": "stderr"
        },
        {
          "output_type": "stream",
          "text": [
            "5/5 [==============================] - ETA: 0s - loss: 1.9728 - accuracy: 0.5000\n",
            "Epoch 00001: val_loss improved from inf to 0.74582, saving model to mymodel.h5\n",
            "5/5 [==============================] - 26s 5s/step - loss: 1.9728 - accuracy: 0.5000 - val_loss: 0.7458 - val_accuracy: 0.7290\n",
            "Epoch 2/20\n",
            "5/5 [==============================] - ETA: 0s - loss: 0.5977 - accuracy: 0.8125\n",
            "Epoch 00002: val_loss improved from 0.74582 to 0.55837, saving model to mymodel.h5\n",
            "5/5 [==============================] - 26s 5s/step - loss: 0.5977 - accuracy: 0.8125 - val_loss: 0.5584 - val_accuracy: 0.8470\n",
            "Epoch 3/20\n",
            "5/5 [==============================] - ETA: 0s - loss: 0.3484 - accuracy: 0.9032\n",
            "Epoch 00003: val_loss improved from 0.55837 to 0.25289, saving model to mymodel.h5\n",
            "5/5 [==============================] - 26s 5s/step - loss: 0.3484 - accuracy: 0.9032 - val_loss: 0.2529 - val_accuracy: 0.9044\n",
            "Epoch 4/20\n",
            "5/5 [==============================] - ETA: 0s - loss: 0.1595 - accuracy: 0.9500\n",
            "Epoch 00004: val_loss improved from 0.25289 to 0.20856, saving model to mymodel.h5\n",
            "5/5 [==============================] - 25s 5s/step - loss: 0.1595 - accuracy: 0.9500 - val_loss: 0.2086 - val_accuracy: 0.9380\n",
            "Epoch 5/20\n",
            "5/5 [==============================] - ETA: 0s - loss: 0.0930 - accuracy: 0.9750\n",
            "Epoch 00005: val_loss did not improve from 0.20856\n",
            "5/5 [==============================] - 26s 5s/step - loss: 0.0930 - accuracy: 0.9750 - val_loss: 0.2242 - val_accuracy: 0.9300\n",
            "Epoch 6/20\n",
            "5/5 [==============================] - ETA: 0s - loss: 0.1137 - accuracy: 0.9613\n",
            "Epoch 00006: val_loss improved from 0.20856 to 0.14421, saving model to mymodel.h5\n",
            "5/5 [==============================] - 26s 5s/step - loss: 0.1137 - accuracy: 0.9613 - val_loss: 0.1442 - val_accuracy: 0.9580\n",
            "Epoch 7/20\n",
            "5/5 [==============================] - ETA: 0s - loss: 0.0612 - accuracy: 0.9750\n",
            "Epoch 00007: val_loss improved from 0.14421 to 0.12380, saving model to mymodel.h5\n",
            "5/5 [==============================] - 26s 5s/step - loss: 0.0612 - accuracy: 0.9750 - val_loss: 0.1238 - val_accuracy: 0.9611\n",
            "Epoch 8/20\n",
            "5/5 [==============================] - ETA: 0s - loss: 0.0803 - accuracy: 0.9688\n",
            "Epoch 00008: val_loss did not improve from 0.12380\n",
            "5/5 [==============================] - 25s 5s/step - loss: 0.0803 - accuracy: 0.9688 - val_loss: 0.2500 - val_accuracy: 0.9332\n",
            "Epoch 9/20\n",
            "5/5 [==============================] - ETA: 0s - loss: 0.0809 - accuracy: 0.9742\n",
            "Epoch 00009: val_loss did not improve from 0.12380\n",
            "5/5 [==============================] - 24s 5s/step - loss: 0.0809 - accuracy: 0.9742 - val_loss: 0.2229 - val_accuracy: 0.9338\n",
            "Epoch 10/20\n",
            "5/5 [==============================] - ETA: 0s - loss: 0.0762 - accuracy: 0.9812\n",
            "Epoch 00010: val_loss did not improve from 0.12380\n",
            "5/5 [==============================] - 26s 5s/step - loss: 0.0762 - accuracy: 0.9812 - val_loss: 0.2401 - val_accuracy: 0.9275\n",
            "Epoch 11/20\n",
            "5/5 [==============================] - ETA: 0s - loss: 0.0677 - accuracy: 0.9625\n",
            "Epoch 00011: val_loss did not improve from 0.12380\n",
            "5/5 [==============================] - 25s 5s/step - loss: 0.0677 - accuracy: 0.9625 - val_loss: 0.1906 - val_accuracy: 0.9472\n",
            "Epoch 12/20\n",
            "5/5 [==============================] - ETA: 0s - loss: 0.0995 - accuracy: 0.9548\n",
            "Epoch 00012: val_loss did not improve from 0.12380\n",
            "5/5 [==============================] - 25s 5s/step - loss: 0.0995 - accuracy: 0.9548 - val_loss: 0.1341 - val_accuracy: 0.9590\n",
            "Epoch 13/20\n",
            "5/5 [==============================] - ETA: 0s - loss: 0.0754 - accuracy: 0.9937\n",
            "Epoch 00013: val_loss did not improve from 0.12380\n",
            "5/5 [==============================] - 25s 5s/step - loss: 0.0754 - accuracy: 0.9937 - val_loss: 0.1795 - val_accuracy: 0.9538\n",
            "Epoch 14/20\n",
            "5/5 [==============================] - ETA: 0s - loss: 0.0436 - accuracy: 0.9875\n",
            "Epoch 00014: val_loss did not improve from 0.12380\n",
            "5/5 [==============================] - 25s 5s/step - loss: 0.0436 - accuracy: 0.9875 - val_loss: 0.1494 - val_accuracy: 0.9537\n",
            "Epoch 15/20\n",
            "5/5 [==============================] - ETA: 0s - loss: 0.0697 - accuracy: 0.9871\n",
            "Epoch 00015: val_loss did not improve from 0.12380\n",
            "5/5 [==============================] - 25s 5s/step - loss: 0.0697 - accuracy: 0.9871 - val_loss: 0.1345 - val_accuracy: 0.9580\n",
            "Epoch 16/20\n",
            "5/5 [==============================] - ETA: 0s - loss: 0.0518 - accuracy: 0.9812\n",
            "Epoch 00016: val_loss did not improve from 0.12380\n",
            "5/5 [==============================] - 25s 5s/step - loss: 0.0518 - accuracy: 0.9812 - val_loss: 0.2081 - val_accuracy: 0.9380\n",
            "Epoch 17/20\n",
            "5/5 [==============================] - ETA: 0s - loss: 0.0653 - accuracy: 0.9750\n",
            "Epoch 00017: val_loss did not improve from 0.12380\n",
            "5/5 [==============================] - 25s 5s/step - loss: 0.0653 - accuracy: 0.9750 - val_loss: 0.3000 - val_accuracy: 0.9278\n",
            "Epoch 18/20\n",
            "5/5 [==============================] - ETA: 0s - loss: 0.0250 - accuracy: 0.9935\n",
            "Epoch 00018: val_loss did not improve from 0.12380\n",
            "5/5 [==============================] - 25s 5s/step - loss: 0.0250 - accuracy: 0.9935 - val_loss: 0.1592 - val_accuracy: 0.9517\n",
            "Epoch 19/20\n",
            "5/5 [==============================] - ETA: 0s - loss: 0.0138 - accuracy: 0.9937\n",
            "Epoch 00019: val_loss did not improve from 0.12380\n",
            "5/5 [==============================] - 25s 5s/step - loss: 0.0138 - accuracy: 0.9937 - val_loss: 0.2091 - val_accuracy: 0.9443\n",
            "Epoch 20/20\n",
            "5/5 [==============================] - ETA: 0s - loss: 0.0476 - accuracy: 0.9812\n",
            "Epoch 00020: val_loss did not improve from 0.12380\n",
            "5/5 [==============================] - 25s 5s/step - loss: 0.0476 - accuracy: 0.9812 - val_loss: 0.1675 - val_accuracy: 0.9591\n",
            "Training completed in time:  0:08:38.465271\n"
          ],
          "name": "stdout"
        }
      ]
    },
    {
      "cell_type": "code",
      "metadata": {
        "id": "x9Tlo7_O-10H",
        "colab_type": "code",
        "colab": {
          "base_uri": "https://localhost:8080/",
          "height": 34
        },
        "outputId": "2b3994aa-e17d-4d53-eea2-6351da06395f"
      },
      "source": [
        ""
      ],
      "execution_count": 9,
      "outputs": [
        {
          "output_type": "stream",
          "text": [
            "4\n"
          ],
          "name": "stdout"
        }
      ]
    },
    {
      "cell_type": "code",
      "metadata": {
        "id": "tIGlTKsD-kSs",
        "colab_type": "code",
        "outputId": "22f31dd7-5835-49a9-853c-85b82d281e04",
        "colab": {
          "base_uri": "https://localhost:8080/",
          "height": 272
        }
      },
      "source": [
        "# reset the testing generator and then use our trained model to\n",
        "# make predictions on the data\n",
        "print(\"[INFO] evaluating network...\")\n",
        "test_set.reset()\n",
        "predIdxs = model.predict_generator(test_set,\tsteps=(len(list(paths.list_files(testpath))) // BS) + 1)\n",
        "predIdxs"
      ],
      "execution_count": 41,
      "outputs": [
        {
          "output_type": "stream",
          "text": [
            "[INFO] evaluating network...\n",
            "WARNING:tensorflow:From <ipython-input-41-142236ae98fd>:3: Model.predict_generator (from tensorflow.python.keras.engine.training) is deprecated and will be removed in a future version.\n",
            "Instructions for updating:\n",
            "Please use Model.predict, which supports generators.\n"
          ],
          "name": "stdout"
        },
        {
          "output_type": "stream",
          "text": [
            "/usr/local/lib/python3.6/dist-packages/PIL/Image.py:932: UserWarning: Palette images with Transparency expressed in bytes should be converted to RGBA images\n",
            "  \"Palette images with Transparency expressed in bytes should be \"\n"
          ],
          "name": "stderr"
        },
        {
          "output_type": "execute_result",
          "data": {
            "text/plain": [
              "array([[4.8585460e-09, 2.8159695e-08, 1.0000000e+00, 1.5150701e-09],\n",
              "       [9.9957162e-01, 3.3698190e-05, 2.9794802e-04, 9.6707226e-05],\n",
              "       [3.4822937e-13, 7.0339279e-10, 1.1588251e-13, 1.0000000e+00],\n",
              "       ...,\n",
              "       [1.9026457e-08, 3.3130096e-11, 1.0000000e+00, 1.5989888e-12],\n",
              "       [3.8274573e-16, 1.0321651e-14, 1.0000000e+00, 4.1537706e-12],\n",
              "       [3.3779954e-09, 1.2503614e-11, 1.5031120e-11, 1.0000000e+00]],\n",
              "      dtype=float32)"
            ]
          },
          "metadata": {
            "tags": []
          },
          "execution_count": 41
        }
      ]
    },
    {
      "cell_type": "code",
      "metadata": {
        "id": "vqY84TSsAr8l",
        "colab_type": "code",
        "outputId": "b8a64bd1-2b84-48f9-8a68-219654e8d51f",
        "colab": {
          "base_uri": "https://localhost:8080/",
          "height": 218
        }
      },
      "source": [
        "# for each image in the testing set we need to find the index of the\n",
        "# label with corresponding largest predicted probability\n",
        "predIdxs = np.argmax(predIdxs, axis=1)\n",
        "predIdxs"
      ],
      "execution_count": 42,
      "outputs": [
        {
          "output_type": "execute_result",
          "data": {
            "text/plain": [
              "array([2, 0, 3, 3, 0, 0, 0, 3, 0, 1, 1, 3, 3, 3, 2, 1, 1, 3, 2, 3, 3, 1,\n",
              "       0, 3, 0, 1, 1, 3, 2, 3, 3, 2, 0, 3, 2, 2, 2, 1, 1, 0, 3, 0, 0, 0,\n",
              "       2, 0, 3, 2, 1, 0, 2, 1, 1, 1, 3, 1, 2, 1, 3, 0, 3, 0, 2, 2, 1, 2,\n",
              "       1, 1, 2, 1, 2, 2, 2, 0, 0, 3, 0, 0, 1, 2, 2, 1, 3, 0, 0, 2, 3, 0,\n",
              "       1, 2, 0, 3, 3, 0, 2, 0, 3, 1, 1, 0, 1, 1, 1, 1, 3, 1, 2, 0, 0, 3,\n",
              "       0, 1, 1, 3, 2, 0, 2, 2, 1, 3, 3, 2, 3, 0, 0, 0, 1, 0, 3, 2, 0, 3,\n",
              "       2, 2, 2, 2, 3, 2, 0, 3, 1, 2, 3, 0, 0, 0, 1, 2, 2, 2, 1, 0, 0, 3,\n",
              "       3, 0, 1, 1, 3, 0, 0, 2, 2, 1, 2, 0, 2, 2, 3, 1, 2, 2, 0, 1, 3, 0,\n",
              "       2, 2, 1, 3, 0, 3, 1, 1, 3, 0, 1, 0, 2, 1, 1, 3, 0, 3, 0, 0, 1, 0,\n",
              "       3, 2, 3, 3, 2, 0, 3, 0, 1, 1, 1, 3, 0, 1, 1, 2, 3, 3, 1, 3, 1, 0,\n",
              "       2, 3, 1, 2, 3, 0, 3, 1, 2, 1, 2, 3, 3, 1, 0, 2, 1, 2, 3, 1, 0, 3,\n",
              "       0, 1, 3, 3, 3, 1, 3, 1, 2, 2, 3, 1, 0, 1, 1, 0, 3, 0, 2, 2, 2, 3])"
            ]
          },
          "metadata": {
            "tags": []
          },
          "execution_count": 42
        }
      ]
    },
    {
      "cell_type": "code",
      "metadata": {
        "id": "VXn2O-lyA94e",
        "colab_type": "code",
        "outputId": "3ded6940-44a0-4b65-eb0d-510c239f1e80",
        "colab": {
          "base_uri": "https://localhost:8080/",
          "height": 218
        }
      },
      "source": [
        "print(classification_report(test_set.classes, predIdxs,\n",
        "\ttarget_names=test_set.class_indices.keys()))\n",
        "# serialize the model to disk\n",
        "print(\"[INFO] saving model...\")\n",
        "model.save(MODEL_PATH, save_format=\"h5\")"
      ],
      "execution_count": 45,
      "outputs": [
        {
          "output_type": "stream",
          "text": [
            "              precision    recall  f1-score   support\n",
            "\n",
            "    backpack       0.24      0.24      0.24        66\n",
            "    footwear       0.25      0.26      0.26        66\n",
            "     glasses       0.30      0.29      0.29        66\n",
            "       watch       0.32      0.33      0.33        66\n",
            "\n",
            "    accuracy                           0.28       264\n",
            "   macro avg       0.28      0.28      0.28       264\n",
            "weighted avg       0.28      0.28      0.28       264\n",
            "\n",
            "[INFO] saving model...\n"
          ],
          "name": "stdout"
        }
      ]
    },
    {
      "cell_type": "code",
      "metadata": {
        "id": "Yum6vkWJ7B7J",
        "colab_type": "code",
        "colab": {}
      },
      "source": [
        "model_loaded = tf.keras.models.load_model(MODEL_PATH)"
      ],
      "execution_count": 0,
      "outputs": []
    },
    {
      "cell_type": "code",
      "metadata": {
        "id": "a06YvS7e7VcH",
        "colab_type": "code",
        "outputId": "a2ca801e-e7ce-4a9d-8448-e9240b93be75",
        "colab": {
          "base_uri": "https://localhost:8080/",
          "height": 34
        }
      },
      "source": [
        "test_set.class_indices.keys()"
      ],
      "execution_count": 48,
      "outputs": [
        {
          "output_type": "execute_result",
          "data": {
            "text/plain": [
              "dict_keys(['backpack', 'footwear', 'glasses', 'watch'])"
            ]
          },
          "metadata": {
            "tags": []
          },
          "execution_count": 48
        }
      ]
    },
    {
      "cell_type": "code",
      "metadata": {
        "id": "HpMvzuPYCBsE",
        "colab_type": "code",
        "outputId": "13902d6a-1b4e-49d3-f01b-f78c49641170",
        "colab": {
          "base_uri": "https://localhost:8080/",
          "height": 252
        }
      },
      "source": [
        "!ls /content/data/test/watch"
      ],
      "execution_count": 49,
      "outputs": [
        {
          "output_type": "stream",
          "text": [
            "00000000.jpg  00000016.jpg  00000032.jpeg  00000049.jpg   00000069.jpg\n",
            "00000001.jpg  00000018.jpg  00000033.jpg   00000050.jpg   00000070.jpg\n",
            "00000002.jpg  00000019.jpg  00000034.jpg   00000051.jpg   00000071.jpg\n",
            "00000003.jpg  00000020.jpg  00000035.jpg   00000053.jpg   00000072.jpg\n",
            "00000004.jpg  00000022.jpg  00000037.jpg   00000054.jpg   00000073.jpg\n",
            "00000005.jpg  00000023.jpg  00000038.jpg   00000055.jpeg  00000074.jpg\n",
            "00000006.jpg  00000024.jpg  00000039.jpeg  00000057.jpg   00000075.jpg\n",
            "00000007.jpg  00000025.jpg  00000041.jpg   00000059.jpg   00000076.jpg\n",
            "00000008.jpg  00000026.jpg  00000042.jpg   00000060.jpg   00000079.jpg\n",
            "00000010.jpg  00000027.jpg  00000043.jpg   00000061.jpg   00000080.jpg\n",
            "00000011.jpg  00000028.jpg  00000044.jpg   00000063.jpg\n",
            "00000012.jpg  00000029.jpg  00000045.jpg   00000064.jpeg\n",
            "00000014.jpg  00000030.jpg  00000046.jpg   00000066.jpg\n",
            "00000015.jpg  00000031.jpg  00000048.jpeg  00000067.jpg\n"
          ],
          "name": "stdout"
        }
      ]
    },
    {
      "cell_type": "code",
      "metadata": {
        "id": "cU_urfF77yff",
        "colab_type": "code",
        "outputId": "bd28aede-cf1f-4b47-b5f4-666e5e285aee",
        "colab": {
          "base_uri": "https://localhost:8080/",
          "height": 212
        }
      },
      "source": [
        "from matplotlib.pyplot import imshow\n",
        "import cv2\n",
        "from google.colab.patches import cv2_imshow\n",
        "from skimage import io\n",
        "\n",
        "input_img_o= \"/content/data/test/watch/00000049.jpg\"\n",
        "input_img = io.imread(input_img_o)\n",
        "input_img = cv2.resize(input_img, dsize=(128, 128), interpolation=cv2.INTER_CUBIC)\n",
        "print('Input Dimensions - Image : ',input_img.shape)\n",
        "print(cv2_imshow(input_img))\n",
        "\n",
        "#Reference https://stackoverflow.com/questions/43017017/keras-model-predict-for-a-single-image\n",
        "#Since you trained your model on mini-batches, your input is a tensor of shape [batch_size, image_width, image_height, number_of_channels].\n",
        "#When predicting, you have to respect this shape even if you have only one image. Your input should be of shape: [1, image_width, image_height, number_of_channels].\n",
        "\n",
        "from PIL import Image\n",
        "#import numpy as np\n",
        "from skimage import transform\n",
        "def load(filename):\n",
        "   input_img = io.imread(filename)\n",
        "   np_image = cv2.resize(input_img, dsize=(224, 224))\n",
        "   #np_image = np.array(np_image).astype('float32')/255\n",
        "   np_image = transform.resize(np_image, (224, 224, 3))\n",
        "   np_image = np.expand_dims(np_image, axis=0)\n",
        "   return np_image\n",
        "\n",
        "image = load(input_img_o)\n",
        "print((test_set.class_indices.keys()))\n",
        "print(model.predict(image))"
      ],
      "execution_count": 55,
      "outputs": [
        {
          "output_type": "stream",
          "text": [
            "Input Dimensions - Image :  (128, 128, 3)\n"
          ],
          "name": "stdout"
        },
        {
          "output_type": "display_data",
          "data": {
            "image/png": "[encoded data removed]",
            "text/plain": [
              "<PIL.Image.Image image mode=RGB size=128x128 at 0x7F80B2991240>"
            ]
          },
          "metadata": {
            "tags": []
          }
        },
        {
          "output_type": "stream",
          "text": [
            "None\n",
            "dict_keys(['backpack', 'footwear', 'glasses', 'watch'])\n",
            "[[0.00972684 0.00096219 0.921381   0.06793003]]\n"
          ],
          "name": "stdout"
        }
      ]
    },
    {
      "cell_type": "code",
      "metadata": {
        "id": "CXQ1hRIIKmBS",
        "colab_type": "code",
        "colab": {
          "base_uri": "https://localhost:8080/",
          "height": 252
        },
        "outputId": "30d550b4-2c3c-4a01-b108-9ed031ce530b"
      },
      "source": [
        "!ls /content/data/test/glasses"
      ],
      "execution_count": 56,
      "outputs": [
        {
          "output_type": "stream",
          "text": [
            "00000465.jpg  00000483.jpg  00000500.jpg   00000515.jpg   00000532.jpg\n",
            "00000466.jpg  00000484.jpg  00000501.jpg   00000516.jpg   00000533.jpg\n",
            "00000468.jpg  00000486.jpg  00000502.jpg   00000517.jpg   00000534.jpg\n",
            "00000470.jpg  00000487.jpg  00000503.jpg   00000518.jpg   00000535.jpg\n",
            "00000471.jpg  00000488.jpg  00000504.jpg   00000519.jpg   00000536.png\n",
            "00000472.jpg  00000489.jpg  00000505.jpg   00000520.jpg   00000539.jpg\n",
            "00000473.jpg  00000490.jpg  00000506.jpg   00000522.jpg   00000540.jpeg\n",
            "00000475.jpg  00000491.jpg  00000507.jpg   00000523.jpeg  00000541.jpg\n",
            "00000476.jpg  00000492.jpg  00000508.jpeg  00000524.jpg   00000542.jpg\n",
            "00000477.jpg  00000495.jpg  00000509.jpg   00000525.jpg   00000543.jpg\n",
            "00000479.jpg  00000496.jpg  00000511.jpg   00000526.jpg\n",
            "00000480.jpg  00000497.jpg  00000512.jpg   00000528.jpg\n",
            "00000481.jpg  00000498.jpg  00000513.jpg   00000529.jpg\n",
            "00000482.jpg  00000499.jpg  00000514.jpg   00000530.jpg\n"
          ],
          "name": "stdout"
        }
      ]
    },
    {
      "cell_type": "code",
      "metadata": {
        "id": "K2885zZDTIGF",
        "colab_type": "code",
        "colab": {
          "base_uri": "https://localhost:8080/",
          "height": 212
        },
        "outputId": "f6e2e787-f127-4507-9d17-14178d6af80b"
      },
      "source": [
        "from matplotlib.pyplot import imshow\n",
        "import cv2\n",
        "from google.colab.patches import cv2_imshow\n",
        "from skimage import io\n",
        "\n",
        "input_img_o= \"/content/data/test/glasses/00000530.jpg\"\n",
        "input_img = io.imread(input_img_o)\n",
        "input_img = cv2.resize(input_img, dsize=(128, 128), interpolation=cv2.INTER_CUBIC)\n",
        "print('Input Dimensions - Image : ',input_img.shape)\n",
        "print(cv2_imshow(input_img))\n",
        "\n",
        "#Reference https://stackoverflow.com/questions/43017017/keras-model-predict-for-a-single-image\n",
        "#Since you trained your model on mini-batches, your input is a tensor of shape [batch_size, image_width, image_height, number_of_channels].\n",
        "#When predicting, you have to respect this shape even if you have only one image. Your input should be of shape: [1, image_width, image_height, number_of_channels].\n",
        "\n",
        "from PIL import Image\n",
        "#import numpy as np\n",
        "from skimage import transform\n",
        "def load(filename):\n",
        "   input_img = io.imread(filename)\n",
        "   np_image = cv2.resize(input_img, dsize=(224, 224))\n",
        "   #np_image = np.array(np_image).astype('float32')/255\n",
        "   np_image = transform.resize(np_image, (224, 224, 3))\n",
        "   np_image = np.expand_dims(np_image, axis=0)\n",
        "   return np_image\n",
        "\n",
        "image = load(input_img_o)\n",
        "print((test_set.class_indices.keys()))\n",
        "print(model.predict(image))"
      ],
      "execution_count": 57,
      "outputs": [
        {
          "output_type": "stream",
          "text": [
            "Input Dimensions - Image :  (128, 128, 3)\n"
          ],
          "name": "stdout"
        },
        {
          "output_type": "display_data",
          "data": {
            "image/png": "[encoded data removed]",
            "text/plain": [
              "<PIL.Image.Image image mode=RGB size=128x128 at 0x7F80B27F2E48>"
            ]
          },
          "metadata": {
            "tags": []
          }
        },
        {
          "output_type": "stream",
          "text": [
            "None\n",
            "dict_keys(['backpack', 'footwear', 'glasses', 'watch'])\n",
            "[[0.01710733 0.00101216 0.8584082  0.1234723 ]]\n"
          ],
          "name": "stdout"
        }
      ]
    },
    {
      "cell_type": "code",
      "metadata": {
        "id": "erz4pcBzTPgL",
        "colab_type": "code",
        "colab": {
          "base_uri": "https://localhost:8080/",
          "height": 252
        },
        "outputId": "d67abebc-d37a-4b62-b7ee-a3ea28ca1dd2"
      },
      "source": [
        "!ls /content/data/test/backpack"
      ],
      "execution_count": 58,
      "outputs": [
        {
          "output_type": "stream",
          "text": [
            "00000010.png  00000269.png  00000335.jpg  00000350.jpg\t00000368.jpg\n",
            "00000018.png  00000270.png  00000336.jpg  00000351.jpg\t00000370.png\n",
            "00000027.png  00000275.png  00000337.jpg  00000352.jpg\t00000371.jpg\n",
            "00000053.png  00000324.jpg  00000338.jpg  00000353.jpg\t00000372.jpg\n",
            "00000069.png  00000325.jpg  00000340.jpg  00000354.jpg\t00000374.jpg\n",
            "00000131.png  00000326.jpg  00000341.png  00000355.jpg\t00000375.jpg\n",
            "00000137.png  00000327.jpg  00000342.jpg  00000356.jpg\t00000376.jpg\n",
            "00000198.png  00000328.jpg  00000343.jpg  00000357.jpg\t00000377.jpg\n",
            "00000199.png  00000329.png  00000344.jpg  00000359.jpg\t00000378.jpg\n",
            "00000208.png  00000330.png  00000345.jpg  00000360.jpg\t00000379.jpg\n",
            "00000214.png  00000331.jpg  00000346.jpg  00000361.jpg\n",
            "00000217.png  00000332.jpg  00000347.jpg  00000362.jpg\n",
            "00000245.png  00000333.jpg  00000348.jpg  00000363.jpg\n",
            "00000267.png  00000334.jpg  00000349.jpg  00000366.jpg\n"
          ],
          "name": "stdout"
        }
      ]
    },
    {
      "cell_type": "code",
      "metadata": {
        "id": "YXa55STlTVe1",
        "colab_type": "code",
        "colab": {
          "base_uri": "https://localhost:8080/",
          "height": 212
        },
        "outputId": "ba860c03-725f-4631-9fd6-fba02bbdfb71"
      },
      "source": [
        "from matplotlib.pyplot import imshow\n",
        "import cv2\n",
        "from google.colab.patches import cv2_imshow\n",
        "from skimage import io\n",
        "\n",
        "input_img_o= \"/content/data/test/backpack/00000366.jpg\"\n",
        "input_img = io.imread(input_img_o)\n",
        "input_img = cv2.resize(input_img, dsize=(128, 128), interpolation=cv2.INTER_CUBIC)\n",
        "print('Input Dimensions - Image : ',input_img.shape)\n",
        "print(cv2_imshow(input_img))\n",
        "\n",
        "#Reference https://stackoverflow.com/questions/43017017/keras-model-predict-for-a-single-image\n",
        "#Since you trained your model on mini-batches, your input is a tensor of shape [batch_size, image_width, image_height, number_of_channels].\n",
        "#When predicting, you have to respect this shape even if you have only one image. Your input should be of shape: [1, image_width, image_height, number_of_channels].\n",
        "\n",
        "from PIL import Image\n",
        "#import numpy as np\n",
        "from skimage import transform\n",
        "def load(filename):\n",
        "   input_img = io.imread(filename)\n",
        "   np_image = cv2.resize(input_img, dsize=(224, 224))\n",
        "   #np_image = np.array(np_image).astype('float32')/255\n",
        "   np_image = transform.resize(np_image, (224, 224, 3))\n",
        "   np_image = np.expand_dims(np_image, axis=0)\n",
        "   return np_image\n",
        "\n",
        "image = load(input_img_o)\n",
        "print((test_set.class_indices.keys()))\n",
        "print(model.predict(image))"
      ],
      "execution_count": 59,
      "outputs": [
        {
          "output_type": "stream",
          "text": [
            "Input Dimensions - Image :  (128, 128, 3)\n"
          ],
          "name": "stdout"
        },
        {
          "output_type": "display_data",
          "data": {
            "image/png": "[encoded data removed]",
            "text/plain": [
              "<PIL.Image.Image image mode=RGB size=128x128 at 0x7F80B2808470>"
            ]
          },
          "metadata": {
            "tags": []
          }
        },
        {
          "output_type": "stream",
          "text": [
            "None\n",
            "dict_keys(['backpack', 'footwear', 'glasses', 'watch'])\n",
            "[[0.01170626 0.00134483 0.8793317  0.10761721]]\n"
          ],
          "name": "stdout"
        }
      ]
    },
    {
      "cell_type": "code",
      "metadata": {
        "id": "m914ffPRTiqz",
        "colab_type": "code",
        "colab": {
          "base_uri": "https://localhost:8080/",
          "height": 252
        },
        "outputId": "cc98d696-3208-47a8-b67c-9c579fa07318"
      },
      "source": [
        "!ls /content/data/test/footwear/"
      ],
      "execution_count": 60,
      "outputs": [
        {
          "output_type": "stream",
          "text": [
            "00000407.jpg  00000422.jpg  00000437.jpg   00000451.jpg  00000465.jpg\n",
            "00000408.jpg  00000423.jpg  00000438.jpeg  00000452.jpg  00000466.jpeg\n",
            "00000409.jpg  00000424.jpg  00000439.jpg   00000453.jpg  00000467.jpg\n",
            "00000410.jpg  00000426.jpg  00000440.jpg   00000454.jpg  00000468.jpg\n",
            "00000411.jpg  00000427.jpg  00000441.jpeg  00000455.JPG  00000469.jpeg\n",
            "00000412.jpg  00000428.jpg  00000442.jpg   00000456.jpg  00000470.jpg\n",
            "00000413.jpg  00000429.jpg  00000443.jpg   00000457.jpg  00000471.jpg\n",
            "00000414.jpg  00000430.jpg  00000444.jpg   00000458.jpg  00000472.jpg\n",
            "00000415.jpg  00000431.png  00000445.jpg   00000459.jpg  00000473.jpg\n",
            "00000416.jpg  00000432.jpg  00000446.jpg   00000460.jpg  00000474.jpg\n",
            "00000417.jpg  00000433.jpg  00000447.jpg   00000461.jpg\n",
            "00000418.jpg  00000434.jpg  00000448.jpg   00000462.jpg\n",
            "00000419.png  00000435.jpg  00000449.jpg   00000463.jpg\n",
            "00000420.jpg  00000436.jpg  00000450.jpg   00000464.jpg\n"
          ],
          "name": "stdout"
        }
      ]
    },
    {
      "cell_type": "code",
      "metadata": {
        "id": "_Fvx8DCJToqZ",
        "colab_type": "code",
        "colab": {
          "base_uri": "https://localhost:8080/",
          "height": 212
        },
        "outputId": "a79f225e-9fb6-4330-e5ef-2f194b1eecae"
      },
      "source": [
        "from matplotlib.pyplot import imshow\n",
        "import cv2\n",
        "from google.colab.patches import cv2_imshow\n",
        "from skimage import io\n",
        "\n",
        "input_img_o= \"/content/data/test/footwear/00000466.jpeg\"\n",
        "input_img = io.imread(input_img_o)\n",
        "input_img = cv2.resize(input_img, dsize=(128, 128), interpolation=cv2.INTER_CUBIC)\n",
        "print('Input Dimensions - Image : ',input_img.shape)\n",
        "print(cv2_imshow(input_img))\n",
        "\n",
        "#Reference https://stackoverflow.com/questions/43017017/keras-model-predict-for-a-single-image\n",
        "#Since you trained your model on mini-batches, your input is a tensor of shape [batch_size, image_width, image_height, number_of_channels].\n",
        "#When predicting, you have to respect this shape even if you have only one image. Your input should be of shape: [1, image_width, image_height, number_of_channels].\n",
        "\n",
        "from PIL import Image\n",
        "#import numpy as np\n",
        "from skimage import transform\n",
        "def load(filename):\n",
        "   input_img = io.imread(filename)\n",
        "   np_image = cv2.resize(input_img, dsize=(224, 224))\n",
        "   #np_image = np.array(np_image).astype('float32')/255\n",
        "   np_image = transform.resize(np_image, (224, 224, 3))\n",
        "   np_image = np.expand_dims(np_image, axis=0)\n",
        "   return np_image\n",
        "\n",
        "image = load(input_img_o)\n",
        "print((test_set.class_indices.keys()))\n",
        "print(model.predict(image))"
      ],
      "execution_count": 62,
      "outputs": [
        {
          "output_type": "stream",
          "text": [
            "Input Dimensions - Image :  (128, 128, 3)\n"
          ],
          "name": "stdout"
        },
        {
          "output_type": "display_data",
          "data": {
            "image/png": "[encoded data removed]",
            "text/plain": [
              "<PIL.Image.Image image mode=RGB size=128x128 at 0x7F80B29B2080>"
            ]
          },
          "metadata": {
            "tags": []
          }
        },
        {
          "output_type": "stream",
          "text": [
            "None\n",
            "dict_keys(['backpack', 'footwear', 'glasses', 'watch'])\n",
            "[[0.00796772 0.00101159 0.9341711  0.05684955]]\n"
          ],
          "name": "stdout"
        }
      ]
    }
  ]
}