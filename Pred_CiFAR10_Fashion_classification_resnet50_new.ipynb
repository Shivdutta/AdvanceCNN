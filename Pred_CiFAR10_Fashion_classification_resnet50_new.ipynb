{
  "nbformat": 4,
  "nbformat_minor": 0,
  "metadata": {
    "colab": {
      "name": "Pred_CiFAR10-Fashion_classification_resnet50_new.ipynb",
      "provenance": [],
      "collapsed_sections": [],
      "include_colab_link": true
    },
    "kernelspec": {
      "name": "python3",
      "display_name": "Python 3"
    },
    "accelerator": "GPU"
  },
  "cells": [
    {
      "cell_type": "markdown",
      "metadata": {
        "id": "view-in-github",
        "colab_type": "text"
      },
      "source": [
        "<a href=\"https://colab.research.google.com/github/Shivdutta/AdvanceCNN/blob/master/Pred_CiFAR10_Fashion_classification_resnet50_new.ipynb\" target=\"_parent\"><img src=\"https://colab.research.google.com/assets/colab-badge.svg\" alt=\"Open In Colab\"/></a>"
      ]
    },
    {
      "cell_type": "code",
      "metadata": {
        "id": "0elizLx20lPD",
        "colab_type": "code",
        "colab": {}
      },
      "source": [
        "from tensorflow.keras.applications.resnet50 import ResNet50, preprocess_input\n",
        "import tensorflow.keras as keras\n",
        "from tensorflow.keras import models\n",
        "from tensorflow.keras import layers\n",
        "from tensorflow.keras import optimizers\n",
        "import tensorflow as tf\n",
        "from keras.utils import np_utils\n",
        "from keras.models import load_model\n",
        "from keras.datasets import cifar10\n",
        "from keras.preprocessing import image\n",
        "import numpy as np\n",
        "import matplotlib.pyplot as plt\n",
        "from PIL import Image\n",
        "import cv2\n",
        "#from keras.applications.vgg16 import VGG16, preprocess_input\n",
        "\n",
        "from tensorflow.keras.preprocessing.image import ImageDataGenerator\n",
        "from tensorflow.keras.layers import AveragePooling2D\n",
        "from tensorflow.keras.layers import Dropout\n",
        "from tensorflow.keras.layers import Flatten\n",
        "from tensorflow.keras.layers import Dense\n",
        "from tensorflow.keras.layers import Input\n",
        "from tensorflow.keras.models import Model\n",
        "from tensorflow.keras.optimizers import Adam\n",
        "from tensorflow.keras.applications import ResNet50\n",
        "from sklearn.metrics import classification_report\n",
        "from imutils import paths\n"
      ],
      "execution_count": 0,
      "outputs": []
    },
    {
      "cell_type": "code",
      "metadata": {
        "id": "YSZA2qJJFWiG",
        "colab_type": "code",
        "outputId": "5646fab1-1b8e-4311-f823-3196e41926ed",
        "colab": {
          "base_uri": "https://localhost:8080/",
          "height": 34
        }
      },
      "source": [
        "tf.__version__"
      ],
      "execution_count": 21,
      "outputs": [
        {
          "output_type": "execute_result",
          "data": {
            "text/plain": [
              "'2.2.0-rc3'"
            ]
          },
          "metadata": {
            "tags": []
          },
          "execution_count": 21
        }
      ]
    },
    {
      "cell_type": "code",
      "metadata": {
        "id": "0z8FC5ym440h",
        "colab_type": "code",
        "outputId": "dfca1ec0-4b87-4ac9-9814-b081c16a7b0b",
        "colab": {
          "base_uri": "https://localhost:8080/",
          "height": 121
        }
      },
      "source": [
        "from google.colab import drive\n",
        "drive.mount('/content/gdrive/', force_remount=True)\n",
        "\n",
        "!unzip -q \"/content/gdrive/My Drive/CNN_Images/VGG_class_data.zip\""
      ],
      "execution_count": 3,
      "outputs": [
        {
          "output_type": "stream",
          "text": [
            "Go to this URL in a browser: https://accounts.google.com/o/oauth2/auth?client_id=947318989803-6bn6qk8qdgf4n4g3pfee6491hc0brc4i.apps.googleusercontent.com&redirect_uri=urn%3aietf%3awg%3aoauth%3a2.0%3aoob&response_type=code&scope=email%20https%3a%2f%2fwww.googleapis.com%2fauth%2fdocs.test%20https%3a%2f%2fwww.googleapis.com%2fauth%2fdrive%20https%3a%2f%2fwww.googleapis.com%2fauth%2fdrive.photos.readonly%20https%3a%2f%2fwww.googleapis.com%2fauth%2fpeopleapi.readonly\n",
            "\n",
            "Enter your authorization code:\n",
            "··········\n",
            "Mounted at /content/gdrive/\n"
          ],
          "name": "stdout"
        }
      ]
    },
    {
      "cell_type": "code",
      "metadata": {
        "id": "5lwOggMN5Jej",
        "colab_type": "code",
        "outputId": "f8a68a18-d952-4ef6-98cb-a0912d5bcf9b",
        "colab": {
          "base_uri": "https://localhost:8080/",
          "height": 34
        }
      },
      "source": [
        "!ls /content/data/train"
      ],
      "execution_count": 40,
      "outputs": [
        {
          "output_type": "stream",
          "text": [
            "backpack  footwear  glasses  watch\n"
          ],
          "name": "stdout"
        }
      ]
    },
    {
      "cell_type": "code",
      "metadata": {
        "id": "gMnLaugWwMgp",
        "colab_type": "code",
        "colab": {}
      },
      "source": [
        "#Give dataset path\n",
        "trainpath = \"/content/data/train/\"\n",
        "testpath = \"/content/data/test/\"\n",
        "classes = 4\n",
        "Image_Size =128\n",
        "batch_size=20\n",
        "\n",
        "INIT_LR = 1e-4\n",
        "BS = 32\n",
        "NUM_EPOCHS = 20\n",
        "# define the path to the serialized output model after training\n",
        "MODEL_PATH = \"fashion_resnet.model\"\n"
      ],
      "execution_count": 0,
      "outputs": []
    },
    {
      "cell_type": "code",
      "metadata": {
        "id": "RWVo7KDc06tH",
        "colab_type": "code",
        "colab": {}
      },
      "source": [
        "baseModel = ResNet50(weights=\"imagenet\", include_top=False,\n",
        "\tinput_tensor=Input(shape=(224, 224, 3)))\n"
      ],
      "execution_count": 0,
      "outputs": []
    },
    {
      "cell_type": "code",
      "metadata": {
        "id": "8Iug2iWNviWf",
        "colab_type": "code",
        "colab": {}
      },
      "source": [
        "#baseModel.summary()"
      ],
      "execution_count": 0,
      "outputs": []
    },
    {
      "cell_type": "code",
      "metadata": {
        "id": "8ZPjaoOO8beV",
        "colab_type": "code",
        "colab": {}
      },
      "source": [
        "# initialize the training training data augmentation object\n",
        "trainAug = ImageDataGenerator(\n",
        "\trotation_range=25,\n",
        "\tzoom_range=0.1,\n",
        "\twidth_shift_range=0.1,\n",
        "\theight_shift_range=0.1,\n",
        "\tshear_range=0.2,\n",
        "\thorizontal_flip=True,\n",
        "\tfill_mode=\"nearest\")\n",
        "# initialize the validation/testing data augmentation object (which\n",
        "# we'll be adding mean subtraction to)\n",
        "valAug = ImageDataGenerator()\n",
        "# define the ImageNet mean subtraction (in RGB order) and set the\n",
        "# the mean subtraction value for each of the data augmentation\n",
        "# objects\n",
        "mean = np.array([123.68, 116.779, 103.939], dtype=\"float32\")\n",
        "trainAug.mean = mean\n",
        "valAug.mean = mean"
      ],
      "execution_count": 0,
      "outputs": []
    },
    {
      "cell_type": "code",
      "metadata": {
        "id": "LngUU_lQ8nR5",
        "colab_type": "code",
        "outputId": "ffb70859-d426-47f2-9c45-7b9f73ee23ce",
        "colab": {
          "base_uri": "https://localhost:8080/",
          "height": 67
        }
      },
      "source": [
        "# initialize the training generator\n",
        "trainGen = trainAug.flow_from_directory(\n",
        "\ttrainpath,\n",
        "\tclass_mode=\"categorical\",\n",
        "\ttarget_size=(224, 224),\n",
        "\tcolor_mode=\"rgb\",\n",
        "\tshuffle=True,\n",
        "\tbatch_size=BS)\n",
        "# initialize the validation generator\n",
        "valGen = valAug.flow_from_directory(\n",
        "\ttestpath,\n",
        "\tclass_mode=\"categorical\",\n",
        "\ttarget_size=(224, 224),\n",
        "\tcolor_mode=\"rgb\",\n",
        "\tshuffle=False,\n",
        "\tbatch_size=BS)\n",
        "# initialize the testing generator\n",
        "testGen = valAug.flow_from_directory(\n",
        "\ttestpath,\n",
        "\tclass_mode=\"categorical\",\n",
        "\ttarget_size=(224, 224),\n",
        "\tcolor_mode=\"rgb\",\n",
        "\tshuffle=False,\n",
        "\tbatch_size=BS)"
      ],
      "execution_count": 53,
      "outputs": [
        {
          "output_type": "stream",
          "text": [
            "Found 475 images belonging to 4 classes.\n",
            "Found 264 images belonging to 4 classes.\n",
            "Found 264 images belonging to 4 classes.\n"
          ],
          "name": "stdout"
        }
      ]
    },
    {
      "cell_type": "code",
      "metadata": {
        "id": "sExkN0NGCpMC",
        "colab_type": "code",
        "outputId": "18d4dd66-23b7-43cc-93ce-8d5658ae422a",
        "colab": {
          "base_uri": "https://localhost:8080/",
          "height": 34
        }
      },
      "source": [
        "# load the ResNet-50 network, ensuring the head FC layer sets are left\n",
        "# off\n",
        "print(\"[INFO] preparing model...\")\n",
        "baseModel = ResNet50(weights=\"imagenet\", include_top=False,\n",
        "\tinput_tensor=Input(shape=(224, 224, 3)))\n",
        "# construct the head of the model that will be placed on top of the\n",
        "# the base model\n",
        "headModel = baseModel.output\n",
        "headModel = AveragePooling2D(pool_size=(7, 7))(headModel)\n",
        "headModel = Flatten(name=\"flatten\")(headModel)\n",
        "headModel = Dense(256, activation=\"relu\")(headModel)\n",
        "headModel = Dropout(0.5)(headModel)\n",
        "headModel = Dense(classes, activation=\"softmax\")(headModel)\n",
        "# place the head FC model on top of the base model (this will become\n",
        "# the actual model we will train)\n",
        "model = Model(inputs=baseModel.input, outputs=headModel)\n",
        "# loop over all layers in the base model and freeze them so they will\n",
        "# *not* be updated during the training process\n",
        "for layer in baseModel.layers:\n",
        "\tlayer.trainable = False"
      ],
      "execution_count": 54,
      "outputs": [
        {
          "output_type": "stream",
          "text": [
            "[INFO] preparing model...\n"
          ],
          "name": "stdout"
        }
      ]
    },
    {
      "cell_type": "code",
      "metadata": {
        "id": "hxfWoeMnzVDI",
        "colab_type": "code",
        "outputId": "6b53ed50-b2d2-4f08-9cc5-a5f18b27dc15",
        "colab": {
          "base_uri": "https://localhost:8080/",
          "height": 759
        }
      },
      "source": [
        "# compile the model\n",
        "opt = Adam(lr=INIT_LR, decay=INIT_LR / NUM_EPOCHS)\n",
        "model.compile(loss=\"categorical_crossentropy\", optimizer=opt,\tmetrics=[\"accuracy\"])\n",
        "# train the model\n",
        "print(\"[INFO] training model...\")\n",
        "H = model.fit_generator(\n",
        "\ttrainGen,\n",
        "\tsteps_per_epoch=len(list(paths.list_files(trainpath))) // BS,\n",
        "\tvalidation_data=valGen,\n",
        "\tvalidation_steps=len(list(paths.list_files(testpath))) // BS,\n",
        "\tepochs=NUM_EPOCHS)"
      ],
      "execution_count": 55,
      "outputs": [
        {
          "output_type": "stream",
          "text": [
            "[INFO] training model...\n",
            "Epoch 1/20\n",
            " 2/14 [===>..........................] - ETA: 5s - loss: 2.2907 - accuracy: 0.2500"
          ],
          "name": "stdout"
        },
        {
          "output_type": "stream",
          "text": [
            "/usr/local/lib/python3.6/dist-packages/PIL/Image.py:932: UserWarning: Palette images with Transparency expressed in bytes should be converted to RGBA images\n",
            "  \"Palette images with Transparency expressed in bytes should be \"\n"
          ],
          "name": "stderr"
        },
        {
          "output_type": "stream",
          "text": [
            "14/14 [==============================] - 15s 1s/step - loss: 1.3809 - accuracy: 0.4576 - val_loss: 0.5700 - val_accuracy: 0.8242\n",
            "Epoch 2/20\n",
            "14/14 [==============================] - 15s 1s/step - loss: 0.5856 - accuracy: 0.7901 - val_loss: 0.2882 - val_accuracy: 0.9258\n",
            "Epoch 3/20\n",
            "14/14 [==============================] - 14s 1s/step - loss: 0.3829 - accuracy: 0.8804 - val_loss: 0.2073 - val_accuracy: 0.9414\n",
            "Epoch 4/20\n",
            "14/14 [==============================] - 15s 1s/step - loss: 0.2669 - accuracy: 0.9210 - val_loss: 0.1734 - val_accuracy: 0.9609\n",
            "Epoch 5/20\n",
            "14/14 [==============================] - 14s 986ms/step - loss: 0.2086 - accuracy: 0.9300 - val_loss: 0.1545 - val_accuracy: 0.9609\n",
            "Epoch 6/20\n",
            "14/14 [==============================] - 15s 1s/step - loss: 0.1548 - accuracy: 0.9549 - val_loss: 0.1525 - val_accuracy: 0.9648\n",
            "Epoch 7/20\n",
            "14/14 [==============================] - 15s 1s/step - loss: 0.1440 - accuracy: 0.9661 - val_loss: 0.1370 - val_accuracy: 0.9648\n",
            "Epoch 8/20\n",
            "14/14 [==============================] - 14s 1s/step - loss: 0.1648 - accuracy: 0.9458 - val_loss: 0.1201 - val_accuracy: 0.9688\n",
            "Epoch 9/20\n",
            "14/14 [==============================] - 15s 1s/step - loss: 0.1055 - accuracy: 0.9752 - val_loss: 0.1200 - val_accuracy: 0.9688\n",
            "Epoch 10/20\n",
            "14/14 [==============================] - 14s 994ms/step - loss: 0.0984 - accuracy: 0.9752 - val_loss: 0.1068 - val_accuracy: 0.9688\n",
            "Epoch 11/20\n",
            "14/14 [==============================] - 14s 1s/step - loss: 0.0962 - accuracy: 0.9752 - val_loss: 0.1034 - val_accuracy: 0.9688\n",
            "Epoch 12/20\n",
            "14/14 [==============================] - 15s 1s/step - loss: 0.0634 - accuracy: 0.9910 - val_loss: 0.1007 - val_accuracy: 0.9727\n",
            "Epoch 13/20\n",
            "14/14 [==============================] - 14s 1s/step - loss: 0.0845 - accuracy: 0.9729 - val_loss: 0.1008 - val_accuracy: 0.9688\n",
            "Epoch 14/20\n",
            "14/14 [==============================] - 15s 1s/step - loss: 0.0851 - accuracy: 0.9797 - val_loss: 0.1100 - val_accuracy: 0.9688\n",
            "Epoch 15/20\n",
            "14/14 [==============================] - 14s 1s/step - loss: 0.0534 - accuracy: 0.9887 - val_loss: 0.1030 - val_accuracy: 0.9766\n",
            "Epoch 16/20\n",
            "14/14 [==============================] - 14s 1s/step - loss: 0.0538 - accuracy: 0.9888 - val_loss: 0.0970 - val_accuracy: 0.9766\n",
            "Epoch 17/20\n",
            "14/14 [==============================] - 14s 1s/step - loss: 0.0517 - accuracy: 0.9819 - val_loss: 0.0949 - val_accuracy: 0.9805\n",
            "Epoch 18/20\n",
            "14/14 [==============================] - 15s 1s/step - loss: 0.0376 - accuracy: 0.9977 - val_loss: 0.0968 - val_accuracy: 0.9805\n",
            "Epoch 19/20\n",
            "14/14 [==============================] - 15s 1s/step - loss: 0.0591 - accuracy: 0.9865 - val_loss: 0.0982 - val_accuracy: 0.9766\n",
            "Epoch 20/20\n",
            "14/14 [==============================] - 14s 1s/step - loss: 0.0504 - accuracy: 0.9910 - val_loss: 0.0821 - val_accuracy: 0.9805\n"
          ],
          "name": "stdout"
        }
      ]
    },
    {
      "cell_type": "code",
      "metadata": {
        "id": "tIGlTKsD-kSs",
        "colab_type": "code",
        "outputId": "ba3be187-22c4-458b-8ce4-8dee2660e0ff",
        "colab": {
          "base_uri": "https://localhost:8080/",
          "height": 202
        }
      },
      "source": [
        "# reset the testing generator and then use our trained model to\n",
        "# make predictions on the data\n",
        "print(\"[INFO] evaluating network...\")\n",
        "testGen.reset()\n",
        "predIdxs = model.predict_generator(testGen,\tsteps=(len(list(paths.list_files(testpath))) // BS) + 1)\n",
        "predIdxs"
      ],
      "execution_count": 56,
      "outputs": [
        {
          "output_type": "stream",
          "text": [
            "[INFO] evaluating network...\n"
          ],
          "name": "stdout"
        },
        {
          "output_type": "stream",
          "text": [
            "/usr/local/lib/python3.6/dist-packages/PIL/Image.py:932: UserWarning: Palette images with Transparency expressed in bytes should be converted to RGBA images\n",
            "  \"Palette images with Transparency expressed in bytes should be \"\n"
          ],
          "name": "stderr"
        },
        {
          "output_type": "execute_result",
          "data": {
            "text/plain": [
              "array([[9.99868870e-01, 5.67904899e-05, 3.23794557e-05, 4.20259057e-05],\n",
              "       [9.72639799e-01, 4.82106334e-05, 5.99928107e-03, 2.13126689e-02],\n",
              "       [9.82567251e-01, 2.59430637e-03, 1.26306002e-03, 1.35753416e-02],\n",
              "       ...,\n",
              "       [8.22721422e-03, 1.34591106e-03, 5.15790703e-03, 9.85268891e-01],\n",
              "       [1.90365663e-05, 6.63738174e-04, 1.01372054e-04, 9.99215841e-01],\n",
              "       [8.49278695e-06, 3.28584633e-07, 3.45501235e-06, 9.99987721e-01]],\n",
              "      dtype=float32)"
            ]
          },
          "metadata": {
            "tags": []
          },
          "execution_count": 56
        }
      ]
    },
    {
      "cell_type": "code",
      "metadata": {
        "id": "vqY84TSsAr8l",
        "colab_type": "code",
        "outputId": "53ed87ba-c225-4525-c1ef-9433f3fa4924",
        "colab": {
          "base_uri": "https://localhost:8080/",
          "height": 218
        }
      },
      "source": [
        "# for each image in the testing set we need to find the index of the\n",
        "# label with corresponding largest predicted probability\n",
        "predIdxs = np.argmax(predIdxs, axis=1)\n",
        "predIdxs"
      ],
      "execution_count": 57,
      "outputs": [
        {
          "output_type": "execute_result",
          "data": {
            "text/plain": [
              "array([0, 0, 0, 0, 0, 0, 0, 0, 0, 0, 0, 3, 0, 0, 0, 0, 0, 0, 0, 0, 0, 0,\n",
              "       0, 0, 0, 0, 0, 0, 0, 0, 0, 0, 0, 0, 0, 0, 0, 0, 0, 0, 0, 0, 0, 0,\n",
              "       0, 0, 0, 0, 0, 0, 0, 0, 0, 0, 0, 0, 0, 0, 0, 0, 0, 0, 1, 0, 0, 0,\n",
              "       1, 1, 1, 1, 1, 1, 1, 1, 1, 1, 1, 1, 1, 1, 1, 1, 1, 1, 1, 1, 1, 1,\n",
              "       1, 1, 1, 1, 1, 1, 1, 1, 1, 1, 1, 1, 1, 1, 1, 1, 1, 1, 1, 1, 1, 1,\n",
              "       1, 1, 1, 1, 1, 1, 1, 1, 1, 1, 1, 1, 1, 1, 1, 1, 1, 1, 1, 1, 1, 1,\n",
              "       2, 2, 1, 2, 2, 2, 2, 1, 2, 2, 2, 2, 2, 2, 2, 2, 2, 2, 2, 2, 2, 2,\n",
              "       2, 2, 2, 2, 2, 2, 2, 2, 2, 2, 2, 2, 2, 2, 2, 2, 2, 2, 2, 2, 2, 2,\n",
              "       2, 2, 2, 2, 2, 2, 2, 2, 2, 2, 2, 2, 2, 2, 2, 2, 3, 2, 2, 2, 2, 2,\n",
              "       3, 3, 3, 3, 3, 3, 3, 3, 3, 3, 3, 3, 3, 3, 3, 3, 3, 3, 3, 3, 3, 3,\n",
              "       3, 3, 3, 3, 3, 3, 3, 3, 3, 3, 3, 3, 3, 3, 3, 3, 3, 3, 3, 3, 3, 3,\n",
              "       3, 3, 3, 3, 3, 3, 3, 3, 3, 3, 3, 3, 3, 3, 3, 3, 0, 3, 3, 3, 3, 3])"
            ]
          },
          "metadata": {
            "tags": []
          },
          "execution_count": 57
        }
      ]
    },
    {
      "cell_type": "code",
      "metadata": {
        "id": "VXn2O-lyA94e",
        "colab_type": "code",
        "outputId": "f2f479ec-58dc-4477-ae16-de53a6b48f5e",
        "colab": {
          "base_uri": "https://localhost:8080/",
          "height": 218
        }
      },
      "source": [
        "# show a nicely formatted classification report\n",
        "print(classification_report(testGen.classes, predIdxs,\n",
        "\ttarget_names=testGen.class_indices.keys()))\n",
        "# serialize the model to disk\n",
        "print(\"[INFO] saving model...\")\n",
        "model.save(MODEL_PATH, save_format=\"h5\")"
      ],
      "execution_count": 58,
      "outputs": [
        {
          "output_type": "stream",
          "text": [
            "              precision    recall  f1-score   support\n",
            "\n",
            "    backpack       0.98      0.97      0.98        66\n",
            "    footwear       0.96      1.00      0.98        66\n",
            "     glasses       1.00      0.95      0.98        66\n",
            "       watch       0.97      0.98      0.98        66\n",
            "\n",
            "    accuracy                           0.98       264\n",
            "   macro avg       0.98      0.98      0.98       264\n",
            "weighted avg       0.98      0.98      0.98       264\n",
            "\n",
            "[INFO] saving model...\n"
          ],
          "name": "stdout"
        }
      ]
    },
    {
      "cell_type": "code",
      "metadata": {
        "id": "Yum6vkWJ7B7J",
        "colab_type": "code",
        "colab": {}
      },
      "source": [
        "model_loaded = tf.keras.models.load_model(MODEL_PATH)"
      ],
      "execution_count": 0,
      "outputs": []
    },
    {
      "cell_type": "code",
      "metadata": {
        "id": "a06YvS7e7VcH",
        "colab_type": "code",
        "outputId": "03d585ed-110c-4fbb-c69a-d0b5c22b377e",
        "colab": {
          "base_uri": "https://localhost:8080/",
          "height": 34
        }
      },
      "source": [
        "testGen.class_indices.keys()"
      ],
      "execution_count": 60,
      "outputs": [
        {
          "output_type": "execute_result",
          "data": {
            "text/plain": [
              "dict_keys(['backpack', 'footwear', 'glasses', 'watch'])"
            ]
          },
          "metadata": {
            "tags": []
          },
          "execution_count": 60
        }
      ]
    },
    {
      "cell_type": "code",
      "metadata": {
        "id": "HpMvzuPYCBsE",
        "colab_type": "code",
        "outputId": "7e0dfafc-8dbe-45a6-8a15-9ea059c7d35a",
        "colab": {
          "base_uri": "https://localhost:8080/",
          "height": 386
        }
      },
      "source": [
        "!ls /content/data/train/watch"
      ],
      "execution_count": 61,
      "outputs": [
        {
          "output_type": "stream",
          "text": [
            "00000009.png  00000233.jpg  00000255.jpg  00000280.jpg\t00000304.jpg\n",
            "00000017.png  00000234.jpg  00000256.jpg  00000281.jpg\t00000306.jpg\n",
            "00000036.png  00000235.jpg  00000257.jpg  00000282.jpg\t00000307.jpg\n",
            "00000047.png  00000236.jpg  00000258.jpg  00000283.jpg\t00000308.png\n",
            "00000052.png  00000237.jpg  00000259.jpg  00000284.jpg\t00000309.jpg\n",
            "00000056.png  00000238.jpg  00000261.jpg  00000285.jpg\t00000312.jpg\n",
            "00000058.png  00000239.jpg  00000262.jpg  00000286.jpg\t00000313.jpg\n",
            "00000068.png  00000240.jpg  00000263.jpg  00000288.jpg\t00000315.jpg\n",
            "00000078.png  00000241.jpg  00000264.jpg  00000289.jpg\t00000316.jpg\n",
            "00000086.png  00000242.jpg  00000265.jpg  00000290.jpg\t00000317.jpg\n",
            "00000093.png  00000243.jpg  00000266.jpg  00000291.jpg\t00000318.png\n",
            "00000096.png  00000244.jpg  00000267.jpg  00000292.jpg\t00000319.jpg\n",
            "00000140.png  00000245.jpg  00000268.jpg  00000293.png\t00000320.jpg\n",
            "00000158.png  00000246.jpg  00000269.jpg  00000294.jpg\t00000321.jpg\n",
            "00000166.png  00000247.jpg  00000271.jpg  00000295.jpg\t00000322.jpg\n",
            "00000168.png  00000248.jpg  00000272.jpg  00000296.jpg\t00000323.png\n",
            "00000169.png  00000249.png  00000273.jpg  00000297.jpg\t00000324.jpg\n",
            "00000208.png  00000250.jpg  00000274.jpg  00000298.jpg\t00000325.jpg\n",
            "00000212.png  00000251.jpg  00000275.jpg  00000299.jpg\t00000326.jpg\n",
            "00000224.png  00000252.jpg  00000277.jpg  00000300.jpg\t00000327.jpg\n",
            "00000231.jpg  00000253.jpg  00000278.jpg  00000301.jpg\t00000328.png\n",
            "00000232.jpg  00000254.jpg  00000279.jpg  00000303.png\t00000329.jpg\n"
          ],
          "name": "stdout"
        }
      ]
    },
    {
      "cell_type": "code",
      "metadata": {
        "id": "cU_urfF77yff",
        "colab_type": "code",
        "outputId": "ffa635e4-a1a3-4265-be38-8667658a74b3",
        "colab": {
          "base_uri": "https://localhost:8080/",
          "height": 212
        }
      },
      "source": [
        "from matplotlib.pyplot import imshow\n",
        "import cv2\n",
        "from google.colab.patches import cv2_imshow\n",
        "from skimage import io\n",
        "\n",
        "input_img_o= \"/content/data/test/backpack/00000214.png\"\n",
        "input_img = io.imread(input_img_o)\n",
        "input_img = cv2.resize(input_img, dsize=(128, 128), interpolation=cv2.INTER_CUBIC)\n",
        "print('Input Dimensions - Image : ',input_img.shape)\n",
        "print(cv2_imshow(input_img))\n",
        "\n",
        "#Reference https://stackoverflow.com/questions/43017017/keras-model-predict-for-a-single-image\n",
        "#Since you trained your model on mini-batches, your input is a tensor of shape [batch_size, image_width, image_height, number_of_channels].\n",
        "#When predicting, you have to respect this shape even if you have only one image. Your input should be of shape: [1, image_width, image_height, number_of_channels].\n",
        "\n",
        "from PIL import Image\n",
        "#import numpy as np\n",
        "from skimage import transform\n",
        "def load(filename):\n",
        "   input_img = io.imread(filename)\n",
        "   np_image = cv2.resize(input_img, dsize=(256, 256))\n",
        "   #np_image = np.array(np_image).astype('float32')/255\n",
        "   np_image = transform.resize(np_image, (256, 256, 3))\n",
        "   np_image = np.expand_dims(np_image, axis=0)\n",
        "   return np_image\n",
        "\n",
        "image = load(input_img_o)\n",
        "print((testGen.class_indices.keys()))\n",
        "print(model_loaded.predict(image))"
      ],
      "execution_count": 63,
      "outputs": [
        {
          "output_type": "stream",
          "text": [
            "Input Dimensions - Image :  (128, 128, 3)\n"
          ],
          "name": "stdout"
        },
        {
          "output_type": "display_data",
          "data": {
            "image/png": "[encoded data removed]",
            "text/plain": [
              "<PIL.Image.Image image mode=RGB size=128x128 at 0x7F4EEFDD6CF8>"
            ]
          },
          "metadata": {
            "tags": []
          }
        },
        {
          "output_type": "stream",
          "text": [
            "None\n",
            "dict_keys(['backpack', 'footwear', 'glasses', 'watch'])\n",
            "[[0.08856989 0.03060208 0.70783997 0.17298812]]\n"
          ],
          "name": "stdout"
        }
      ]
    }
  ]
}