{
  "nbformat": 4,
  "nbformat_minor": 0,
  "metadata": {
    "colab": {
      "name": "Pred_VGG16_notebook[All Predictions Correct].ipynb",
      "provenance": [],
      "collapsed_sections": [],
      "include_colab_link": true
    },
    "kernelspec": {
      "name": "python3",
      "display_name": "Python 3"
    },
    "accelerator": "GPU"
  },
  "cells": [
    {
      "cell_type": "markdown",
      "metadata": {
        "id": "view-in-github",
        "colab_type": "text"
      },
      "source": [
        "<a href=\"https://colab.research.google.com/github/Shivdutta/AdvanceCNN/blob/master/Pred_VGG16_notebook%5BAll_Predictions_Correct%5D.ipynb\" target=\"_parent\"><img src=\"https://colab.research.google.com/assets/colab-badge.svg\" alt=\"Open In Colab\"/></a>"
      ]
    },
    {
      "cell_type": "code",
      "metadata": {
        "id": "tiAhYwh-JZLa",
        "colab_type": "code",
        "outputId": "b5486429-a0a5-4383-c5ff-84109c848ead",
        "colab": {
          "base_uri": "https://localhost:8080/",
          "height": 34
        }
      },
      "source": [
        "from keras.layers import Input, Lambda, Dense, Flatten\n",
        "from keras.models import Model\n",
        "from keras.applications.vgg16 import VGG16\n",
        "from keras.applications.vgg16 import preprocess_input\n",
        "from keras.preprocessing import image\n",
        "from keras.preprocessing.image import ImageDataGenerator\n",
        "from keras.models import Sequential\n",
        "import numpy as np\n",
        "from glob import glob\n",
        "import matplotlib.pyplot as plt\n",
        "\n",
        "import warnings\n",
        "warnings.filterwarnings(\"ignore\", category=FutureWarning)"
      ],
      "execution_count": 1,
      "outputs": [
        {
          "output_type": "stream",
          "text": [
            "Using TensorFlow backend.\n"
          ],
          "name": "stderr"
        }
      ]
    },
    {
      "cell_type": "code",
      "metadata": {
        "id": "iaLQYmgPKICM",
        "colab_type": "code",
        "colab": {}
      },
      "source": [
        "IMAGE_SIZE = [224, 224]"
      ],
      "execution_count": 0,
      "outputs": []
    },
    {
      "cell_type": "code",
      "metadata": {
        "id": "ybpzeuQaKILB",
        "colab_type": "code",
        "colab": {}
      },
      "source": [
        "#Give dataset path\n",
        "train_path = 'data/train'\n",
        "test_path = 'data/test'"
      ],
      "execution_count": 0,
      "outputs": []
    },
    {
      "cell_type": "code",
      "metadata": {
        "id": "XG0Mn-MOKIIK",
        "colab_type": "code",
        "outputId": "236c2fa2-3071-4705-aff3-56985c69aa46",
        "colab": {
          "base_uri": "https://localhost:8080/",
          "height": 50
        }
      },
      "source": [
        "vgg = VGG16(input_shape=IMAGE_SIZE + [3], weights='imagenet', include_top=False)"
      ],
      "execution_count": 4,
      "outputs": [
        {
          "output_type": "stream",
          "text": [
            "Downloading data from https://github.com/fchollet/deep-learning-models/releases/download/v0.1/vgg16_weights_tf_dim_ordering_tf_kernels_notop.h5\n",
            "58892288/58889256 [==============================] - 1s 0us/step\n"
          ],
          "name": "stdout"
        }
      ]
    },
    {
      "cell_type": "code",
      "metadata": {
        "id": "7nab8s0fKIF7",
        "colab_type": "code",
        "colab": {}
      },
      "source": [
        "# don't train existing weights\n",
        "for layer in vgg.layers:\n",
        "  layer.trainable = False"
      ],
      "execution_count": 0,
      "outputs": []
    },
    {
      "cell_type": "code",
      "metadata": {
        "id": "tq3oPRUDKfhZ",
        "colab_type": "code",
        "outputId": "71b01b6d-0e76-49bc-f4cd-a1f168a46f14",
        "colab": {
          "base_uri": "https://localhost:8080/",
          "height": 121
        }
      },
      "source": [
        "from google.colab import drive\n",
        "drive.mount('/content/gdrive/', force_remount=True)\n",
        "\n",
        "!unzip -q \"/content/gdrive/My Drive/CNN_Images/VGG_class_data.zip\""
      ],
      "execution_count": 7,
      "outputs": [
        {
          "output_type": "stream",
          "text": [
            "Go to this URL in a browser: https://accounts.google.com/o/oauth2/auth?client_id=947318989803-6bn6qk8qdgf4n4g3pfee6491hc0brc4i.apps.googleusercontent.com&redirect_uri=urn%3aietf%3awg%3aoauth%3a2.0%3aoob&response_type=code&scope=email%20https%3a%2f%2fwww.googleapis.com%2fauth%2fdocs.test%20https%3a%2f%2fwww.googleapis.com%2fauth%2fdrive%20https%3a%2f%2fwww.googleapis.com%2fauth%2fdrive.photos.readonly%20https%3a%2f%2fwww.googleapis.com%2fauth%2fpeopleapi.readonly\n",
            "\n",
            "Enter your authorization code:\n",
            "··········\n",
            "Mounted at /content/gdrive/\n"
          ],
          "name": "stdout"
        }
      ]
    },
    {
      "cell_type": "code",
      "metadata": {
        "id": "NAqGjsOlLRKG",
        "colab_type": "code",
        "colab": {}
      },
      "source": [
        "#from google.colab import files\n",
        "#uploaded = files.upload()"
      ],
      "execution_count": 0,
      "outputs": []
    },
    {
      "cell_type": "code",
      "metadata": {
        "id": "7-er2DmGLRRU",
        "colab_type": "code",
        "colab": {}
      },
      "source": [
        "#!unzip 'data (1).zip'"
      ],
      "execution_count": 0,
      "outputs": []
    },
    {
      "cell_type": "code",
      "metadata": {
        "id": "5Gc9ZoOjLRXe",
        "colab_type": "code",
        "outputId": "b05f17e7-4b62-4ef7-a529-8d6fb1996c52",
        "colab": {
          "base_uri": "https://localhost:8080/",
          "height": 34
        }
      },
      "source": [
        "!ls"
      ],
      "execution_count": 0,
      "outputs": [
        {
          "output_type": "stream",
          "text": [
            "'data (1).zip'\t data.zip   sample_data\n"
          ],
          "name": "stdout"
        }
      ]
    },
    {
      "cell_type": "code",
      "metadata": {
        "id": "rNBcL8H6LRgI",
        "colab_type": "code",
        "outputId": "3fb515bb-af75-4c97-c8c8-88841ba4e214",
        "colab": {
          "base_uri": "https://localhost:8080/",
          "height": 34
        }
      },
      "source": [
        "# useful for getting number of classes\n",
        "folders = glob('data/train/*')\n",
        "print(len(folders))"
      ],
      "execution_count": 10,
      "outputs": [
        {
          "output_type": "stream",
          "text": [
            "4\n"
          ],
          "name": "stdout"
        }
      ]
    },
    {
      "cell_type": "code",
      "metadata": {
        "id": "tyP8DF60LRkY",
        "colab_type": "code",
        "colab": {}
      },
      "source": [
        "x = Flatten()(vgg.output)\n",
        "prediction = Dense(len(folders), activation='softmax')(x)\n",
        "model = Model(inputs=vgg.input, outputs=prediction)\n",
        "#model.summary()"
      ],
      "execution_count": 0,
      "outputs": []
    },
    {
      "cell_type": "code",
      "metadata": {
        "id": "v6scjk8RLRbw",
        "colab_type": "code",
        "colab": {}
      },
      "source": [
        "from keras import optimizers\n",
        "\n",
        "\n",
        "sgd = optimizers.SGD(lr=0.01, decay=1e-6, momentum=0.9)\n",
        "model.compile(loss='categorical_crossentropy',\n",
        "              optimizer=sgd,\n",
        "              metrics=['accuracy'])"
      ],
      "execution_count": 0,
      "outputs": []
    },
    {
      "cell_type": "code",
      "metadata": {
        "id": "068BmXnrLROS",
        "colab_type": "code",
        "colab": {}
      },
      "source": [
        "# Data Augmentation\n",
        "train_datagen = ImageDataGenerator(\n",
        "    preprocessing_function=preprocess_input,\n",
        "    rotation_range=40,\n",
        "    width_shift_range=0.2,\n",
        "    height_shift_range=0.2,\n",
        "    shear_range=0.2,\n",
        "    zoom_range=0.2,\n",
        "    horizontal_flip=True,\n",
        "    fill_mode='nearest')"
      ],
      "execution_count": 0,
      "outputs": []
    },
    {
      "cell_type": "code",
      "metadata": {
        "id": "eMRmZvVCco60",
        "colab_type": "code",
        "colab": {}
      },
      "source": [
        "# Data Augmentation\n",
        "test_datagen = ImageDataGenerator(\n",
        "    preprocessing_function=preprocess_input,\n",
        "    rotation_range=40,\n",
        "    width_shift_range=0.2,\n",
        "    height_shift_range=0.2,\n",
        "    shear_range=0.2,\n",
        "    zoom_range=0.2,\n",
        "    horizontal_flip=True,\n",
        "    fill_mode='nearest')"
      ],
      "execution_count": 0,
      "outputs": []
    },
    {
      "cell_type": "code",
      "metadata": {
        "id": "3FtJxddwcr21",
        "colab_type": "code",
        "outputId": "c4f61f92-f0d4-4484-c20f-5706f4ae3d53",
        "colab": {
          "base_uri": "https://localhost:8080/",
          "height": 34
        }
      },
      "source": [
        "# Make sure you provide the same target size as initialied for the image size\n",
        "train_set = train_datagen.flow_from_directory('data/train',\n",
        "                                                 target_size = (224, 224),\n",
        "                                                 batch_size = 32,\n",
        "                                                 class_mode = 'categorical')"
      ],
      "execution_count": 17,
      "outputs": [
        {
          "output_type": "stream",
          "text": [
            "Found 475 images belonging to 4 classes.\n"
          ],
          "name": "stdout"
        }
      ]
    },
    {
      "cell_type": "code",
      "metadata": {
        "id": "oHXj0OMDdiiI",
        "colab_type": "code",
        "outputId": "233e9061-2a6b-4d3d-952f-97201dd51502",
        "colab": {
          "base_uri": "https://localhost:8080/",
          "height": 34
        }
      },
      "source": [
        "test_set = test_datagen.flow_from_directory('data/test',\n",
        "                                            target_size = (224, 224),\n",
        "                                            batch_size = 32,\n",
        "                                            class_mode = 'categorical')"
      ],
      "execution_count": 18,
      "outputs": [
        {
          "output_type": "stream",
          "text": [
            "Found 264 images belonging to 4 classes.\n"
          ],
          "name": "stdout"
        }
      ]
    },
    {
      "cell_type": "code",
      "metadata": {
        "id": "Z5pDH4CldsHY",
        "colab_type": "code",
        "outputId": "0101af42-a5b2-4ec0-b525-6927e667c885",
        "colab": {
          "base_uri": "https://localhost:8080/",
          "height": 739
        }
      },
      "source": [
        "from datetime import datetime\n",
        "from keras.callbacks import ModelCheckpoint, LearningRateScheduler\n",
        "from keras.callbacks import ReduceLROnPlateau\n",
        "\n",
        "#lr_scheduler = LearningRateScheduler(lr_schedule)\n",
        "\n",
        "#lr_reducer = ReduceLROnPlateau(factor=np.sqrt(0.1),\n",
        "#                               cooldown=0,\n",
        "#                               patience=5,\n",
        "#                               min_lr=0.5e-6)\n",
        "\n",
        "#num_epochs = 1000\n",
        "#num_batch_size = 32\n",
        "\n",
        "checkpoint = ModelCheckpoint(filepath='mymodel.h5', \n",
        "                               verbose=1, save_best_only=True)\n",
        "\n",
        "callbacks = [checkpoint]\n",
        "\n",
        "start = datetime.now()\n",
        "\n",
        "model.fit_generator(\n",
        "  train_set,\n",
        "  validation_data=test_set,\n",
        "  epochs=10,\n",
        "  steps_per_epoch=5,\n",
        "  validation_steps=32,\n",
        "    callbacks=callbacks ,verbose=1)\n",
        "\n",
        "\n",
        "duration = datetime.now() - start\n",
        "print(\"Training completed in time: \", duration)"
      ],
      "execution_count": 19,
      "outputs": [
        {
          "output_type": "stream",
          "text": [
            "Epoch 1/10\n"
          ],
          "name": "stdout"
        },
        {
          "output_type": "stream",
          "text": [
            "/usr/local/lib/python3.6/dist-packages/PIL/Image.py:932: UserWarning: Palette images with Transparency expressed in bytes should be converted to RGBA images\n",
            "  \"Palette images with Transparency expressed in bytes should be \"\n"
          ],
          "name": "stderr"
        },
        {
          "output_type": "stream",
          "text": [
            "5/5 [==============================] - 32s 6s/step - loss: 35.3379 - accuracy: 0.7188 - val_loss: 148.1454 - val_accuracy: 0.8761\n",
            "\n",
            "Epoch 00001: val_loss improved from inf to 148.14537, saving model to mymodel.h5\n",
            "Epoch 2/10\n",
            "5/5 [==============================] - 22s 4s/step - loss: 82.3053 - accuracy: 0.8968 - val_loss: 199.9534 - val_accuracy: 0.7812\n",
            "\n",
            "Epoch 00002: val_loss did not improve from 148.14537\n",
            "Epoch 3/10\n",
            "5/5 [==============================] - 27s 5s/step - loss: 81.8338 - accuracy: 0.8750 - val_loss: 226.3811 - val_accuracy: 0.8782\n",
            "\n",
            "Epoch 00003: val_loss did not improve from 148.14537\n",
            "Epoch 4/10\n",
            "5/5 [==============================] - 23s 5s/step - loss: 80.6289 - accuracy: 0.9097 - val_loss: 19.1393 - val_accuracy: 0.9224\n",
            "\n",
            "Epoch 00004: val_loss improved from 148.14537 to 19.13932, saving model to mymodel.h5\n",
            "Epoch 5/10\n",
            "5/5 [==============================] - 21s 4s/step - loss: 29.8360 - accuracy: 0.9688 - val_loss: 37.1784 - val_accuracy: 0.9065\n",
            "\n",
            "Epoch 00005: val_loss did not improve from 19.13932\n",
            "Epoch 6/10\n",
            "5/5 [==============================] - 26s 5s/step - loss: 44.2334 - accuracy: 0.9625 - val_loss: 61.1434 - val_accuracy: 0.8912\n",
            "\n",
            "Epoch 00006: val_loss did not improve from 19.13932\n",
            "Epoch 7/10\n",
            "5/5 [==============================] - 24s 5s/step - loss: 74.4498 - accuracy: 0.9438 - val_loss: 25.6186 - val_accuracy: 0.9107\n",
            "\n",
            "Epoch 00007: val_loss did not improve from 19.13932\n",
            "Epoch 8/10\n",
            "5/5 [==============================] - 21s 4s/step - loss: 51.4260 - accuracy: 0.9484 - val_loss: 199.6234 - val_accuracy: 0.9030\n",
            "\n",
            "Epoch 00008: val_loss did not improve from 19.13932\n",
            "Epoch 9/10\n",
            "5/5 [==============================] - 26s 5s/step - loss: 11.2064 - accuracy: 0.9750 - val_loss: 665.1756 - val_accuracy: 0.9192\n",
            "\n",
            "Epoch 00009: val_loss did not improve from 19.13932\n",
            "Epoch 10/10\n",
            "5/5 [==============================] - 24s 5s/step - loss: 31.3223 - accuracy: 0.9563 - val_loss: 176.2002 - val_accuracy: 0.9212\n",
            "\n",
            "Epoch 00010: val_loss did not improve from 19.13932\n",
            "Training completed in time:  0:04:06.781092\n"
          ],
          "name": "stdout"
        }
      ]
    },
    {
      "cell_type": "code",
      "metadata": {
        "id": "Edysir1bd6rE",
        "colab_type": "code",
        "colab": {
          "base_uri": "https://localhost:8080/",
          "height": 212
        },
        "outputId": "eb399a94-7bac-4392-f017-140d7b103ef1"
      },
      "source": [
        "from matplotlib.pyplot import imshow\n",
        "import cv2\n",
        "from google.colab.patches import cv2_imshow\n",
        "from skimage import io\n",
        "\n",
        "input_img_o= \"/content/data/test/backpack/00000214.png\"\n",
        "input_img = io.imread(input_img_o)\n",
        "input_img = cv2.resize(input_img, dsize=(128, 128), interpolation=cv2.INTER_CUBIC)\n",
        "print('Input Dimensions - Image : ',input_img.shape)\n",
        "print(cv2_imshow(input_img))\n",
        "\n",
        "#Reference https://stackoverflow.com/questions/43017017/keras-model-predict-for-a-single-image\n",
        "#Since you trained your model on mini-batches, your input is a tensor of shape [batch_size, image_width, image_height, number_of_channels].\n",
        "#When predicting, you have to respect this shape even if you have only one image. Your input should be of shape: [1, image_width, image_height, number_of_channels].\n",
        "\n",
        "from PIL import Image\n",
        "#import numpy as np\n",
        "from skimage import transform\n",
        "def load(filename):\n",
        "   input_img = io.imread(filename)\n",
        "   np_image = cv2.resize(input_img, dsize=(224, 224))\n",
        "   #np_image = np.array(np_image).astype('float32')/255\n",
        "   np_image = transform.resize(np_image, (224, 224, 3))\n",
        "   np_image = np.expand_dims(np_image, axis=0)\n",
        "   return np_image\n",
        "\n",
        "image = load(input_img_o)\n",
        "print((test_set.class_indices.keys()))\n",
        "print(model.predict(image))"
      ],
      "execution_count": 23,
      "outputs": [
        {
          "output_type": "stream",
          "text": [
            "Input Dimensions - Image :  (128, 128, 3)\n"
          ],
          "name": "stdout"
        },
        {
          "output_type": "display_data",
          "data": {
            "image/png": "[encoded data removed]",
            "text/plain": [
              "<PIL.Image.Image image mode=RGB size=128x128 at 0x7F43604545F8>"
            ]
          },
          "metadata": {
            "tags": []
          }
        },
        {
          "output_type": "stream",
          "text": [
            "None\n",
            "dict_keys(['backpack', 'footwear', 'glasses', 'watch'])\n",
            "[[1.0000000e+00 1.6121785e-12 0.0000000e+00 0.0000000e+00]]\n"
          ],
          "name": "stdout"
        }
      ]
    },
    {
      "cell_type": "code",
      "metadata": {
        "id": "OBybJ6kmnpHz",
        "colab_type": "code",
        "colab": {
          "base_uri": "https://localhost:8080/",
          "height": 252
        },
        "outputId": "f529e464-ca7a-4671-a4ad-c9d90c0b50cb"
      },
      "source": [
        "!ls /content/data/test/watch"
      ],
      "execution_count": 25,
      "outputs": [
        {
          "output_type": "stream",
          "text": [
            "00000000.jpg  00000016.jpg  00000032.jpeg  00000049.jpg   00000069.jpg\n",
            "00000001.jpg  00000018.jpg  00000033.jpg   00000050.jpg   00000070.jpg\n",
            "00000002.jpg  00000019.jpg  00000034.jpg   00000051.jpg   00000071.jpg\n",
            "00000003.jpg  00000020.jpg  00000035.jpg   00000053.jpg   00000072.jpg\n",
            "00000004.jpg  00000022.jpg  00000037.jpg   00000054.jpg   00000073.jpg\n",
            "00000005.jpg  00000023.jpg  00000038.jpg   00000055.jpeg  00000074.jpg\n",
            "00000006.jpg  00000024.jpg  00000039.jpeg  00000057.jpg   00000075.jpg\n",
            "00000007.jpg  00000025.jpg  00000041.jpg   00000059.jpg   00000076.jpg\n",
            "00000008.jpg  00000026.jpg  00000042.jpg   00000060.jpg   00000079.jpg\n",
            "00000010.jpg  00000027.jpg  00000043.jpg   00000061.jpg   00000080.jpg\n",
            "00000011.jpg  00000028.jpg  00000044.jpg   00000063.jpg\n",
            "00000012.jpg  00000029.jpg  00000045.jpg   00000064.jpeg\n",
            "00000014.jpg  00000030.jpg  00000046.jpg   00000066.jpg\n",
            "00000015.jpg  00000031.jpg  00000048.jpeg  00000067.jpg\n"
          ],
          "name": "stdout"
        }
      ]
    },
    {
      "cell_type": "code",
      "metadata": {
        "id": "D_y-GYY4nmBI",
        "colab_type": "code",
        "colab": {
          "base_uri": "https://localhost:8080/",
          "height": 212
        },
        "outputId": "fefa6cc4-0600-4b77-f7a7-fab1430301b3"
      },
      "source": [
        "from matplotlib.pyplot import imshow\n",
        "import cv2\n",
        "from google.colab.patches import cv2_imshow\n",
        "from skimage import io\n",
        "\n",
        "input_img_o= \"/content/data/test/watch/00000049.jpg\"\n",
        "input_img = io.imread(input_img_o)\n",
        "input_img = cv2.resize(input_img, dsize=(128, 128), interpolation=cv2.INTER_CUBIC)\n",
        "print('Input Dimensions - Image : ',input_img.shape)\n",
        "print(cv2_imshow(input_img))\n",
        "\n",
        "#Reference https://stackoverflow.com/questions/43017017/keras-model-predict-for-a-single-image\n",
        "#Since you trained your model on mini-batches, your input is a tensor of shape [batch_size, image_width, image_height, number_of_channels].\n",
        "#When predicting, you have to respect this shape even if you have only one image. Your input should be of shape: [1, image_width, image_height, number_of_channels].\n",
        "\n",
        "from PIL import Image\n",
        "#import numpy as np\n",
        "from skimage import transform\n",
        "def load(filename):\n",
        "   input_img = io.imread(filename)\n",
        "   np_image = cv2.resize(input_img, dsize=(224, 224))\n",
        "   #np_image = np.array(np_image).astype('float32')/255\n",
        "   np_image = transform.resize(np_image, (224, 224, 3))\n",
        "   np_image = np.expand_dims(np_image, axis=0)\n",
        "   return np_image\n",
        "\n",
        "image = load(input_img_o)\n",
        "print((test_set.class_indices.keys()))\n",
        "print(model.predict(image))"
      ],
      "execution_count": 27,
      "outputs": [
        {
          "output_type": "stream",
          "text": [
            "Input Dimensions - Image :  (128, 128, 3)\n"
          ],
          "name": "stdout"
        },
        {
          "output_type": "display_data",
          "data": {
            "image/png": "[encoded data removed]",
            "text/plain": [
              "<PIL.Image.Image image mode=RGB size=128x128 at 0x7F43603DD470>"
            ]
          },
          "metadata": {
            "tags": []
          }
        },
        {
          "output_type": "stream",
          "text": [
            "None\n",
            "dict_keys(['backpack', 'footwear', 'glasses', 'watch'])\n",
            "[[0. 0. 0. 1.]]\n"
          ],
          "name": "stdout"
        }
      ]
    },
    {
      "cell_type": "code",
      "metadata": {
        "id": "ELa-Y6F7oCMb",
        "colab_type": "code",
        "colab": {
          "base_uri": "https://localhost:8080/",
          "height": 252
        },
        "outputId": "f4ff64cc-3771-4f66-97f4-4a990f7639f7"
      },
      "source": [
        "!ls /content/data/test/glasses/"
      ],
      "execution_count": 28,
      "outputs": [
        {
          "output_type": "stream",
          "text": [
            "00000465.jpg  00000483.jpg  00000500.jpg   00000515.jpg   00000532.jpg\n",
            "00000466.jpg  00000484.jpg  00000501.jpg   00000516.jpg   00000533.jpg\n",
            "00000468.jpg  00000486.jpg  00000502.jpg   00000517.jpg   00000534.jpg\n",
            "00000470.jpg  00000487.jpg  00000503.jpg   00000518.jpg   00000535.jpg\n",
            "00000471.jpg  00000488.jpg  00000504.jpg   00000519.jpg   00000536.png\n",
            "00000472.jpg  00000489.jpg  00000505.jpg   00000520.jpg   00000539.jpg\n",
            "00000473.jpg  00000490.jpg  00000506.jpg   00000522.jpg   00000540.jpeg\n",
            "00000475.jpg  00000491.jpg  00000507.jpg   00000523.jpeg  00000541.jpg\n",
            "00000476.jpg  00000492.jpg  00000508.jpeg  00000524.jpg   00000542.jpg\n",
            "00000477.jpg  00000495.jpg  00000509.jpg   00000525.jpg   00000543.jpg\n",
            "00000479.jpg  00000496.jpg  00000511.jpg   00000526.jpg\n",
            "00000480.jpg  00000497.jpg  00000512.jpg   00000528.jpg\n",
            "00000481.jpg  00000498.jpg  00000513.jpg   00000529.jpg\n",
            "00000482.jpg  00000499.jpg  00000514.jpg   00000530.jpg\n"
          ],
          "name": "stdout"
        }
      ]
    },
    {
      "cell_type": "code",
      "metadata": {
        "id": "q_ZJBoH0oQRa",
        "colab_type": "code",
        "colab": {
          "base_uri": "https://localhost:8080/",
          "height": 212
        },
        "outputId": "e7215a6c-8e3f-4b83-8529-67955c14fc80"
      },
      "source": [
        "from matplotlib.pyplot import imshow\n",
        "import cv2\n",
        "from google.colab.patches import cv2_imshow\n",
        "from skimage import io\n",
        "\n",
        "input_img_o= \"/content/data/test/glasses/00000508.jpeg\"\n",
        "input_img = io.imread(input_img_o)\n",
        "input_img = cv2.resize(input_img, dsize=(128, 128), interpolation=cv2.INTER_CUBIC)\n",
        "print('Input Dimensions - Image : ',input_img.shape)\n",
        "print(cv2_imshow(input_img))\n",
        "\n",
        "#Reference https://stackoverflow.com/questions/43017017/keras-model-predict-for-a-single-image\n",
        "#Since you trained your model on mini-batches, your input is a tensor of shape [batch_size, image_width, image_height, number_of_channels].\n",
        "#When predicting, you have to respect this shape even if you have only one image. Your input should be of shape: [1, image_width, image_height, number_of_channels].\n",
        "\n",
        "from PIL import Image\n",
        "#import numpy as np\n",
        "from skimage import transform\n",
        "def load(filename):\n",
        "   input_img = io.imread(filename)\n",
        "   np_image = cv2.resize(input_img, dsize=(224, 224))\n",
        "   #np_image = np.array(np_image).astype('float32')/255\n",
        "   np_image = transform.resize(np_image, (224, 224, 3))\n",
        "   np_image = np.expand_dims(np_image, axis=0)\n",
        "   return np_image\n",
        "\n",
        "image = load(input_img_o)\n",
        "print((test_set.class_indices.keys()))\n",
        "print(model.predict(image))"
      ],
      "execution_count": 29,
      "outputs": [
        {
          "output_type": "stream",
          "text": [
            "Input Dimensions - Image :  (128, 128, 3)\n"
          ],
          "name": "stdout"
        },
        {
          "output_type": "display_data",
          "data": {
            "image/png": "[encoded data removed]",
            "text/plain": [
              "<PIL.Image.Image image mode=RGB size=128x128 at 0x7F43603E1320>"
            ]
          },
          "metadata": {
            "tags": []
          }
        },
        {
          "output_type": "stream",
          "text": [
            "None\n",
            "dict_keys(['backpack', 'footwear', 'glasses', 'watch'])\n",
            "[[0. 0. 1. 0.]]\n"
          ],
          "name": "stdout"
        }
      ]
    },
    {
      "cell_type": "code",
      "metadata": {
        "id": "tqsfqcsjogvO",
        "colab_type": "code",
        "colab": {
          "base_uri": "https://localhost:8080/",
          "height": 252
        },
        "outputId": "59b7f094-d9ac-44d9-8a89-621f34572872"
      },
      "source": [
        "!ls /content/data/test/footwear/"
      ],
      "execution_count": 30,
      "outputs": [
        {
          "output_type": "stream",
          "text": [
            "00000407.jpg  00000422.jpg  00000437.jpg   00000451.jpg  00000465.jpg\n",
            "00000408.jpg  00000423.jpg  00000438.jpeg  00000452.jpg  00000466.jpeg\n",
            "00000409.jpg  00000424.jpg  00000439.jpg   00000453.jpg  00000467.jpg\n",
            "00000410.jpg  00000426.jpg  00000440.jpg   00000454.jpg  00000468.jpg\n",
            "00000411.jpg  00000427.jpg  00000441.jpeg  00000455.JPG  00000469.jpeg\n",
            "00000412.jpg  00000428.jpg  00000442.jpg   00000456.jpg  00000470.jpg\n",
            "00000413.jpg  00000429.jpg  00000443.jpg   00000457.jpg  00000471.jpg\n",
            "00000414.jpg  00000430.jpg  00000444.jpg   00000458.jpg  00000472.jpg\n",
            "00000415.jpg  00000431.png  00000445.jpg   00000459.jpg  00000473.jpg\n",
            "00000416.jpg  00000432.jpg  00000446.jpg   00000460.jpg  00000474.jpg\n",
            "00000417.jpg  00000433.jpg  00000447.jpg   00000461.jpg\n",
            "00000418.jpg  00000434.jpg  00000448.jpg   00000462.jpg\n",
            "00000419.png  00000435.jpg  00000449.jpg   00000463.jpg\n",
            "00000420.jpg  00000436.jpg  00000450.jpg   00000464.jpg\n"
          ],
          "name": "stdout"
        }
      ]
    },
    {
      "cell_type": "code",
      "metadata": {
        "id": "sHsGnFdDoZbV",
        "colab_type": "code",
        "colab": {
          "base_uri": "https://localhost:8080/",
          "height": 212
        },
        "outputId": "efa112c2-9f18-4957-eca9-a29d42e0de2d"
      },
      "source": [
        "from matplotlib.pyplot import imshow\n",
        "import cv2\n",
        "from google.colab.patches import cv2_imshow\n",
        "from skimage import io\n",
        "\n",
        "input_img_o= \"/content/data/test/footwear/00000422.jpg\"\n",
        "input_img = io.imread(input_img_o)\n",
        "input_img = cv2.resize(input_img, dsize=(128, 128), interpolation=cv2.INTER_CUBIC)\n",
        "print('Input Dimensions - Image : ',input_img.shape)\n",
        "print(cv2_imshow(input_img))\n",
        "\n",
        "#Reference https://stackoverflow.com/questions/43017017/keras-model-predict-for-a-single-image\n",
        "#Since you trained your model on mini-batches, your input is a tensor of shape [batch_size, image_width, image_height, number_of_channels].\n",
        "#When predicting, you have to respect this shape even if you have only one image. Your input should be of shape: [1, image_width, image_height, number_of_channels].\n",
        "\n",
        "from PIL import Image\n",
        "#import numpy as np\n",
        "from skimage import transform\n",
        "def load(filename):\n",
        "   input_img = io.imread(filename)\n",
        "   np_image = cv2.resize(input_img, dsize=(224, 224))\n",
        "   #np_image = np.array(np_image).astype('float32')/255\n",
        "   np_image = transform.resize(np_image, (224, 224, 3))\n",
        "   np_image = np.expand_dims(np_image, axis=0)\n",
        "   return np_image\n",
        "\n",
        "image = load(input_img_o)\n",
        "print((test_set.class_indices.keys()))\n",
        "print(model.predict(image))"
      ],
      "execution_count": 32,
      "outputs": [
        {
          "output_type": "stream",
          "text": [
            "Input Dimensions - Image :  (128, 128, 3)\n"
          ],
          "name": "stdout"
        },
        {
          "output_type": "display_data",
          "data": {
            "image/png": "[encoded data removed]",
            "text/plain": [
              "<PIL.Image.Image image mode=RGB size=128x128 at 0x7F43603A3F28>"
            ]
          },
          "metadata": {
            "tags": []
          }
        },
        {
          "output_type": "stream",
          "text": [
            "None\n",
            "dict_keys(['backpack', 'footwear', 'glasses', 'watch'])\n",
            "[[0. 1. 0. 0.]]\n"
          ],
          "name": "stdout"
        }
      ]
    }
  ]
}