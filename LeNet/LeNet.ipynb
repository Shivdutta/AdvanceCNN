{
  "nbformat": 4,
  "nbformat_minor": 0,
  "metadata": {
    "colab": {
      "name": "LeNet.ipynb",
      "provenance": [],
      "collapsed_sections": [],
      "toc_visible": true,
      "authorship_tag": "ABX9TyOy+P6lQFstAO7okKx+gqJk",
      "include_colab_link": true
    },
    "kernelspec": {
      "name": "python3",
      "display_name": "Python 3"
    }
  },
  "cells": [
    {
      "cell_type": "markdown",
      "metadata": {
        "id": "view-in-github",
        "colab_type": "text"
      },
      "source": [
        "<a href=\"https://colab.research.google.com/github/Shivdutta/AdvanceCNN/blob/master/LeNet/LeNet.ipynb\" target=\"_parent\"><img src=\"https://colab.research.google.com/assets/colab-badge.svg\" alt=\"Open In Colab\"/></a>"
      ]
    },
    {
      "cell_type": "code",
      "metadata": {
        "id": "7CkT14LE9o2k",
        "colab_type": "code",
        "colab": {
          "base_uri": "https://localhost:8080/",
          "height": 50
        },
        "outputId": "06fd2441-5793-4317-afa0-97457da93337"
      },
      "source": [
        "from google.colab import drive\n",
        "drive.mount('/content/gdrive/', force_remount=True)\n",
        "\n",
        "!unzip -q \"/content/gdrive/My Drive/CNN_Images/Images_LeNet-5.zip\""
      ],
      "execution_count": 80,
      "outputs": [
        {
          "output_type": "stream",
          "text": [
            "Mounted at /content/gdrive/\n",
            "replace Images/Images/Test/Dipika/W10-10.jpg? [y]es, [n]o, [A]ll, [N]one, [r]ename: A\n"
          ],
          "name": "stdout"
        }
      ]
    },
    {
      "cell_type": "code",
      "metadata": {
        "id": "s-Vh93ZW_c13",
        "colab_type": "code",
        "colab": {
          "base_uri": "https://localhost:8080/",
          "height": 34
        },
        "outputId": "35515847-b639-4828-ff9e-87169c3f52b3"
      },
      "source": [
        "%ls /content/Images/Images/"
      ],
      "execution_count": 81,
      "outputs": [
        {
          "output_type": "stream",
          "text": [
            "\u001b[0m\u001b[01;34mTest\u001b[0m/  \u001b[01;34mTrain\u001b[0m/\n"
          ],
          "name": "stdout"
        }
      ]
    },
    {
      "cell_type": "code",
      "metadata": {
        "id": "U3bQxIjc-GTF",
        "colab_type": "code",
        "colab": {}
      },
      "source": [
        "trainpath = \"/content/Images/Images/Train\"\n",
        "testpath = \"/content/Images/Images/Test\"\n",
        "\n",
        "import keras\n",
        "from keras.datasets import mnist\n",
        "from keras.layers import Conv2D, MaxPooling2D\n",
        "from keras.layers import Dense, Flatten\n",
        "from keras.models import Sequential\n",
        "\n",
        "# Building the Model Architecture\n",
        "\n",
        "model = Sequential()\n",
        "# Select 6 feature convolution kernels with a size of 5 * 5 (without offset), and get 66 feature maps. The size of each feature map is 32−5 + 1 = 2832−5 + 1 = 28.\n",
        "# That is, the number of neurons has been reduced from 10241024 to 64 ∗ 64 = 4096 28 ∗ 28 = 4096.\n",
        "# Parameters between input layer and C1 layer: 6 ∗ (5 ∗ 5 + 1)\n",
        "model.add(Conv2D(6, kernel_size=(5, 5), activation='relu', input_shape=(64, 64, 3)))\n",
        "# The input of this layer is the output of the first layer, which is a 64 * 64 * 6 node matrix.\n",
        "# The size of the filter used in this layer is 2 * 2, and the step length and width are both 2, so the output matrix size of this layer is 14 * 14 * 6.\n",
        "model.add(MaxPooling2D(pool_size=(2, 2)))\n",
        "# The input matrix size of this layer is 32 * 32 * 6, the filter size used is 5 * 5, and the depth is 16. This layer does not use all 0 padding, and the step size is 1.\n",
        "# The output matrix size of this layer is 28 * 28 * 16. This layer has 5 * 5 * 6 * 16 + 16 = 2416 parameters\n",
        "model.add(Conv2D(16, kernel_size=(5, 5), activation='relu'))\n",
        "# The input matrix size of this layer is 28 * 28 * 16. The size of the filter used in this layer is 2 * 2, and the length and width steps are both 2, so the output matrix size of this layer is 5 * 5 * 16.\n",
        "model.add(MaxPooling2D(pool_size=(2, 2)))\n",
        "# The input matrix size of this layer is 14 * 14 * 16. This layer is called a convolution layer in the LeNet-5 paper, but because the size of the filter is 5 * 5, #\n",
        "# So it is not different from the fully connected layer. If the nodes in the 5 * 5 * 16 matrix are pulled into a vector, then this layer is the same as the fully connected layer.\n",
        "# The number of output nodes in this layer is 120, with a total of 5 * 5 * 16 * 120 + 120 = 48120 parameters.\n",
        "\n",
        "model.add(Conv2D(16, kernel_size=(5, 5), activation='relu')) #12*12*16\n",
        "model.add(MaxPooling2D(pool_size=(2, 2))) #6*6\n",
        "\n",
        "\n",
        "model.add(Flatten())\n",
        "model.add(Dense(120, activation='relu'))\n",
        "# The number of input nodes in this layer is 120 and the number of output nodes is 84. The total parameter is 120 * 84 + 84 = 10164 (w + b)\n",
        "model.add(Dense(84, activation='relu'))\n",
        "# The number of input nodes in this layer is 84 and the number of output nodes is 10. The total parameter is 84 * 10 + 10 = 850\n"
      ],
      "execution_count": 0,
      "outputs": []
    },
    {
      "cell_type": "code",
      "metadata": {
        "id": "plQMkQ9dAfo6",
        "colab_type": "code",
        "colab": {
          "base_uri": "https://localhost:8080/",
          "height": 50
        },
        "outputId": "317db654-6c30-446b-dbda-a7bc1cbedcb2"
      },
      "source": [
        "from keras.preprocessing.image import ImageDataGenerator\n",
        "\n",
        "train_datagen = ImageDataGenerator(rescale = 1./255,\n",
        "                                   shear_range = 0.2,\n",
        "                                   zoom_range = 0.2,\n",
        "                                   horizontal_flip = True)\n",
        "\n",
        "test_datagen = ImageDataGenerator(rescale = 1./255)\n",
        "\n",
        "training_set = train_datagen.flow_from_directory(trainpath,\n",
        "                                                 target_size = (64, 64),\n",
        "                                                 batch_size = 32)\n",
        "\n",
        "test_set = test_datagen.flow_from_directory(testpath,\n",
        "                                            target_size = (64, 64),\n",
        "                                            batch_size = 32)"
      ],
      "execution_count": 97,
      "outputs": [
        {
          "output_type": "stream",
          "text": [
            "Found 32 images belonging to 4 classes.\n",
            "Found 8 images belonging to 4 classes.\n"
          ],
          "name": "stdout"
        }
      ]
    },
    {
      "cell_type": "code",
      "metadata": {
        "id": "zLoFoMvQAV0X",
        "colab_type": "code",
        "colab": {}
      },
      "source": [
        "model.add(Dense(4, activation='softmax'))\n",
        "model.compile(loss=keras.metrics.categorical_crossentropy, optimizer=keras.optimizers.Adam(), metrics=['accuracy'])\n"
      ],
      "execution_count": 0,
      "outputs": []
    },
    {
      "cell_type": "code",
      "metadata": {
        "id": "_odFdfDUF9jf",
        "colab_type": "code",
        "colab": {
          "base_uri": "https://localhost:8080/",
          "height": 487
        },
        "outputId": "8b6b445e-5ff4-4fb6-8276-4c316563ccf3"
      },
      "source": [
        "model.summary()"
      ],
      "execution_count": 99,
      "outputs": [
        {
          "output_type": "stream",
          "text": [
            "Model: \"sequential_9\"\n",
            "_________________________________________________________________\n",
            "Layer (type)                 Output Shape              Param #   \n",
            "=================================================================\n",
            "conv2d_17 (Conv2D)           (None, 60, 60, 6)         456       \n",
            "_________________________________________________________________\n",
            "max_pooling2d_17 (MaxPooling (None, 30, 30, 6)         0         \n",
            "_________________________________________________________________\n",
            "conv2d_18 (Conv2D)           (None, 26, 26, 16)        2416      \n",
            "_________________________________________________________________\n",
            "max_pooling2d_18 (MaxPooling (None, 13, 13, 16)        0         \n",
            "_________________________________________________________________\n",
            "conv2d_19 (Conv2D)           (None, 9, 9, 16)          6416      \n",
            "_________________________________________________________________\n",
            "max_pooling2d_19 (MaxPooling (None, 4, 4, 16)          0         \n",
            "_________________________________________________________________\n",
            "flatten_9 (Flatten)          (None, 256)               0         \n",
            "_________________________________________________________________\n",
            "dense_29 (Dense)             (None, 120)               30840     \n",
            "_________________________________________________________________\n",
            "dense_30 (Dense)             (None, 84)                10164     \n",
            "_________________________________________________________________\n",
            "dense_31 (Dense)             (None, 4)                 340       \n",
            "=================================================================\n",
            "Total params: 50,632\n",
            "Trainable params: 50,632\n",
            "Non-trainable params: 0\n",
            "_________________________________________________________________\n"
          ],
          "name": "stdout"
        }
      ]
    },
    {
      "cell_type": "code",
      "metadata": {
        "id": "cAWkga8YF8jR",
        "colab_type": "code",
        "colab": {
          "base_uri": "https://localhost:8080/",
          "height": 1000
        },
        "outputId": "47de91e6-ece7-4eda-973f-cdd27ddce515"
      },
      "source": [
        "#model.fit(x_train, y_train, batch_size=128, epochs=20, verbose=1, validation_data=(x_test, y_test))\n",
        "model.fit_generator(\n",
        "    generator=training_set,\n",
        "    validation_data=test_set,\n",
        "    use_multiprocessing=True,\n",
        "    workers=4, \n",
        "    epochs=200,\n",
        "    verbose=1)"
      ],
      "execution_count": 100,
      "outputs": [
        {
          "output_type": "stream",
          "text": [
            "Epoch 1/200\n",
            "1/1 [==============================] - 1s 1s/step - loss: 1.3938 - accuracy: 0.2500 - val_loss: 1.3768 - val_accuracy: 0.2500\n",
            "Epoch 2/200\n",
            "1/1 [==============================] - 0s 376ms/step - loss: 1.3707 - accuracy: 0.2500 - val_loss: 1.3541 - val_accuracy: 0.2500\n",
            "Epoch 3/200\n",
            "1/1 [==============================] - 1s 531ms/step - loss: 1.3482 - accuracy: 0.2500 - val_loss: 1.3326 - val_accuracy: 0.2500\n",
            "Epoch 4/200\n",
            "1/1 [==============================] - 0s 497ms/step - loss: 1.3243 - accuracy: 0.2500 - val_loss: 1.3201 - val_accuracy: 0.7500\n",
            "Epoch 5/200\n",
            "1/1 [==============================] - 1s 543ms/step - loss: 1.3121 - accuracy: 0.5938 - val_loss: 1.3027 - val_accuracy: 0.5000\n",
            "Epoch 6/200\n",
            "1/1 [==============================] - 1s 525ms/step - loss: 1.2974 - accuracy: 0.6250 - val_loss: 1.2741 - val_accuracy: 0.5000\n",
            "Epoch 7/200\n",
            "Epoch 6/200\n",
            "1/1 [==============================] - 1s 534ms/step - loss: 1.2679 - accuracy: 0.6562 - val_loss: 1.2483 - val_accuracy: 0.5000\n",
            "Epoch 8/200\n",
            "1/1 [==============================] - 0s 473ms/step - loss: 1.2596 - accuracy: 0.5000 - val_loss: 1.1935 - val_accuracy: 0.5000\n",
            "Epoch 9/200\n",
            "1/1 [==============================] - 0s 477ms/step - loss: 1.1694 - accuracy: 0.6875 - val_loss: 1.1330 - val_accuracy: 0.7500\n",
            "Epoch 10/200\n",
            "1/1 [==============================] - 1s 541ms/step - loss: 1.1317 - accuracy: 0.6250 - val_loss: 1.0725 - val_accuracy: 0.7500\n",
            "Epoch 11/200\n",
            "1/1 [==============================] - 1s 526ms/step - loss: 1.0699 - accuracy: 0.8125 - val_loss: 1.0002 - val_accuracy: 0.7500\n",
            "Epoch 12/200\n",
            "1/1 [==============================] - 0s 463ms/step - loss: 0.9524 - accuracy: 0.9062 - val_loss: 0.9136 - val_accuracy: 1.0000\n",
            "Epoch 13/200\n",
            "1/1 [==============================] - 1s 600ms/step - loss: 0.9425 - accuracy: 0.8750 - val_loss: 0.8039 - val_accuracy: 1.0000\n",
            "Epoch 14/200\n",
            "1/1 [==============================] - 0s 379ms/step - loss: 0.7659 - accuracy: 0.9062 - val_loss: 0.6789 - val_accuracy: 1.0000\n",
            "Epoch 15/200\n",
            "1/1 [==============================] - 1s 574ms/step - loss: 0.7027 - accuracy: 0.8750 - val_loss: 0.5347 - val_accuracy: 1.0000\n",
            "Epoch 16/200\n",
            "1/1 [==============================] - 0s 476ms/step - loss: 0.5902 - accuracy: 0.9062 - val_loss: 0.4393 - val_accuracy: 1.0000\n",
            "Epoch 17/200\n",
            "Epoch 16/200\n",
            "1/1 [==============================] - 1s 529ms/step - loss: 0.4359 - accuracy: 0.9375 - val_loss: 0.3154 - val_accuracy: 1.0000\n",
            "Epoch 18/200\n",
            "1/1 [==============================] - 1s 525ms/step - loss: 0.4081 - accuracy: 0.9375 - val_loss: 0.1960 - val_accuracy: 1.0000\n",
            "Epoch 19/200\n",
            "1/1 [==============================] - 1s 550ms/step - loss: 0.3158 - accuracy: 0.9375 - val_loss: 0.1484 - val_accuracy: 1.0000\n",
            "Epoch 20/200\n",
            "1/1 [==============================] - 0s 494ms/step - loss: 0.2149 - accuracy: 0.9375 - val_loss: 0.1437 - val_accuracy: 1.0000\n",
            "Epoch 21/200\n",
            "1/1 [==============================] - 0s 496ms/step - loss: 0.1873 - accuracy: 0.9688 - val_loss: 0.0660 - val_accuracy: 1.0000\n",
            "Epoch 22/200\n",
            "1/1 [==============================] - 1s 525ms/step - loss: 0.1241 - accuracy: 0.9375 - val_loss: 0.0392 - val_accuracy: 1.0000\n",
            "Epoch 23/200\n",
            "1/1 [==============================] - 0s 468ms/step - loss: 0.1248 - accuracy: 0.9375 - val_loss: 0.0431 - val_accuracy: 1.0000\n",
            "Epoch 24/200\n",
            "1/1 [==============================] - 1s 548ms/step - loss: 0.0849 - accuracy: 1.0000 - val_loss: 0.0376 - val_accuracy: 1.0000\n",
            "Epoch 25/200\n",
            "1/1 [==============================] - 0s 488ms/step - loss: 0.1387 - accuracy: 0.9688 - val_loss: 0.0192 - val_accuracy: 1.0000\n",
            "Epoch 26/200\n",
            "1/1 [==============================] - 0s 488ms/step - loss: 0.0343 - accuracy: 1.0000 - val_loss: 0.0119 - val_accuracy: 1.0000\n",
            "Epoch 27/200\n",
            "Epoch 26/200\n",
            "1/1 [==============================] - 1s 529ms/step - loss: 0.0440 - accuracy: 1.0000 - val_loss: 0.0059 - val_accuracy: 1.0000\n",
            "Epoch 28/200\n",
            "1/1 [==============================] - 1s 538ms/step - loss: 0.0192 - accuracy: 1.0000 - val_loss: 0.0040 - val_accuracy: 1.0000\n",
            "Epoch 29/200\n",
            "1/1 [==============================] - 1s 538ms/step - loss: 0.0937 - accuracy: 0.9688 - val_loss: 0.0328 - val_accuracy: 1.0000\n",
            "Epoch 30/200\n",
            "1/1 [==============================] - 0s 495ms/step - loss: 0.1312 - accuracy: 1.0000 - val_loss: 0.0016 - val_accuracy: 1.0000\n",
            "Epoch 31/200\n",
            "1/1 [==============================] - 1s 506ms/step - loss: 0.1093 - accuracy: 0.9688 - val_loss: 0.0018 - val_accuracy: 1.0000\n",
            "Epoch 32/200\n",
            "1/1 [==============================] - 0s 453ms/step - loss: 0.0081 - accuracy: 1.0000 - val_loss: 0.0034 - val_accuracy: 1.0000\n",
            "Epoch 33/200\n",
            "1/1 [==============================] - 1s 545ms/step - loss: 0.0548 - accuracy: 0.9688 - val_loss: 0.0038 - val_accuracy: 1.0000\n",
            "Epoch 34/200\n",
            "1/1 [==============================] - 0s 459ms/step - loss: 0.1825 - accuracy: 0.9688 - val_loss: 0.0031 - val_accuracy: 1.0000\n",
            "Epoch 35/200\n",
            "1/1 [==============================] - 1s 520ms/step - loss: 0.0723 - accuracy: 0.9688 - val_loss: 0.0135 - val_accuracy: 1.0000\n",
            "Epoch 36/200\n",
            "1/1 [==============================] - 1s 572ms/step - loss: 0.0212 - accuracy: 1.0000 - val_loss: 0.0194 - val_accuracy: 1.0000\n",
            "Epoch 37/200\n",
            "1/1 [==============================] - 1s 521ms/step - loss: 0.0316 - accuracy: 1.0000 - val_loss: 0.0059 - val_accuracy: 1.0000\n",
            "Epoch 38/200\n",
            "Epoch 37/200\n",
            "1/1 [==============================] - 1s 504ms/step - loss: 0.0122 - accuracy: 1.0000 - val_loss: 0.0101 - val_accuracy: 1.0000\n",
            "Epoch 39/200\n",
            "1/1 [==============================] - 1s 529ms/step - loss: 0.0413 - accuracy: 0.9688 - val_loss: 0.0157 - val_accuracy: 1.0000\n",
            "Epoch 40/200\n",
            "1/1 [==============================] - 1s 509ms/step - loss: 0.0298 - accuracy: 1.0000 - val_loss: 0.0066 - val_accuracy: 1.0000\n",
            "Epoch 41/200\n",
            "1/1 [==============================] - 1s 535ms/step - loss: 0.0219 - accuracy: 1.0000 - val_loss: 0.0021 - val_accuracy: 1.0000\n",
            "Epoch 42/200\n",
            "1/1 [==============================] - 0s 470ms/step - loss: 0.1158 - accuracy: 0.9688 - val_loss: 0.0016 - val_accuracy: 1.0000\n",
            "Epoch 43/200\n",
            "1/1 [==============================] - 1s 507ms/step - loss: 0.0020 - accuracy: 1.0000 - val_loss: 0.0040 - val_accuracy: 1.0000\n",
            "Epoch 44/200\n",
            "1/1 [==============================] - 1s 508ms/step - loss: 0.0084 - accuracy: 1.0000 - val_loss: 0.0196 - val_accuracy: 1.0000\n",
            "Epoch 45/200\n",
            "1/1 [==============================] - 1s 512ms/step - loss: 0.0498 - accuracy: 1.0000 - val_loss: 8.0146e-04 - val_accuracy: 1.0000\n",
            "Epoch 46/200\n",
            "Epoch 45/200\n",
            "1/1 [==============================] - 1s 518ms/step - loss: 0.0041 - accuracy: 1.0000 - val_loss: 2.2337e-04 - val_accuracy: 1.0000\n",
            "Epoch 47/200\n",
            "1/1 [==============================] - 1s 544ms/step - loss: 5.9946e-04 - accuracy: 1.0000 - val_loss: 3.3954e-04 - val_accuracy: 1.0000\n",
            "Epoch 48/200\n",
            "1/1 [==============================] - 0s 454ms/step - loss: 0.0514 - accuracy: 0.9688 - val_loss: 3.4918e-04 - val_accuracy: 1.0000\n",
            "Epoch 49/200\n",
            "1/1 [==============================] - 0s 456ms/step - loss: 0.0075 - accuracy: 1.0000 - val_loss: 3.3038e-04 - val_accuracy: 1.0000\n",
            "Epoch 50/200\n",
            "1/1 [==============================] - 1s 525ms/step - loss: 0.0078 - accuracy: 1.0000 - val_loss: 3.3263e-04 - val_accuracy: 1.0000\n",
            "Epoch 51/200\n",
            "1/1 [==============================] - 0s 475ms/step - loss: 0.0081 - accuracy: 1.0000 - val_loss: 3.0069e-04 - val_accuracy: 1.0000\n",
            "Epoch 52/200\n",
            "1/1 [==============================] - 0s 467ms/step - loss: 0.0170 - accuracy: 1.0000 - val_loss: 2.2617e-04 - val_accuracy: 1.0000\n",
            "Epoch 53/200\n",
            "1/1 [==============================] - 1s 522ms/step - loss: 0.0042 - accuracy: 1.0000 - val_loss: 1.9308e-04 - val_accuracy: 1.0000\n",
            "Epoch 54/200\n",
            "1/1 [==============================] - 1s 599ms/step - loss: 0.0028 - accuracy: 1.0000 - val_loss: 2.5073e-04 - val_accuracy: 1.0000\n",
            "Epoch 54/200\n",
            "Epoch 55/200\n",
            "1/1 [==============================] - 0s 438ms/step - loss: 0.0093 - accuracy: 1.0000 - val_loss: 2.7372e-04 - val_accuracy: 1.0000\n",
            "Epoch 56/200\n",
            "Epoch 55/200\n",
            "1/1 [==============================] - 1s 579ms/step - loss: 0.0065 - accuracy: 1.0000 - val_loss: 2.1450e-04 - val_accuracy: 1.0000\n",
            "Epoch 57/200\n",
            "1/1 [==============================] - 1s 549ms/step - loss: 0.0041 - accuracy: 1.0000 - val_loss: 1.8313e-04 - val_accuracy: 1.0000\n",
            "Epoch 58/200\n",
            "1/1 [==============================] - 1s 510ms/step - loss: 0.0016 - accuracy: 1.0000 - val_loss: 2.1430e-04 - val_accuracy: 1.0000\n",
            "Epoch 59/200\n",
            "1/1 [==============================] - 1s 531ms/step - loss: 4.8875e-04 - accuracy: 1.0000 - val_loss: 2.8515e-04 - val_accuracy: 1.0000\n",
            "Epoch 60/200\n",
            "1/1 [==============================] - 1s 521ms/step - loss: 0.0015 - accuracy: 1.0000 - val_loss: 3.8592e-04 - val_accuracy: 1.0000\n",
            "Epoch 61/200\n",
            "1/1 [==============================] - 1s 524ms/step - loss: 9.5401e-04 - accuracy: 1.0000 - val_loss: 4.9319e-04 - val_accuracy: 1.0000\n",
            "Epoch 62/200\n",
            "1/1 [==============================] - 1s 512ms/step - loss: 0.0027 - accuracy: 1.0000 - val_loss: 5.1785e-04 - val_accuracy: 1.0000\n",
            "Epoch 63/200\n",
            "1/1 [==============================] - 1s 549ms/step - loss: 6.8997e-04 - accuracy: 1.0000 - val_loss: 5.2597e-04 - val_accuracy: 1.0000\n",
            "Epoch 64/200\n",
            "1/1 [==============================] - 0s 484ms/step - loss: 0.0042 - accuracy: 1.0000 - val_loss: 4.1495e-04 - val_accuracy: 1.0000\n",
            "Epoch 65/200\n",
            "1/1 [==============================] - 1s 525ms/step - loss: 3.0364e-04 - accuracy: 1.0000 - val_loss: 3.2980e-04 - val_accuracy: 1.0000\n",
            "Epoch 66/200\n",
            "1/1 [==============================] - 1s 512ms/step - loss: 9.3340e-04 - accuracy: 1.0000 - val_loss: 2.5090e-04 - val_accuracy: 1.0000\n",
            "Epoch 67/200\n",
            "1/1 [==============================] - 0s 440ms/step - loss: 7.3046e-04 - accuracy: 1.0000 - val_loss: 1.9118e-04 - val_accuracy: 1.0000\n",
            "Epoch 68/200\n",
            "1/1 [==============================] - 1s 524ms/step - loss: 9.7627e-04 - accuracy: 1.0000 - val_loss: 1.4823e-04 - val_accuracy: 1.0000\n",
            "Epoch 69/200\n",
            "1/1 [==============================] - 1s 549ms/step - loss: 2.9745e-04 - accuracy: 1.0000 - val_loss: 1.2396e-04 - val_accuracy: 1.0000\n",
            "Epoch 70/200\n",
            "1/1 [==============================] - 0s 469ms/step - loss: 1.8086e-04 - accuracy: 1.0000 - val_loss: 1.1117e-04 - val_accuracy: 1.0000\n",
            "Epoch 71/200\n",
            "1/1 [==============================] - 1s 532ms/step - loss: 2.1984e-04 - accuracy: 1.0000 - val_loss: 1.0626e-04 - val_accuracy: 1.0000\n",
            "Epoch 72/200\n",
            "1/1 [==============================] - 0s 427ms/step - loss: 3.6764e-04 - accuracy: 1.0000 - val_loss: 1.0635e-04 - val_accuracy: 1.0000\n",
            "Epoch 73/200\n",
            "Epoch 72/200\n",
            "1/1 [==============================] - 1s 604ms/step - loss: 4.3243e-04 - accuracy: 1.0000 - val_loss: 1.0889e-04 - val_accuracy: 1.0000\n",
            "Epoch 74/200\n",
            "1/1 [==============================] - 1s 534ms/step - loss: 3.8181e-04 - accuracy: 1.0000 - val_loss: 1.1175e-04 - val_accuracy: 1.0000\n",
            "Epoch 75/200\n",
            "1/1 [==============================] - 1s 514ms/step - loss: 3.6695e-04 - accuracy: 1.0000 - val_loss: 1.1415e-04 - val_accuracy: 1.0000\n",
            "Epoch 76/200\n",
            "1/1 [==============================] - 0s 464ms/step - loss: 5.3543e-04 - accuracy: 1.0000 - val_loss: 1.1425e-04 - val_accuracy: 1.0000\n",
            "Epoch 77/200\n",
            "1/1 [==============================] - 1s 565ms/step - loss: 2.7860e-04 - accuracy: 1.0000 - val_loss: 1.1281e-04 - val_accuracy: 1.0000\n",
            "Epoch 78/200\n",
            "1/1 [==============================] - 1s 563ms/step - loss: 1.6832e-04 - accuracy: 1.0000 - val_loss: 1.0930e-04 - val_accuracy: 1.0000\n",
            "Epoch 79/200\n",
            "1/1 [==============================] - 0s 499ms/step - loss: 2.1549e-04 - accuracy: 1.0000 - val_loss: 1.0522e-04 - val_accuracy: 1.0000\n",
            "Epoch 80/200\n",
            "1/1 [==============================] - 1s 514ms/step - loss: 2.8382e-04 - accuracy: 1.0000 - val_loss: 9.7803e-05 - val_accuracy: 1.0000\n",
            "Epoch 81/200\n",
            "1/1 [==============================] - 1s 547ms/step - loss: 3.6961e-04 - accuracy: 1.0000 - val_loss: 8.6211e-05 - val_accuracy: 1.0000\n",
            "Epoch 82/200\n",
            "1/1 [==============================] - 1s 550ms/step - loss: 0.0013 - accuracy: 1.0000 - val_loss: 8.4423e-05 - val_accuracy: 1.0000\n",
            "Epoch 83/200\n",
            "1/1 [==============================] - 1s 503ms/step - loss: 1.7334e-04 - accuracy: 1.0000 - val_loss: 8.2591e-05 - val_accuracy: 1.0000\n",
            "Epoch 84/200\n",
            "1/1 [==============================] - 1s 570ms/step - loss: 2.5503e-04 - accuracy: 1.0000 - val_loss: 8.0787e-05 - val_accuracy: 1.0000\n",
            "Epoch 85/200\n",
            "1/1 [==============================] - 0s 410ms/step - loss: 1.5753e-04 - accuracy: 1.0000 - val_loss: 7.9327e-05 - val_accuracy: 1.0000\n",
            "Epoch 86/200\n",
            "1/1 [==============================] - 1s 520ms/step - loss: 2.3930e-04 - accuracy: 1.0000 - val_loss: 7.8298e-05 - val_accuracy: 1.0000\n",
            "Epoch 87/200\n",
            "1/1 [==============================] - 0s 481ms/step - loss: 0.0036 - accuracy: 1.0000 - val_loss: 8.8535e-05 - val_accuracy: 1.0000\n",
            "Epoch 88/200\n",
            "1/1 [==============================] - 1s 530ms/step - loss: 2.2024e-04 - accuracy: 1.0000 - val_loss: 1.0260e-04 - val_accuracy: 1.0000\n",
            "Epoch 89/200\n",
            "1/1 [==============================] - 1s 516ms/step - loss: 1.4337e-04 - accuracy: 1.0000 - val_loss: 1.2009e-04 - val_accuracy: 1.0000\n",
            "Epoch 90/200\n",
            "1/1 [==============================] - 0s 479ms/step - loss: 7.6475e-04 - accuracy: 1.0000 - val_loss: 1.3229e-04 - val_accuracy: 1.0000\n",
            "Epoch 91/200\n",
            "\n",
            "1/1 [==============================] - 0s 468ms/step - loss: 5.3284e-04 - accuracy: 1.0000 - val_loss: 1.4277e-04 - val_accuracy: 1.0000\n",
            "Epoch 92/200\n",
            "1/1 [==============================] - 1s 635ms/step - loss: 4.2661e-04 - accuracy: 1.0000 - val_loss: 1.4962e-04 - val_accuracy: 1.0000\n",
            "Epoch 93/200\n",
            "1/1 [==============================] - 0s 380ms/step - loss: 0.0011 - accuracy: 1.0000 - val_loss: 1.4293e-04 - val_accuracy: 1.0000\n",
            "Epoch 94/200\n",
            "1/1 [==============================] - 1s 500ms/step - loss: 2.7375e-04 - accuracy: 1.0000 - val_loss: 1.3524e-04 - val_accuracy: 1.0000\n",
            "Epoch 95/200\n",
            "1/1 [==============================] - 0s 447ms/step - loss: 6.2149e-04 - accuracy: 1.0000 - val_loss: 1.2399e-04 - val_accuracy: 1.0000\n",
            "Epoch 96/200\n",
            "1/1 [==============================] - 1s 538ms/step - loss: 6.0955e-04 - accuracy: 1.0000 - val_loss: 1.1335e-04 - val_accuracy: 1.0000\n",
            "Epoch 97/200\n",
            "1/1 [==============================] - 1s 602ms/step - loss: 3.3757e-04 - accuracy: 1.0000 - val_loss: 1.0687e-04 - val_accuracy: 1.0000\n",
            "Epoch 98/200\n",
            "1/1 [==============================] - 0s 447ms/step - loss: 4.4217e-04 - accuracy: 1.0000 - val_loss: 1.0523e-04 - val_accuracy: 1.0000\n",
            "Epoch 99/200\n",
            "Epoch 98/200\n",
            "1/1 [==============================] - 0s 489ms/step - loss: 3.1111e-04 - accuracy: 1.0000 - val_loss: 1.0560e-04 - val_accuracy: 1.0000\n",
            "Epoch 100/200\n",
            "1/1 [==============================] - 0s 495ms/step - loss: 2.0563e-04 - accuracy: 1.0000 - val_loss: 1.0783e-04 - val_accuracy: 1.0000\n",
            "Epoch 101/200\n",
            "1/1 [==============================] - 1s 543ms/step - loss: 1.5321e-04 - accuracy: 1.0000 - val_loss: 1.1134e-04 - val_accuracy: 1.0000\n",
            "Epoch 102/200\n",
            "1/1 [==============================] - 1s 514ms/step - loss: 1.2957e-04 - accuracy: 1.0000 - val_loss: 1.1499e-04 - val_accuracy: 1.0000\n",
            "Epoch 103/200\n",
            "1/1 [==============================] - 1s 527ms/step - loss: 1.6470e-04 - accuracy: 1.0000 - val_loss: 1.1843e-04 - val_accuracy: 1.0000\n",
            "Epoch 104/200\n",
            "1/1 [==============================] - 0s 455ms/step - loss: 9.7605e-05 - accuracy: 1.0000 - val_loss: 1.2100e-04 - val_accuracy: 1.0000\n",
            "Epoch 105/200\n",
            "1/1 [==============================] - 1s 614ms/step - loss: 1.0906e-04 - accuracy: 1.0000 - val_loss: 1.2250e-04 - val_accuracy: 1.0000\n",
            "Epoch 106/200\n",
            "1/1 [==============================] - 0s 373ms/step - loss: 1.1653e-04 - accuracy: 1.0000 - val_loss: 1.2258e-04 - val_accuracy: 1.0000\n",
            "Epoch 107/200\n",
            "1/1 [==============================] - 1s 507ms/step - loss: 0.0013 - accuracy: 1.0000 - val_loss: 1.1254e-04 - val_accuracy: 1.0000\n",
            "Epoch 108/200\n",
            "1/1 [==============================] - 1s 507ms/step - loss: 5.2787e-05 - accuracy: 1.0000 - val_loss: 1.0422e-04 - val_accuracy: 1.0000\n",
            "Epoch 109/200\n",
            "1/1 [==============================] - 1s 559ms/step - loss: 1.3619e-04 - accuracy: 1.0000 - val_loss: 9.6668e-05 - val_accuracy: 1.0000\n",
            "Epoch 110/200\n",
            "1/1 [==============================] - 0s 463ms/step - loss: 1.3051e-04 - accuracy: 1.0000 - val_loss: 8.9952e-05 - val_accuracy: 1.0000\n",
            "Epoch 111/200\n",
            "1/1 [==============================] - 0s 495ms/step - loss: 8.6662e-05 - accuracy: 1.0000 - val_loss: 8.4367e-05 - val_accuracy: 1.0000\n",
            "Epoch 112/200\n",
            "1/1 [==============================] - 1s 544ms/step - loss: 9.9707e-05 - accuracy: 1.0000 - val_loss: 7.9572e-05 - val_accuracy: 1.0000\n",
            "Epoch 113/200\n",
            "1/1 [==============================] - 1s 515ms/step - loss: 5.9728e-05 - accuracy: 1.0000 - val_loss: 7.5610e-05 - val_accuracy: 1.0000\n",
            "Epoch 113/200\n",
            "Epoch 114/200\n",
            "1/1 [==============================] - 0s 411ms/step - loss: 1.1044e-04 - accuracy: 1.0000 - val_loss: 7.2214e-05 - val_accuracy: 1.0000\n",
            "Epoch 115/200\n",
            "1/1 [==============================] - 1s 535ms/step - loss: 9.6467e-05 - accuracy: 1.0000 - val_loss: 6.9504e-05 - val_accuracy: 1.0000\n",
            "Epoch 116/200\n",
            "1/1 [==============================] - 0s 459ms/step - loss: 5.6053e-05 - accuracy: 1.0000 - val_loss: 6.7806e-05 - val_accuracy: 1.0000\n",
            "Epoch 117/200\n",
            "1/1 [==============================] - 1s 523ms/step - loss: 6.3921e-05 - accuracy: 1.0000 - val_loss: 6.7598e-05 - val_accuracy: 1.0000\n",
            "Epoch 118/200\n",
            "1/1 [==============================] - 1s 595ms/step - loss: 9.1843e-05 - accuracy: 1.0000 - val_loss: 6.7449e-05 - val_accuracy: 1.0000\n",
            "Epoch 119/200\n",
            "1/1 [==============================] - 0s 406ms/step - loss: 8.1491e-05 - accuracy: 1.0000 - val_loss: 6.7256e-05 - val_accuracy: 1.0000\n",
            "Epoch 120/200\n",
            "1/1 [==============================] - 1s 506ms/step - loss: 5.0925e-05 - accuracy: 1.0000 - val_loss: 6.7017e-05 - val_accuracy: 1.0000\n",
            "Epoch 121/200\n",
            "1/1 [==============================] - 1s 522ms/step - loss: 7.7909e-05 - accuracy: 1.0000 - val_loss: 6.6660e-05 - val_accuracy: 1.0000\n",
            "Epoch 122/200\n",
            "1/1 [==============================] - 1s 508ms/step - loss: 2.4480e-04 - accuracy: 1.0000 - val_loss: 6.6377e-05 - val_accuracy: 1.0000\n",
            "Epoch 123/200\n",
            "1/1 [==============================] - 1s 516ms/step - loss: 1.3044e-04 - accuracy: 1.0000 - val_loss: 6.6020e-05 - val_accuracy: 1.0000\n",
            "Epoch 124/200\n",
            "1/1 [==============================] - 1s 555ms/step - loss: 2.0437e-04 - accuracy: 1.0000 - val_loss: 6.5722e-05 - val_accuracy: 1.0000\n",
            "Epoch 125/200\n",
            "1/1 [==============================] - 1s 526ms/step - loss: 2.3634e-04 - accuracy: 1.0000 - val_loss: 6.5528e-05 - val_accuracy: 1.0000\n",
            "Epoch 126/200\n",
            "1/1 [==============================] - 0s 491ms/step - loss: 1.1584e-04 - accuracy: 1.0000 - val_loss: 6.4903e-05 - val_accuracy: 1.0000\n",
            "Epoch 127/200\n",
            "1/1 [==============================] - 1s 524ms/step - loss: 7.3063e-05 - accuracy: 1.0000 - val_loss: 6.4173e-05 - val_accuracy: 1.0000\n",
            "Epoch 128/200\n",
            "1/1 [==============================] - 1s 514ms/step - loss: 8.7299e-05 - accuracy: 1.0000 - val_loss: 6.3443e-05 - val_accuracy: 1.0000\n",
            "Epoch 129/200\n",
            "1/1 [==============================] - 1s 533ms/step - loss: 9.1905e-05 - accuracy: 1.0000 - val_loss: 6.2534e-05 - val_accuracy: 1.0000\n",
            "Epoch 130/200\n",
            "1/1 [==============================] - 1s 546ms/step - loss: 8.5853e-05 - accuracy: 1.0000 - val_loss: 6.1565e-05 - val_accuracy: 1.0000\n",
            "Epoch 131/200\n",
            "1/1 [==============================] - 0s 450ms/step - loss: 7.2064e-05 - accuracy: 1.0000 - val_loss: 6.0508e-05 - val_accuracy: 1.0000\n",
            "Epoch 132/200\n",
            "1/1 [==============================] - 1s 578ms/step - loss: 7.7587e-05 - accuracy: 1.0000 - val_loss: 5.9390e-05 - val_accuracy: 1.0000\n",
            "Epoch 133/200\n",
            "1/1 [==============================] - 0s 390ms/step - loss: 1.0189e-04 - accuracy: 1.0000 - val_loss: 5.8153e-05 - val_accuracy: 1.0000\n",
            "Epoch 134/200\n",
            "1/1 [==============================] - 1s 622ms/step - loss: 4.3664e-05 - accuracy: 1.0000 - val_loss: 5.6991e-05 - val_accuracy: 1.0000\n",
            "Epoch 135/200\n",
            "1/1 [==============================] - 0s 389ms/step - loss: 6.5949e-05 - accuracy: 1.0000 - val_loss: 5.5829e-05 - val_accuracy: 1.0000\n",
            "Epoch 136/200\n",
            "1/1 [==============================] - 1s 508ms/step - loss: 7.1969e-05 - accuracy: 1.0000 - val_loss: 5.4711e-05 - val_accuracy: 1.0000\n",
            "Epoch 137/200\n",
            "1/1 [==============================] - 1s 540ms/step - loss: 9.6408e-05 - accuracy: 1.0000 - val_loss: 5.3817e-05 - val_accuracy: 1.0000\n",
            "Epoch 138/200\n",
            "1/1 [==============================] - 1s 501ms/step - loss: 4.7845e-04 - accuracy: 1.0000 - val_loss: 5.3073e-05 - val_accuracy: 1.0000\n",
            "Epoch 139/200\n",
            "1/1 [==============================] - 1s 541ms/step - loss: 6.7780e-05 - accuracy: 1.0000 - val_loss: 5.2268e-05 - val_accuracy: 1.0000\n",
            "Epoch 140/200\n",
            "1/1 [==============================] - 0s 478ms/step - loss: 6.2851e-05 - accuracy: 1.0000 - val_loss: 5.1464e-05 - val_accuracy: 1.0000\n",
            "Epoch 141/200\n",
            "1/1 [==============================] - 1s 514ms/step - loss: 1.0966e-04 - accuracy: 1.0000 - val_loss: 5.0644e-05 - val_accuracy: 1.0000\n",
            "Epoch 142/200\n",
            "1/1 [==============================] - 1s 523ms/step - loss: 7.0416e-05 - accuracy: 1.0000 - val_loss: 4.9869e-05 - val_accuracy: 1.0000\n",
            "Epoch 143/200\n",
            "1/1 [==============================] - 1s 525ms/step - loss: 8.4463e-05 - accuracy: 1.0000 - val_loss: 4.9110e-05 - val_accuracy: 1.0000\n",
            "Epoch 144/200\n",
            "1/1 [==============================] - 1s 537ms/step - loss: 9.7043e-05 - accuracy: 1.0000 - val_loss: 4.8290e-05 - val_accuracy: 1.0000\n",
            "Epoch 145/200\n",
            "1/1 [==============================] - 1s 529ms/step - loss: 1.1179e-04 - accuracy: 1.0000 - val_loss: 4.7500e-05 - val_accuracy: 1.0000\n",
            "Epoch 146/200\n",
            "1/1 [==============================] - 1s 535ms/step - loss: 6.9217e-05 - accuracy: 1.0000 - val_loss: 4.6755e-05 - val_accuracy: 1.0000\n",
            "Epoch 147/200\n",
            "Epoch 146/200\n",
            "1/1 [==============================] - 1s 608ms/step - loss: 5.8610e-05 - accuracy: 1.0000 - val_loss: 4.6055e-05 - val_accuracy: 1.0000\n",
            "Epoch 148/200\n",
            "1/1 [==============================] - 0s 357ms/step - loss: 1.0420e-04 - accuracy: 1.0000 - val_loss: 4.5459e-05 - val_accuracy: 1.0000\n",
            "Epoch 149/200\n",
            "1/1 [==============================] - 1s 521ms/step - loss: 7.7090e-05 - accuracy: 1.0000 - val_loss: 4.4804e-05 - val_accuracy: 1.0000\n",
            "Epoch 150/200\n",
            "1/1 [==============================] - 1s 624ms/step - loss: 6.4005e-05 - accuracy: 1.0000 - val_loss: 4.4401e-05 - val_accuracy: 1.0000\n",
            "Epoch 151/200\n",
            "1/1 [==============================] - 0s 426ms/step - loss: 3.3139e-05 - accuracy: 1.0000 - val_loss: 4.3925e-05 - val_accuracy: 1.0000\n",
            "Epoch 152/200\n",
            "Epoch 151/200\n",
            "1/1 [==============================] - 1s 509ms/step - loss: 6.1013e-05 - accuracy: 1.0000 - val_loss: 4.3493e-05 - val_accuracy: 1.0000\n",
            "Epoch 153/200\n",
            "1/1 [==============================] - 1s 517ms/step - loss: 8.2051e-05 - accuracy: 1.0000 - val_loss: 4.3075e-05 - val_accuracy: 1.0000\n",
            "Epoch 154/200\n",
            "1/1 [==============================] - 1s 574ms/step - loss: 3.8686e-04 - accuracy: 1.0000 - val_loss: 4.2569e-05 - val_accuracy: 1.0000\n",
            "Epoch 155/200\n",
            "1/1 [==============================] - 0s 408ms/step - loss: 1.1450e-04 - accuracy: 1.0000 - val_loss: 4.1854e-05 - val_accuracy: 1.0000\n",
            "Epoch 156/200\n",
            "1/1 [==============================] - 1s 506ms/step - loss: 1.0298e-04 - accuracy: 1.0000 - val_loss: 4.1243e-05 - val_accuracy: 1.0000\n",
            "Epoch 157/200\n",
            "1/1 [==============================] - 1s 542ms/step - loss: 6.3524e-05 - accuracy: 1.0000 - val_loss: 4.0617e-05 - val_accuracy: 1.0000\n",
            "Epoch 158/200\n",
            "1/1 [==============================] - 1s 509ms/step - loss: 8.0320e-05 - accuracy: 1.0000 - val_loss: 4.0140e-05 - val_accuracy: 1.0000\n",
            "Epoch 159/200\n",
            "1/1 [==============================] - 0s 485ms/step - loss: 6.7480e-05 - accuracy: 1.0000 - val_loss: 3.9738e-05 - val_accuracy: 1.0000\n",
            "Epoch 160/200\n",
            "1/1 [==============================] - 1s 540ms/step - loss: 3.6942e-05 - accuracy: 1.0000 - val_loss: 3.9291e-05 - val_accuracy: 1.0000\n",
            "Epoch 161/200\n",
            "1/1 [==============================] - 1s 621ms/step - loss: 7.0346e-05 - accuracy: 1.0000 - val_loss: 3.8934e-05 - val_accuracy: 1.0000\n",
            "Epoch 162/200\n",
            "1/1 [==============================] - 0s 415ms/step - loss: 4.5602e-05 - accuracy: 1.0000 - val_loss: 3.8576e-05 - val_accuracy: 1.0000\n",
            "Epoch 163/200\n",
            "\n",
            "1/1 [==============================] - 1s 507ms/step - loss: 5.5756e-05 - accuracy: 1.0000 - val_loss: 3.8204e-05 - val_accuracy: 1.0000\n",
            "Epoch 164/200\n",
            "1/1 [==============================] - 1s 540ms/step - loss: 2.0622e-04 - accuracy: 1.0000 - val_loss: 3.7846e-05 - val_accuracy: 1.0000\n",
            "Epoch 165/200\n",
            "1/1 [==============================] - 1s 523ms/step - loss: 5.7113e-05 - accuracy: 1.0000 - val_loss: 3.7548e-05 - val_accuracy: 1.0000\n",
            "Epoch 166/200\n",
            "1/1 [==============================] - 1s 521ms/step - loss: 6.2885e-05 - accuracy: 1.0000 - val_loss: 3.7250e-05 - val_accuracy: 1.0000\n",
            "Epoch 167/200\n",
            "1/1 [==============================] - 0s 427ms/step - loss: 9.9725e-05 - accuracy: 1.0000 - val_loss: 3.6833e-05 - val_accuracy: 1.0000\n",
            "Epoch 168/200\n",
            "1/1 [==============================] - 1s 550ms/step - loss: 8.6363e-05 - accuracy: 1.0000 - val_loss: 3.6550e-05 - val_accuracy: 1.0000\n",
            "Epoch 169/200\n",
            "1/1 [==============================] - 0s 435ms/step - loss: 7.2207e-05 - accuracy: 1.0000 - val_loss: 3.6192e-05 - val_accuracy: 1.0000\n",
            "Epoch 170/200\n",
            "1/1 [==============================] - 1s 554ms/step - loss: 2.3926e-04 - accuracy: 1.0000 - val_loss: 3.5894e-05 - val_accuracy: 1.0000\n",
            "Epoch 171/200\n",
            "1/1 [==============================] - 1s 522ms/step - loss: 6.9880e-05 - accuracy: 1.0000 - val_loss: 3.5641e-05 - val_accuracy: 1.0000\n",
            "Epoch 172/200\n",
            "1/1 [==============================] - 0s 418ms/step - loss: 8.1073e-05 - accuracy: 1.0000 - val_loss: 3.5358e-05 - val_accuracy: 1.0000\n",
            "Epoch 173/200\n",
            "1/1 [==============================] - 0s 460ms/step - loss: 2.4426e-05 - accuracy: 1.0000 - val_loss: 3.5075e-05 - val_accuracy: 1.0000\n",
            "Epoch 174/200\n",
            "1/1 [==============================] - 0s 476ms/step - loss: 8.7045e-05 - accuracy: 1.0000 - val_loss: 3.4807e-05 - val_accuracy: 1.0000\n",
            "Epoch 175/200\n",
            "1/1 [==============================] - 1s 633ms/step - loss: 3.5445e-04 - accuracy: 1.0000 - val_loss: 3.4643e-05 - val_accuracy: 1.0000\n",
            "Epoch 176/200\n",
            "1/1 [==============================] - 0s 388ms/step - loss: 5.2534e-05 - accuracy: 1.0000 - val_loss: 3.4494e-05 - val_accuracy: 1.0000\n",
            "Epoch 177/200\n",
            "1/1 [==============================] - 1s 513ms/step - loss: 6.4866e-05 - accuracy: 1.0000 - val_loss: 3.4315e-05 - val_accuracy: 1.0000\n",
            "Epoch 178/200\n",
            "1/1 [==============================] - 1s 523ms/step - loss: 6.3437e-05 - accuracy: 1.0000 - val_loss: 3.4152e-05 - val_accuracy: 1.0000\n",
            "Epoch 179/200\n",
            "1/1 [==============================] - 1s 514ms/step - loss: 3.5083e-05 - accuracy: 1.0000 - val_loss: 3.3883e-05 - val_accuracy: 1.0000\n",
            "Epoch 180/200\n",
            "1/1 [==============================] - 1s 542ms/step - loss: 8.3022e-05 - accuracy: 1.0000 - val_loss: 3.3645e-05 - val_accuracy: 1.0000\n",
            "Epoch 181/200\n",
            "1/1 [==============================] - 1s 553ms/step - loss: 4.0645e-05 - accuracy: 1.0000 - val_loss: 3.3422e-05 - val_accuracy: 1.0000\n",
            "Epoch 182/200\n",
            "1/1 [==============================] - 1s 617ms/step - loss: 5.8451e-05 - accuracy: 1.0000 - val_loss: 3.3168e-05 - val_accuracy: 1.0000\n",
            "Epoch 183/200\n",
            "1/1 [==============================] - 0s 402ms/step - loss: 7.1962e-05 - accuracy: 1.0000 - val_loss: 3.2855e-05 - val_accuracy: 1.0000\n",
            "Epoch 184/200\n",
            "1/1 [==============================] - 1s 514ms/step - loss: 7.8689e-05 - accuracy: 1.0000 - val_loss: 3.2557e-05 - val_accuracy: 1.0000\n",
            "Epoch 185/200\n",
            "1/1 [==============================] - 1s 576ms/step - loss: 2.8044e-04 - accuracy: 1.0000 - val_loss: 3.2468e-05 - val_accuracy: 1.0000\n",
            "Epoch 186/200\n",
            "1/1 [==============================] - 0s 407ms/step - loss: 6.6988e-05 - accuracy: 1.0000 - val_loss: 3.2364e-05 - val_accuracy: 1.0000\n",
            "Epoch 187/200\n",
            "1/1 [==============================] - 1s 509ms/step - loss: 1.1373e-04 - accuracy: 1.0000 - val_loss: 3.2230e-05 - val_accuracy: 1.0000\n",
            "Epoch 188/200\n",
            "1/1 [==============================] - 1s 509ms/step - loss: 5.4762e-05 - accuracy: 1.0000 - val_loss: 3.2051e-05 - val_accuracy: 1.0000\n",
            "Epoch 189/200\n",
            "1/1 [==============================] - 1s 560ms/step - loss: 6.6692e-05 - accuracy: 1.0000 - val_loss: 3.1797e-05 - val_accuracy: 1.0000\n",
            "Epoch 190/200\n",
            "1/1 [==============================] - 1s 505ms/step - loss: 8.0963e-05 - accuracy: 1.0000 - val_loss: 3.1604e-05 - val_accuracy: 1.0000\n",
            "Epoch 191/200\n",
            "1/1 [==============================] - 0s 407ms/step - loss: 7.9763e-05 - accuracy: 1.0000 - val_loss: 3.1306e-05 - val_accuracy: 1.0000\n",
            "Epoch 192/200\n",
            "1/1 [==============================] - 1s 551ms/step - loss: 6.8646e-05 - accuracy: 1.0000 - val_loss: 3.0978e-05 - val_accuracy: 1.0000\n",
            "Epoch 193/200\n",
            "1/1 [==============================] - 1s 564ms/step - loss: 5.4053e-05 - accuracy: 1.0000 - val_loss: 3.0665e-05 - val_accuracy: 1.0000\n",
            "Epoch 194/200\n",
            "1/1 [==============================] - 1s 570ms/step - loss: 7.6579e-05 - accuracy: 1.0000 - val_loss: 3.0352e-05 - val_accuracy: 1.0000\n",
            "Epoch 195/200\n",
            "1/1 [==============================] - 0s 437ms/step - loss: 3.1842e-05 - accuracy: 1.0000 - val_loss: 3.0039e-05 - val_accuracy: 1.0000\n",
            "Epoch 196/200\n",
            "1/1 [==============================] - 0s 496ms/step - loss: 6.7959e-05 - accuracy: 1.0000 - val_loss: 2.9637e-05 - val_accuracy: 1.0000\n",
            "Epoch 197/200\n",
            "1/1 [==============================] - 1s 537ms/step - loss: 6.4288e-05 - accuracy: 1.0000 - val_loss: 2.9339e-05 - val_accuracy: 1.0000\n",
            "Epoch 198/200\n",
            "1/1 [==============================] - 1s 550ms/step - loss: 8.9180e-05 - accuracy: 1.0000 - val_loss: 2.9041e-05 - val_accuracy: 1.0000\n",
            "Epoch 199/200\n",
            "1/1 [==============================] - 1s 526ms/step - loss: 6.3660e-05 - accuracy: 1.0000 - val_loss: 2.8772e-05 - val_accuracy: 1.0000\n",
            "Epoch 200/200\n",
            "1/1 [==============================] - 1s 597ms/step - loss: 8.9732e-05 - accuracy: 1.0000 - val_loss: 2.8474e-05 - val_accuracy: 1.0000\n"
          ],
          "name": "stdout"
        },
        {
          "output_type": "execute_result",
          "data": {
            "text/plain": [
              "<keras.callbacks.callbacks.History at 0x7f0267c5af98>"
            ]
          },
          "metadata": {
            "tags": []
          },
          "execution_count": 100
        }
      ]
    },
    {
      "cell_type": "code",
      "metadata": {
        "id": "z9GzcnPiOy1e",
        "colab_type": "code",
        "colab": {
          "base_uri": "https://localhost:8080/",
          "height": 50
        },
        "outputId": "939ec4c2-610a-4f0d-af06-a360ee3b5303"
      },
      "source": [
        "#Below result is run of 50 epoch\n",
        "results = model.evaluate_generator(training_set, verbose=1)\n",
        "dict(zip(model.metrics_names, results))"
      ],
      "execution_count": 101,
      "outputs": [
        {
          "output_type": "stream",
          "text": [
            "\r1/1 [==============================] - 0s 264ms/step\n"
          ],
          "name": "stdout"
        },
        {
          "output_type": "execute_result",
          "data": {
            "text/plain": [
              "{'accuracy': 1.0, 'loss': 6.0564500017790124e-05}"
            ]
          },
          "metadata": {
            "tags": []
          },
          "execution_count": 101
        }
      ]
    },
    {
      "cell_type": "code",
      "metadata": {
        "id": "wFiyGkXZO6Ji",
        "colab_type": "code",
        "colab": {
          "base_uri": "https://localhost:8080/",
          "height": 50
        },
        "outputId": "3977ac0f-00ca-4b81-b4a4-a0af00d4eabe"
      },
      "source": [
        "#Below result is run of 50 epoch\n",
        "results = model.evaluate_generator(test_set, verbose=1)\n",
        "dict(zip(model.metrics_names, results))"
      ],
      "execution_count": 102,
      "outputs": [
        {
          "output_type": "stream",
          "text": [
            "\r1/1 [==============================] - 0s 44ms/step\n"
          ],
          "name": "stdout"
        },
        {
          "output_type": "execute_result",
          "data": {
            "text/plain": [
              "{'accuracy': 1.0, 'loss': 2.8474409191403538e-05}"
            ]
          },
          "metadata": {
            "tags": []
          },
          "execution_count": 102
        }
      ]
    },
    {
      "cell_type": "code",
      "metadata": {
        "id": "5Isbe3m8bj6r",
        "colab_type": "code",
        "colab": {
          "base_uri": "https://localhost:8080/",
          "height": 346
        },
        "outputId": "84d0a456-82ea-4e44-9233-fa09a7cec27f"
      },
      "source": [
        "import cv2\n",
        "from google.colab.patches import cv2_imshow\n",
        "img = cv2.imread('content/Images/Images/Test/Turtle/img20200418194928.jpg',1)\n",
        "cv2_imshow(cv2.rotate(img,rotateCode=0))\n",
        "print('type::',type(img))\n",
        "\n",
        "\n"
      ],
      "execution_count": 107,
      "outputs": [
        {
          "output_type": "error",
          "ename": "AttributeError",
          "evalue": "ignored",
          "traceback": [
            "\u001b[0;31m---------------------------------------------------------------------------\u001b[0m",
            "\u001b[0;31mAttributeError\u001b[0m                            Traceback (most recent call last)",
            "\u001b[0;32m<ipython-input-107-268582735df5>\u001b[0m in \u001b[0;36m<module>\u001b[0;34m()\u001b[0m\n\u001b[1;32m      2\u001b[0m \u001b[0;32mfrom\u001b[0m \u001b[0mgoogle\u001b[0m\u001b[0;34m.\u001b[0m\u001b[0mcolab\u001b[0m\u001b[0;34m.\u001b[0m\u001b[0mpatches\u001b[0m \u001b[0;32mimport\u001b[0m \u001b[0mcv2_imshow\u001b[0m\u001b[0;34m\u001b[0m\u001b[0;34m\u001b[0m\u001b[0m\n\u001b[1;32m      3\u001b[0m \u001b[0mimg\u001b[0m \u001b[0;34m=\u001b[0m \u001b[0mcv2\u001b[0m\u001b[0;34m.\u001b[0m\u001b[0mimread\u001b[0m\u001b[0;34m(\u001b[0m\u001b[0;34m'content/Images/Images/Test/Turtle/img20200418194928.jpg'\u001b[0m\u001b[0;34m,\u001b[0m\u001b[0;36m1\u001b[0m\u001b[0;34m)\u001b[0m\u001b[0;34m\u001b[0m\u001b[0;34m\u001b[0m\u001b[0m\n\u001b[0;32m----> 4\u001b[0;31m \u001b[0mcv2_imshow\u001b[0m\u001b[0;34m(\u001b[0m\u001b[0mcv2\u001b[0m\u001b[0;34m.\u001b[0m\u001b[0mrotate\u001b[0m\u001b[0;34m(\u001b[0m\u001b[0mimg\u001b[0m\u001b[0;34m,\u001b[0m\u001b[0mrotateCode\u001b[0m\u001b[0;34m=\u001b[0m\u001b[0;36m0\u001b[0m\u001b[0;34m)\u001b[0m\u001b[0;34m)\u001b[0m\u001b[0;34m\u001b[0m\u001b[0;34m\u001b[0m\u001b[0m\n\u001b[0m\u001b[1;32m      5\u001b[0m \u001b[0mprint\u001b[0m\u001b[0;34m(\u001b[0m\u001b[0;34m'type::'\u001b[0m\u001b[0;34m,\u001b[0m\u001b[0mtype\u001b[0m\u001b[0;34m(\u001b[0m\u001b[0mimg\u001b[0m\u001b[0;34m)\u001b[0m\u001b[0;34m)\u001b[0m\u001b[0;34m\u001b[0m\u001b[0;34m\u001b[0m\u001b[0m\n\u001b[1;32m      6\u001b[0m \u001b[0;34m\u001b[0m\u001b[0m\n",
            "\u001b[0;32m/usr/local/lib/python3.6/dist-packages/google/colab/patches/__init__.py\u001b[0m in \u001b[0;36mcv2_imshow\u001b[0;34m(a)\u001b[0m\n\u001b[1;32m     20\u001b[0m       \u001b[0mimage\u001b[0m\u001b[0;34m.\u001b[0m\u001b[0;34m\u001b[0m\u001b[0;34m\u001b[0m\u001b[0m\n\u001b[1;32m     21\u001b[0m   \"\"\"\n\u001b[0;32m---> 22\u001b[0;31m   \u001b[0ma\u001b[0m \u001b[0;34m=\u001b[0m \u001b[0ma\u001b[0m\u001b[0;34m.\u001b[0m\u001b[0mclip\u001b[0m\u001b[0;34m(\u001b[0m\u001b[0;36m0\u001b[0m\u001b[0;34m,\u001b[0m \u001b[0;36m255\u001b[0m\u001b[0;34m)\u001b[0m\u001b[0;34m.\u001b[0m\u001b[0mastype\u001b[0m\u001b[0;34m(\u001b[0m\u001b[0;34m'uint8'\u001b[0m\u001b[0;34m)\u001b[0m\u001b[0;34m\u001b[0m\u001b[0;34m\u001b[0m\u001b[0m\n\u001b[0m\u001b[1;32m     23\u001b[0m   \u001b[0;31m# cv2 stores colors as BGR; convert to RGB\u001b[0m\u001b[0;34m\u001b[0m\u001b[0;34m\u001b[0m\u001b[0;34m\u001b[0m\u001b[0m\n\u001b[1;32m     24\u001b[0m   \u001b[0;32mif\u001b[0m \u001b[0ma\u001b[0m\u001b[0;34m.\u001b[0m\u001b[0mndim\u001b[0m \u001b[0;34m==\u001b[0m \u001b[0;36m3\u001b[0m\u001b[0;34m:\u001b[0m\u001b[0;34m\u001b[0m\u001b[0;34m\u001b[0m\u001b[0m\n",
            "\u001b[0;31mAttributeError\u001b[0m: 'NoneType' object has no attribute 'clip'"
          ]
        }
      ]
    }
  ]
}